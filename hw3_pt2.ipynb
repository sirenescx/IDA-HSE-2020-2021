{
  "nbformat": 4,
  "nbformat_minor": 0,
  "metadata": {
    "kernelspec": {
      "display_name": "Python 3",
      "language": "python",
      "name": "python3"
    },
    "language_info": {
      "codemirror_mode": {
        "name": "ipython",
        "version": 3
      },
      "file_extension": ".py",
      "mimetype": "text/x-python",
      "name": "python",
      "nbconvert_exporter": "python",
      "pygments_lexer": "ipython3",
      "version": "3.9.0"
    },
    "colab": {
      "name": "hw3.ipynb",
      "provenance": []
    },
    "accelerator": "GPU"
  },
  "cells": [
    {
      "cell_type": "markdown",
      "metadata": {
        "id": "CfcyuiABzU1t"
      },
      "source": [
        "# Домашнее задание 3. \n",
        "\n",
        "## Предсказание пользовательской оценки отеля по тексту отзыва."
      ]
    },
    {
      "cell_type": "markdown",
      "metadata": {
        "id": "h9iDQdBQzU1z"
      },
      "source": [
        "Мы собрали для вас отзывы по 1500 отелям из совершенно разных уголков мира. Что это за отели - секрет. Вам дан текст отзыва и пользовательская оценка отеля. Ваша задача - научиться предсказывать оценку отеля по отзыву. Данные можно скачать [тут](https://www.kaggle.com/c/hseds-texts-2020/data?select=train.csv)."
      ]
    },
    {
      "cell_type": "markdown",
      "metadata": {
        "id": "NhACMblCzU1z"
      },
      "source": [
        "Главная метрика - Mean Absolute Error (MAE). Во всех частях домашней работы вам нужно получить значение MAE не превышающее 1. В противном случае мы будем вынуждены не засчитать задание :( "
      ]
    },
    {
      "cell_type": "markdown",
      "metadata": {
        "id": "sp1oTVWzzU1z"
      },
      "source": [
        "Для измерения качества вашей модели используйте разбиение данных на train и test и замеряйте качество на тестовой части."
      ]
    },
    {
      "cell_type": "markdown",
      "metadata": {
        "id": "Z6GbtEGqzU10"
      },
      "source": [
        "#### Про данные:\n",
        "Каждое ревью состоит из двух текстов: positive и negative - плюсы и минусы отеля. В столбце score находится оценка пользователя - вещественное число 0 до 10. Вам нужно извлечь признаки из этих текстов и предсказать по ним оценку."
      ]
    },
    {
      "cell_type": "markdown",
      "metadata": {
        "id": "lQadA0yazU10"
      },
      "source": [
        "Удачи! 💪"
      ]
    },
    {
      "cell_type": "markdown",
      "metadata": {
        "id": "NhSX8ZNOzU10"
      },
      "source": [
        "#### Использовать внешние данные для обучения строго запрещено. Можно использовать предобученные модели из torchvision."
      ]
    },
    {
      "cell_type": "code",
      "metadata": {
        "id": "9natonwP5h0z"
      },
      "source": [
        "# imports\n",
        "\n",
        "import os\n",
        "import re\n",
        "import sys\n",
        "import nltk\n",
        "import torch\n",
        "import string\n",
        "import numpy as np\n",
        "import pandas as pd\n",
        "from torch import nn\n",
        "from tqdm import tqdm\n",
        "from torch import cuda\n",
        "from google.colab import files\n",
        "from torch.nn import functional as F\n",
        "from nltk.tokenize import word_tokenize\n",
        "from torch.nn.utils.rnn import pad_sequence\n",
        "from sklearn.linear_model import SGDRegressor\n",
        "from sklearn.metrics import mean_absolute_error\n",
        "from sklearn.model_selection import train_test_split\n",
        "from sklearn.feature_extraction.text import TfidfVectorizer"
      ],
      "execution_count": 3,
      "outputs": []
    },
    {
      "cell_type": "code",
      "metadata": {
        "colab": {
          "resources": {
            "http://localhost:8080/nbextensions/google.colab/files.js": {
              "data": "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",
              "ok": true,
              "headers": [
                [
                  "content-type",
                  "application/javascript"
                ]
              ],
              "status": 200,
              "status_text": ""
            }
          },
          "base_uri": "https://localhost:8080/",
          "height": 89
        },
        "id": "na__IWfGCpls",
        "outputId": "bbedccb5-9d96-4653-d798-d3c0db0b9044"
      },
      "source": [
        "files.upload()"
      ],
      "execution_count": 4,
      "outputs": [
        {
          "output_type": "display_data",
          "data": {
            "text/html": [
              "\n",
              "     <input type=\"file\" id=\"files-d7de4279-5578-461a-b75b-102e8c0c8c8a\" name=\"files[]\" multiple disabled\n",
              "        style=\"border:none\" />\n",
              "     <output id=\"result-d7de4279-5578-461a-b75b-102e8c0c8c8a\">\n",
              "      Upload widget is only available when the cell has been executed in the\n",
              "      current browser session. Please rerun this cell to enable.\n",
              "      </output>\n",
              "      <script src=\"/nbextensions/google.colab/files.js\"></script> "
            ],
            "text/plain": [
              "<IPython.core.display.HTML object>"
            ]
          },
          "metadata": {
            "tags": []
          }
        },
        {
          "output_type": "stream",
          "text": [
            "Saving kaggle.json to kaggle.json\n"
          ],
          "name": "stdout"
        },
        {
          "output_type": "execute_result",
          "data": {
            "text/plain": [
              "{'kaggle.json': b'{\"username\":\"mariamanakhova\",\"key\":\"bed2ca6fda8d9407a73f8e0104d14491\"}'}"
            ]
          },
          "metadata": {
            "tags": []
          },
          "execution_count": 4
        }
      ]
    },
    {
      "cell_type": "code",
      "metadata": {
        "id": "1VSuL73yDFT1",
        "colab": {
          "base_uri": "https://localhost:8080/"
        },
        "outputId": "6b68df0c-5d4d-451a-aef0-1baf3493257d"
      },
      "source": [
        "!mkdir -p ~/.kaggle\n",
        "!cp kaggle.json ~/.kaggle/\n",
        "!ls ~/.kaggle\n",
        "!chmod 600 /root/.kaggle/kaggle.json"
      ],
      "execution_count": 5,
      "outputs": [
        {
          "output_type": "stream",
          "text": [
            "kaggle.json\n"
          ],
          "name": "stdout"
        }
      ]
    },
    {
      "cell_type": "code",
      "metadata": {
        "colab": {
          "base_uri": "https://localhost:8080/"
        },
        "id": "QakMKmJLBcOt",
        "outputId": "2966721a-d34e-4939-a1c9-fbfff22fbdb3"
      },
      "source": [
        "!pip install -q kaggle\n",
        "!kaggle competitions download -c hseds-texts-2020\n",
        "!unzip -q train.csv.zip -d .\n",
        "!unzip -q test.csv.zip -d ."
      ],
      "execution_count": 6,
      "outputs": [
        {
          "output_type": "stream",
          "text": [
            "Warning: Looks like you're using an outdated API Version, please consider updating (server 1.5.10 / client 1.5.4)\n",
            "Downloading sample_submission%281%29.csv to /content\n",
            "  0% 0.00/723k [00:00<?, ?B/s]\n",
            "100% 723k/723k [00:00<00:00, 49.5MB/s]\n",
            "Downloading test.csv.zip to /content\n",
            "  0% 0.00/1.75M [00:00<?, ?B/s]\n",
            "100% 1.75M/1.75M [00:00<00:00, 118MB/s]\n",
            "Downloading train.csv.zip to /content\n",
            "  0% 0.00/8.78M [00:00<?, ?B/s]\n",
            "100% 8.78M/8.78M [00:00<00:00, 139MB/s]\n"
          ],
          "name": "stdout"
        }
      ]
    },
    {
      "cell_type": "code",
      "metadata": {
        "id": "MsuVuMGPzU10"
      },
      "source": [
        "PATH_TO_TRAIN_DATA = 'train.csv'"
      ],
      "execution_count": 7,
      "outputs": []
    },
    {
      "cell_type": "code",
      "metadata": {
        "colab": {
          "base_uri": "https://localhost:8080/",
          "height": 204
        },
        "id": "nAUkfopJzU11",
        "outputId": "4c2d054e-a61d-49b4-94cf-579955b22fdc"
      },
      "source": [
        "df = pd.read_csv(PATH_TO_TRAIN_DATA)\n",
        "df.head()"
      ],
      "execution_count": 8,
      "outputs": [
        {
          "output_type": "execute_result",
          "data": {
            "text/html": [
              "<div>\n",
              "<style scoped>\n",
              "    .dataframe tbody tr th:only-of-type {\n",
              "        vertical-align: middle;\n",
              "    }\n",
              "\n",
              "    .dataframe tbody tr th {\n",
              "        vertical-align: top;\n",
              "    }\n",
              "\n",
              "    .dataframe thead th {\n",
              "        text-align: right;\n",
              "    }\n",
              "</style>\n",
              "<table border=\"1\" class=\"dataframe\">\n",
              "  <thead>\n",
              "    <tr style=\"text-align: right;\">\n",
              "      <th></th>\n",
              "      <th>review_id</th>\n",
              "      <th>negative</th>\n",
              "      <th>positive</th>\n",
              "      <th>score</th>\n",
              "    </tr>\n",
              "  </thead>\n",
              "  <tbody>\n",
              "    <tr>\n",
              "      <th>0</th>\n",
              "      <td>00003c6036f30f590c0ac435efb8739b</td>\n",
              "      <td>There were issues with the wifi connection</td>\n",
              "      <td>No Positive</td>\n",
              "      <td>7.1</td>\n",
              "    </tr>\n",
              "    <tr>\n",
              "      <th>1</th>\n",
              "      <td>00004d18f186bf2489590dc415876f73</td>\n",
              "      <td>TV not working</td>\n",
              "      <td>No Positive</td>\n",
              "      <td>7.5</td>\n",
              "    </tr>\n",
              "    <tr>\n",
              "      <th>2</th>\n",
              "      <td>0000cf900cbb8667fad33a717e9b1cf4</td>\n",
              "      <td>More pillows</td>\n",
              "      <td>Beautiful room Great location Lovely staff</td>\n",
              "      <td>10.0</td>\n",
              "    </tr>\n",
              "    <tr>\n",
              "      <th>3</th>\n",
              "      <td>0000df16edf19e7ad9dd8c5cd6f6925e</td>\n",
              "      <td>Very business</td>\n",
              "      <td>Location</td>\n",
              "      <td>5.4</td>\n",
              "    </tr>\n",
              "    <tr>\n",
              "      <th>4</th>\n",
              "      <td>00025e1aa3ac32edb496db49e76bbd00</td>\n",
              "      <td>Rooms could do with a bit of a refurbishment ...</td>\n",
              "      <td>Nice breakfast handy for Victoria train stati...</td>\n",
              "      <td>6.7</td>\n",
              "    </tr>\n",
              "  </tbody>\n",
              "</table>\n",
              "</div>"
            ],
            "text/plain": [
              "                          review_id  ... score\n",
              "0  00003c6036f30f590c0ac435efb8739b  ...   7.1\n",
              "1  00004d18f186bf2489590dc415876f73  ...   7.5\n",
              "2  0000cf900cbb8667fad33a717e9b1cf4  ...  10.0\n",
              "3  0000df16edf19e7ad9dd8c5cd6f6925e  ...   5.4\n",
              "4  00025e1aa3ac32edb496db49e76bbd00  ...   6.7\n",
              "\n",
              "[5 rows x 4 columns]"
            ]
          },
          "metadata": {
            "tags": []
          },
          "execution_count": 8
        }
      ]
    },
    {
      "cell_type": "markdown",
      "metadata": {
        "id": "rJQq8VBLzU12"
      },
      "source": [
        "Предобработка текста может сказываться на качестве вашей модели.\n",
        "Сделаем небольшой препроцессинг текстов: удалим знаки препинания, приведем все слова к нижнему регистру. \n",
        "Однако можно не ограничиваться этим набором преобразований. Подумайте, что еще можно сделать с текстами, чтобы помочь будущим моделям? Добавьте преобразования, которые могли бы помочь по вашему мнению."
      ]
    },
    {
      "cell_type": "markdown",
      "metadata": {
        "id": "tvNownXCzU12"
      },
      "source": [
        "Также мы добавили разбиение текстов на токены. Теперь каждая строка-ревью стала массивом токенов."
      ]
    },
    {
      "cell_type": "code",
      "metadata": {
        "id": "wIFpuZCrzU12",
        "colab": {
          "base_uri": "https://localhost:8080/"
        },
        "outputId": "4d8f4799-8b51-4495-c9df-bfff9046e3c1"
      },
      "source": [
        "nltk.download('punkt')\n",
        "\n",
        "def process_text(text):\n",
        "    return re.sub(r'\\d+', '', ' '.join([word for word in word_tokenize(text.lower()) if word not in string.punctuation]))  "
      ],
      "execution_count": 9,
      "outputs": [
        {
          "output_type": "stream",
          "text": [
            "[nltk_data] Downloading package punkt to /root/nltk_data...\n",
            "[nltk_data]   Unzipping tokenizers/punkt.zip.\n"
          ],
          "name": "stdout"
        }
      ]
    },
    {
      "cell_type": "code",
      "metadata": {
        "id": "mXy8qrWNzU13"
      },
      "source": [
        "df['negative'] = df['negative'].apply(process_text)\n",
        "df['positive'] = df['positive'].apply(process_text)"
      ],
      "execution_count": 10,
      "outputs": []
    },
    {
      "cell_type": "code",
      "metadata": {
        "id": "U6bQG9VmzU13"
      },
      "source": [
        "df_train, df_test = train_test_split(df, random_state = 42)"
      ],
      "execution_count": 11,
      "outputs": []
    },
    {
      "cell_type": "code",
      "metadata": {
        "colab": {
          "base_uri": "https://localhost:8080/",
          "height": 204
        },
        "id": "tDg5mZ_cF0Vj",
        "outputId": "7ad421ac-ed91-49bf-8458-2a0add4ac646"
      },
      "source": [
        "df_train.head()"
      ],
      "execution_count": 12,
      "outputs": [
        {
          "output_type": "execute_result",
          "data": {
            "text/html": [
              "<div>\n",
              "<style scoped>\n",
              "    .dataframe tbody tr th:only-of-type {\n",
              "        vertical-align: middle;\n",
              "    }\n",
              "\n",
              "    .dataframe tbody tr th {\n",
              "        vertical-align: top;\n",
              "    }\n",
              "\n",
              "    .dataframe thead th {\n",
              "        text-align: right;\n",
              "    }\n",
              "</style>\n",
              "<table border=\"1\" class=\"dataframe\">\n",
              "  <thead>\n",
              "    <tr style=\"text-align: right;\">\n",
              "      <th></th>\n",
              "      <th>review_id</th>\n",
              "      <th>negative</th>\n",
              "      <th>positive</th>\n",
              "      <th>score</th>\n",
              "    </tr>\n",
              "  </thead>\n",
              "  <tbody>\n",
              "    <tr>\n",
              "      <th>98980</th>\n",
              "      <td>fd5b30514ba1d0132c5c549fd877b131</td>\n",
              "      <td>cups washed up each day they stayed dirty all ...</td>\n",
              "      <td>no positive</td>\n",
              "      <td>4.2</td>\n",
              "    </tr>\n",
              "    <tr>\n",
              "      <th>69824</th>\n",
              "      <td>b2e77862f1831febc2bef16da8a9a1e3</td>\n",
              "      <td>tiny but tidy cosy pool</td>\n",
              "      <td>good location friendly staff</td>\n",
              "      <td>8.8</td>\n",
              "    </tr>\n",
              "    <tr>\n",
              "      <th>9928</th>\n",
              "      <td>19ee6dfdfaa1237792e8f1fe51b32796</td>\n",
              "      <td>no negative</td>\n",
              "      <td>everything good location really nice room</td>\n",
              "      <td>8.3</td>\n",
              "    </tr>\n",
              "    <tr>\n",
              "      <th>75599</th>\n",
              "      <td>c1b08b95b99b95c8587aadd6a126b67d</td>\n",
              "      <td>the walls between the rooms are a bit thin you...</td>\n",
              "      <td>the linen was always fresh never felt like any...</td>\n",
              "      <td>10.0</td>\n",
              "    </tr>\n",
              "    <tr>\n",
              "      <th>95621</th>\n",
              "      <td>f4babeb406b42b3cb0889ef6c7e7535a</td>\n",
              "      <td>nothing</td>\n",
              "      <td>excellent location beside the underground</td>\n",
              "      <td>9.6</td>\n",
              "    </tr>\n",
              "  </tbody>\n",
              "</table>\n",
              "</div>"
            ],
            "text/plain": [
              "                              review_id  ... score\n",
              "98980  fd5b30514ba1d0132c5c549fd877b131  ...   4.2\n",
              "69824  b2e77862f1831febc2bef16da8a9a1e3  ...   8.8\n",
              "9928   19ee6dfdfaa1237792e8f1fe51b32796  ...   8.3\n",
              "75599  c1b08b95b99b95c8587aadd6a126b67d  ...  10.0\n",
              "95621  f4babeb406b42b3cb0889ef6c7e7535a  ...   9.6\n",
              "\n",
              "[5 rows x 4 columns]"
            ]
          },
          "metadata": {
            "tags": []
          },
          "execution_count": 12
        }
      ]
    },
    {
      "cell_type": "markdown",
      "metadata": {
        "id": "z_XQme-LzU13"
      },
      "source": [
        "### Часть 1. 1 балл"
      ]
    },
    {
      "cell_type": "markdown",
      "metadata": {
        "id": "WJW4FsQozU13"
      },
      "source": [
        "Обучите логистическую регрессию на TF-IDF векторах текстов."
      ]
    },
    {
      "cell_type": "markdown",
      "metadata": {
        "id": "_diCWRctWhk9"
      },
      "source": [
        "Так как score – дробные числа, то проще обучать линейную регрессию."
      ]
    },
    {
      "cell_type": "code",
      "metadata": {
        "id": "LShq8sGKcIQY"
      },
      "source": [
        "def split_data(df_train, df_test):\n",
        "    X_train = df_train['negative'] + ' ' + df_train['positive']\n",
        "    X_test = df_test['negative'] + ' ' + df_test['positive']\n",
        "    y_train = df_train['score']\n",
        "    y_test = df_test['score']\n",
        "\n",
        "    return X_train, y_train, X_test, y_test"
      ],
      "execution_count": 13,
      "outputs": []
    },
    {
      "cell_type": "code",
      "metadata": {
        "id": "LCHrGTS2ROqa"
      },
      "source": [
        "X_train, y_train, X_test, y_test = split_data(df_train, df_test)"
      ],
      "execution_count": 14,
      "outputs": []
    },
    {
      "cell_type": "code",
      "metadata": {
        "id": "MJlc3BUIFhXb"
      },
      "source": [
        "vectorizer = TfidfVectorizer(stop_words='english')"
      ],
      "execution_count": 15,
      "outputs": []
    },
    {
      "cell_type": "code",
      "metadata": {
        "colab": {
          "base_uri": "https://localhost:8080/"
        },
        "id": "RNkOWxyZM8Vr",
        "outputId": "e5244c98-fdb1-439c-82bc-a6ce628c610d"
      },
      "source": [
        "vectorizer.fit(X_train)"
      ],
      "execution_count": 16,
      "outputs": [
        {
          "output_type": "execute_result",
          "data": {
            "text/plain": [
              "TfidfVectorizer(analyzer='word', binary=False, decode_error='strict',\n",
              "                dtype=<class 'numpy.float64'>, encoding='utf-8',\n",
              "                input='content', lowercase=True, max_df=1.0, max_features=None,\n",
              "                min_df=1, ngram_range=(1, 1), norm='l2', preprocessor=None,\n",
              "                smooth_idf=True, stop_words='english', strip_accents=None,\n",
              "                sublinear_tf=False, token_pattern='(?u)\\\\b\\\\w\\\\w+\\\\b',\n",
              "                tokenizer=None, use_idf=True, vocabulary=None)"
            ]
          },
          "metadata": {
            "tags": []
          },
          "execution_count": 16
        }
      ]
    },
    {
      "cell_type": "code",
      "metadata": {
        "id": "w8VDCDlZFrQn"
      },
      "source": [
        "X_train = vectorizer.transform(X_train)\n",
        "X_test = vectorizer.transform(X_test)"
      ],
      "execution_count": 17,
      "outputs": []
    },
    {
      "cell_type": "code",
      "metadata": {
        "id": "LW_NQLXEgajN"
      },
      "source": [
        "def train_and_evaluate(X_train, y_train, X_test, y_test):\n",
        "    regressor = SGDRegressor()\n",
        "    regressor.fit(X_train, y_train)\n",
        "    y_predicted = regressor.predict(X_test)\n",
        "\n",
        "    return mean_absolute_error(y_test, y_predicted)"
      ],
      "execution_count": 18,
      "outputs": []
    },
    {
      "cell_type": "code",
      "metadata": {
        "colab": {
          "base_uri": "https://localhost:8080/",
          "height": 35
        },
        "id": "2nar3gpwU2hI",
        "outputId": "162401fc-c63a-4d08-8c2b-ee45f4c06076"
      },
      "source": [
        "f'mae = {train_and_evaluate(X_train, y_train, X_test, y_test)}'"
      ],
      "execution_count": 19,
      "outputs": [
        {
          "output_type": "execute_result",
          "data": {
            "application/vnd.google.colaboratory.intrinsic+json": {
              "type": "string"
            },
            "text/plain": [
              "'mae = 0.988401612985892'"
            ]
          },
          "metadata": {
            "tags": []
          },
          "execution_count": 19
        }
      ]
    },
    {
      "cell_type": "markdown",
      "metadata": {
        "id": "QyLG6S4QzU14"
      },
      "source": [
        "### Часть 2. 3 балла"
      ]
    },
    {
      "cell_type": "markdown",
      "metadata": {
        "id": "wRSCS4QBzU14"
      },
      "source": [
        "Обучите логистическую регрессию на усредненных Word2Vec векторах. "
      ]
    },
    {
      "cell_type": "markdown",
      "metadata": {
        "id": "Y-qOInqvzU14"
      },
      "source": [
        "Усредняя w2v вектора, мы предполагаем, что каждое слово имеет равноценный вклад в смысл предложения, однако это может быть не совсем так. Теперь попробуйте воспользоваться другой концепцией и перевзвесить слова при получении итогового эмбеддинга текста. В качестве весов используйте IDF (Inverse document frequency)"
      ]
    },
    {
      "cell_type": "code",
      "metadata": {
        "id": "8Q36cjFRzU14"
      },
      "source": [
        "def calc_idf(texts):\n",
        "    pass"
      ],
      "execution_count": 20,
      "outputs": []
    },
    {
      "cell_type": "markdown",
      "metadata": {
        "id": "FlN1FccmzU14"
      },
      "source": [
        "Проведите эксперименты с размерностью эмбеддинга. Для каждого из двух методов постройте график зависимости качества модели от размерности эмбеддинга. \n",
        "#### Сделайте выводы:"
      ]
    },
    {
      "cell_type": "markdown",
      "metadata": {
        "id": "euFvdmrpzU15"
      },
      "source": [
        "Теперь попробуйте обучить логистическую регрессию на любых других эмбеддингах размерности 300 и сравните качество с Word2Vec.\n",
        "#### Выводы:"
      ]
    },
    {
      "cell_type": "markdown",
      "metadata": {
        "id": "cZK6xQgSzU15"
      },
      "source": [
        "### Часть 3. 6 баллов"
      ]
    },
    {
      "cell_type": "markdown",
      "metadata": {
        "id": "mId2T5pYzU15"
      },
      "source": [
        "Теперь давайте воспользуемся более продвинутыми методами обработки текстовых данных, которые мы проходили в нашем курсе. Обучите RNN/Transformer для предсказания пользовательской оценки. Получите ошибку меньше, чем во всех вышеперечисленных методах."
      ]
    },
    {
      "cell_type": "markdown",
      "metadata": {
        "id": "xk4e9hBazU15"
      },
      "source": [
        "Если будете обучать RNN, попробуйте ограничить максимальную длину предложения. Некоторые отзывы могут быть слишком длинные относительно остальных.\n",
        "\n",
        "Чтобы пользоваться DataLoader, все его элементы должны быть одинаковой размерности. Для этого вы можете добавить нулевой паддинг ко всем предложениям (см пример pad_sequence)"
      ]
    },
    {
      "cell_type": "code",
      "metadata": {
        "id": "Ptv12B9zy_R0"
      },
      "source": [
        "df = pd.read_csv(PATH_TO_TRAIN_DATA)"
      ],
      "execution_count": 50,
      "outputs": []
    },
    {
      "cell_type": "code",
      "metadata": {
        "id": "0l1UNx04zU15"
      },
      "source": [
        "WORDS = set()\n",
        "for sent in list(df['positive']):\n",
        "    for w in sent:\n",
        "        WORDS.add(w)\n",
        "        \n",
        "for sent in list(df['negative']):\n",
        "    for w in sent:\n",
        "        WORDS.add(w)"
      ],
      "execution_count": 51,
      "outputs": []
    },
    {
      "cell_type": "code",
      "metadata": {
        "id": "AHSABoK2zU16"
      },
      "source": [
        "int2word = dict(enumerate(tuple(WORDS)))\n",
        "word2int = {w: ii for ii, w in int2word.items()}"
      ],
      "execution_count": 52,
      "outputs": []
    },
    {
      "cell_type": "code",
      "metadata": {
        "id": "jz68xaL5zU16",
        "colab": {
          "base_uri": "https://localhost:8080/"
        },
        "outputId": "13a18bd2-f54d-46e2-df79-48c282cbfa53"
      },
      "source": [
        "MAX_LENGTH = max(max(df['positive'].apply(len)), max(df['negative'].apply(len)))\n",
        "MAX_LENGTH"
      ],
      "execution_count": 69,
      "outputs": [
        {
          "output_type": "execute_result",
          "data": {
            "text/plain": [
              "1965"
            ]
          },
          "metadata": {
            "tags": []
          },
          "execution_count": 69
        }
      ]
    },
    {
      "cell_type": "code",
      "metadata": {
        "id": "WxaZGBn21rGH"
      },
      "source": [
        "def stack(x, y, size):\n",
        "    x.extend(y)\n",
        "    return torch.as_tensor(x[:size])"
      ],
      "execution_count": 70,
      "outputs": []
    },
    {
      "cell_type": "code",
      "metadata": {
        "id": "GEhL0MKFuEpw"
      },
      "source": [
        "def process_with_pad_sequence(df, embedding_length):\n",
        "    X_positive = [[word2int[w] for w in seq][:embedding_length] for seq in df['positive']]\n",
        "    X_negative = [[word2int[w] for w in seq][:embedding_length] for seq in df['negative']]\n",
        "\n",
        "    X = [stack(X_positive[i], X_negative[i], embedding_length) for i in range(len(X_positive))]\n",
        "    y = df['score']\n",
        "\n",
        "    return torch.LongTensor(pad_sequence(X, batch_first=True)), torch.LongTensor(y.to_numpy())"
      ],
      "execution_count": 71,
      "outputs": []
    },
    {
      "cell_type": "code",
      "metadata": {
        "id": "a0fG_QcxzU16"
      },
      "source": [
        "class ReviewsDataset(torch.utils.data.Dataset):\n",
        "    def __init__(self, df, embedding_length = 300):\n",
        "        self.reviews, self.scores = process_with_pad_sequence(df, embedding_length)\n",
        "        \n",
        "    def __len__(self):\n",
        "        return len(self.reviews)\n",
        "    \n",
        "    def __getitem__(self, idx):\n",
        "        return self.reviews[idx], self.scores[idx]"
      ],
      "execution_count": 72,
      "outputs": []
    },
    {
      "cell_type": "code",
      "metadata": {
        "id": "alemlvS6wo9v"
      },
      "source": [
        "def get_device():\n",
        "    if cuda.is_available():\n",
        "        return 'cuda'\n",
        "    else:\n",
        "        return 'cpu'"
      ],
      "execution_count": 73,
      "outputs": []
    },
    {
      "cell_type": "code",
      "metadata": {
        "id": "DxfmW_PQzU17"
      },
      "source": [
        "BATCH_SIZE = 32    \n",
        "device = get_device()\n",
        "\n",
        "df_train, df_test = train_test_split(df, random_state = 42)\n",
        "\n",
        "train_dataset = ReviewsDataset(df_train)\n",
        "test_dataset = ReviewsDataset(df_test)\n",
        "\n",
        "train_dataloader = torch.utils.data.DataLoader(train_dataset, batch_size=BATCH_SIZE)\n",
        "test_dataloader = torch.utils.data.DataLoader(test_dataset, batch_size=BATCH_SIZE)"
      ],
      "execution_count": 74,
      "outputs": []
    },
    {
      "cell_type": "code",
      "metadata": {
        "id": "iVI51tTg4VK6"
      },
      "source": [
        "class LSTM(torch.nn.Module):\n",
        "    def __init__(self, n_targets, num_embeddings, embedding_dim, n_hidden):\n",
        "        super().__init__()\n",
        "        self.lstm = nn.LSTM(embedding_dim, n_hidden, batch_first = True)\n",
        "        self.embeddings = nn.Embedding(num_embeddings, embedding_dim, padding_idx = 0)\n",
        "        self.linear = nn.Linear(n_hidden, n_targets)\n",
        "        \n",
        "    def forward(self, x):\n",
        "        out, _ = self.lstm(self.embeddings(x.to(device)))\n",
        "\n",
        "        return self.linear(out.sum(1))"
      ],
      "execution_count": 62,
      "outputs": []
    },
    {
      "cell_type": "code",
      "metadata": {
        "id": "ebt50bLFj2VS"
      },
      "source": [
        "def mae(output_score, test_score):\n",
        "    _, predicted_score = torch.max(output_score.data.detach().cpu(), dim = 1)\n",
        "\n",
        "    return mean_absolute_error(predicted_score, test_score.detach().cpu())"
      ],
      "execution_count": 63,
      "outputs": []
    },
    {
      "cell_type": "code",
      "metadata": {
        "id": "Xr8NH7iw6Oip"
      },
      "source": [
        "def train(model, train_dataloader, test_dataloader, num_epochs = 30, lr = 0.001, clip = 1):\n",
        "    optimizer = torch.optim.Adam(model.parameters(), lr = lr)\n",
        "    criterion = nn.CrossEntropyLoss()\n",
        "    \n",
        "    model.train()\n",
        "    model.to(device)\n",
        "\n",
        "    for epoch in range(num_epochs):\n",
        "        print(f'epoch {epoch + 1}')\n",
        "        with tqdm(total = len(train_dataloader), file = sys.stdout, position = 0) as prbar:\n",
        "            for batch in train_dataloader:\n",
        "                input = batch[0].to(device)\n",
        "                score = batch[1].to(device)\n",
        "          \n",
        "                model.zero_grad()\n",
        "                output = model(input)\n",
        "                \n",
        "                loss = criterion(output, score.long()) \n",
        "                loss.backward()\n",
        "                nn.utils.clip_grad_norm_(model.parameters(), clip)\n",
        "                optimizer.step()\n",
        "                \n",
        "                batch_loss = round(loss.detach().cpu().item(), 3)\n",
        "                batch_mae = round(mae(output, score), 3)\n",
        "\n",
        "                prbar.set_description(f'[TRAIN] mae = {batch_mae} | loss = {batch_loss}') \n",
        "                prbar.update(1)\n",
        "\n",
        "        test_mae = 0\n",
        "\n",
        "        with torch.no_grad():\n",
        "            with tqdm(total = len(test_dataloader), file = sys.stdout, position = 0) as prbar:\n",
        "                for batch in test_dataloader:\n",
        "                    input = batch[0].to(device)\n",
        "                    score = batch[1].to(device)\n",
        "                  \n",
        "                    output = model(input).detach().cpu()\n",
        "\n",
        "                    batch_mae = round(mae(output, score), 3)\n",
        "\n",
        "                    prbar.set_description(f'[TEST]  mae = {round(batch_mae, 3)}')\n",
        "                    prbar.update(1)\n",
        "\n",
        "                    test_mae += batch_mae\n",
        "\n",
        "        mae_on_test = round(test_mae / len(test_dataloader), 3)\n",
        "        print(f'mae on test = {mae_on_test}\\n')\n",
        "\n",
        "        if (mae_on_test < 1.0):\n",
        "            break\n"
      ],
      "execution_count": 64,
      "outputs": []
    },
    {
      "cell_type": "markdown",
      "metadata": {
        "id": "wXw6TJvUDkF_"
      },
      "source": [
        "Так как в выборке score – вещественное число от 0 до 10 с точностью один знак после запятой, тогда получим 10 / 0.1 + 1 = 101 таргетов."
      ]
    },
    {
      "cell_type": "code",
      "metadata": {
        "id": "DMyfZtMBzU17",
        "colab": {
          "base_uri": "https://localhost:8080/"
        },
        "outputId": "1aa1b1ab-98b8-49a4-db6e-25db08c7bf23"
      },
      "source": [
        "model = LSTM(n_targets = 101, num_embeddings = len(int2word), embedding_dim = 300, n_hidden = 300)\n",
        "train(model, train_dataloader, test_dataloader)"
      ],
      "execution_count": 65,
      "outputs": [
        {
          "output_type": "stream",
          "text": [
            "[TRAIN] mae = 1.0 | loss = 1.422: 100%|██████████| 2344/2344 [01:06<00:00, 35.11it/s]\n",
            "[TEST]  mae = 1.125: 100%|██████████| 782/782 [00:08<00:00, 93.70it/s]\n",
            "mae on test = 1.112\n",
            "[TRAIN] mae = 0.958 | loss = 1.415: 100%|██████████| 2344/2344 [01:06<00:00, 35.27it/s]\n",
            "[TEST]  mae = 1.125: 100%|██████████| 782/782 [00:08<00:00, 96.45it/s]\n",
            "mae on test = 1.076\n",
            "[TRAIN] mae = 1.0 | loss = 1.448: 100%|██████████| 2344/2344 [01:06<00:00, 35.24it/s]\n",
            "[TEST]  mae = 0.625: 100%|██████████| 782/782 [00:08<00:00, 93.75it/s]\n",
            "mae on test = 1.052\n",
            "[TRAIN] mae = 0.833 | loss = 1.46: 100%|██████████| 2344/2344 [01:06<00:00, 35.20it/s]\n",
            "[TEST]  mae = 0.625: 100%|██████████| 782/782 [00:08<00:00, 93.88it/s]\n",
            "mae on test = 1.035\n",
            "[TRAIN] mae = 0.875 | loss = 1.444: 100%|██████████| 2344/2344 [01:06<00:00, 34.99it/s]\n",
            "[TEST]  mae = 0.625: 100%|██████████| 782/782 [00:08<00:00, 95.25it/s]\n",
            "mae on test = 1.02\n",
            "[TRAIN] mae = 0.917 | loss = 1.461: 100%|██████████| 2344/2344 [01:06<00:00, 35.29it/s]\n",
            "[TEST]  mae = 0.75: 100%|██████████| 782/782 [00:08<00:00, 94.37it/s]\n",
            "mae on test = 1.021\n",
            "[TRAIN] mae = 0.917 | loss = 1.463: 100%|██████████| 2344/2344 [01:06<00:00, 35.08it/s]\n",
            "[TEST]  mae = 0.75: 100%|██████████| 782/782 [00:08<00:00, 92.09it/s]\n",
            "mae on test = 1.017\n",
            "[TRAIN] mae = 1.042 | loss = 1.488: 100%|██████████| 2344/2344 [01:06<00:00, 35.30it/s]\n",
            "[TEST]  mae = 0.625: 100%|██████████| 782/782 [00:08<00:00, 93.13it/s]\n",
            "mae on test = 1.007\n",
            "[TRAIN] mae = 0.958 | loss = 1.469: 100%|██████████| 2344/2344 [01:06<00:00, 35.13it/s]\n",
            "[TEST]  mae = 0.625: 100%|██████████| 782/782 [00:08<00:00, 93.87it/s]\n",
            "mae on test = 1.005\n",
            "[TRAIN] mae = 0.958 | loss = 1.44: 100%|██████████| 2344/2344 [01:06<00:00, 35.13it/s]\n",
            "[TEST]  mae = 0.625: 100%|██████████| 782/782 [00:08<00:00, 95.43it/s]\n",
            "mae on test = 1.008\n",
            "[TRAIN] mae = 0.875 | loss = 1.456: 100%|██████████| 2344/2344 [01:06<00:00, 35.12it/s]\n",
            "[TEST]  mae = 0.625: 100%|██████████| 782/782 [00:08<00:00, 94.43it/s]\n",
            "mae on test = 1.01\n",
            "[TRAIN] mae = 0.958 | loss = 1.453: 100%|██████████| 2344/2344 [01:07<00:00, 34.82it/s]\n",
            "[TEST]  mae = 0.5: 100%|██████████| 782/782 [00:08<00:00, 97.45it/s]\n",
            "mae on test = 1.0\n",
            "[TRAIN] mae = 0.958 | loss = 1.458: 100%|██████████| 2344/2344 [01:06<00:00, 35.17it/s]\n",
            "[TEST]  mae = 0.5: 100%|██████████| 782/782 [00:08<00:00, 93.37it/s]\n",
            "mae on test = 1.002\n",
            "[TRAIN] mae = 0.875 | loss = 1.467: 100%|██████████| 2344/2344 [01:06<00:00, 35.08it/s]\n",
            "[TEST]  mae = 0.625: 100%|██████████| 782/782 [00:08<00:00, 96.60it/s]\n",
            "mae on test = 1.001\n",
            "[TRAIN] mae = 0.875 | loss = 1.494: 100%|██████████| 2344/2344 [01:06<00:00, 35.20it/s]\n",
            "[TEST]  mae = 0.5: 100%|██████████| 782/782 [00:08<00:00, 94.32it/s]\n",
            "mae on test = 1.002\n",
            "[TRAIN] mae = 0.958 | loss = 1.48: 100%|██████████| 2344/2344 [01:06<00:00, 35.04it/s]\n",
            "[TEST]  mae = 0.625: 100%|██████████| 782/782 [00:08<00:00, 93.31it/s]\n",
            "mae on test = 1.001\n",
            "[TRAIN] mae = 0.958 | loss = 1.47: 100%|██████████| 2344/2344 [01:06<00:00, 35.04it/s]\n",
            "[TEST]  mae = 0.625: 100%|██████████| 782/782 [00:08<00:00, 94.74it/s]\n",
            "mae on test = 0.998\n"
          ],
          "name": "stdout"
        }
      ]
    },
    {
      "cell_type": "markdown",
      "metadata": {
        "id": "oQKkmkTjoZkz"
      },
      "source": [
        "Если долго ~~мучаться~~ обучать, то рано или поздно mae становится где-то 0.99. В среднем необходимо от 17 до 25 эпох, чтобы добиться такого результата.\n",
        "\n"
      ]
    },
    {
      "cell_type": "markdown",
      "metadata": {
        "id": "yL64dnvAzU17"
      },
      "source": [
        "### Бонус. 10 баллов\n",
        "\n",
        "Побейте качество 0.75 в [соревновании](https://www.kaggle.com/c/hseds-texts-2020/leaderboard). Можете воспользоваться вышеперечисленными методами или попробовать что-нибудь еще."
      ]
    },
    {
      "cell_type": "code",
      "metadata": {
        "id": "nBqv5htrzU17"
      },
      "source": [
        ""
      ],
      "execution_count": null,
      "outputs": []
    }
  ]
}