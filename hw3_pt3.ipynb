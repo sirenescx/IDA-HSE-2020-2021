{
 "cells": [
  {
   "cell_type": "markdown",
   "metadata": {
    "id": "ExuV3ktSQYrH"
   },
   "source": [
    "# Введение"
   ]
  },
  {
   "cell_type": "markdown",
   "metadata": {
    "id": "ef6180WvQbD-"
   },
   "source": [
    "В этом задании Вы продолжите работать с данными из семинара [Articles Sharing and Reading from CI&T Deskdrop](https://www.kaggle.com/gspmoreira/articles-sharing-reading-from-cit-deskdrop)."
   ]
  },
  {
   "cell_type": "code",
   "execution_count": 1,
   "metadata": {
    "id": "M5mH3ZolSlcm"
   },
   "outputs": [
    {
     "name": "stderr",
     "output_type": "stream",
     "text": [
      "/Users/mmanakhova/anaconda3/lib/python3.8/site-packages/lightfm/_lightfm_fast.py:9: UserWarning: LightFM was compiled without OpenMP support. Only a single thread will be used.\n",
      "  warnings.warn(\n"
     ]
    }
   ],
   "source": [
    "# !pip install lightfm\n",
    "from lightfm import LightFM\n",
    "from lightfm.data import Dataset\n",
    "from lightfm.evaluation import precision_at_k\n",
    "import nltk\n",
    "from nltk.corpus import stopwords\n",
    "from nltk.stem import SnowballStemmer\n",
    "from nltk.tokenize import WordPunctTokenizer\n",
    "import numpy as np\n",
    "import math\n",
    "import pandas as pd\n",
    "from sklearn.feature_extraction.text import TfidfVectorizer\n",
    "import string "
   ]
  },
  {
   "cell_type": "markdown",
   "metadata": {
    "id": "nSV_mxD9TciM"
   },
   "source": [
    "## Загрузка и предобработка данных"
   ]
  },
  {
   "cell_type": "markdown",
   "metadata": {
    "id": "PRQVuRvER0hd"
   },
   "source": [
    "Загрузим данные и проведем предобработку данных как на семинаре."
   ]
  },
  {
   "cell_type": "code",
   "execution_count": 2,
   "metadata": {
    "id": "8E837g9kQTbb"
   },
   "outputs": [
    {
     "name": "stdout",
     "output_type": "stream",
     "text": [
      "  % Total    % Received % Xferd  Average Speed   Time    Time     Time  Current\n",
      "                                 Dload  Upload   Total   Spent    Left  Speed\n",
      "  0     0    0     0    0     0      0      0 --:--:-- --:--:-- --:--:--     0\n",
      "  0     0    0     0    0     0      0      0 --:--:-- --:--:-- --:--:--     0\n",
      "100  1076    0  1076    0     0    552      0 --:--:--  0:00:01 --:--:--     0\n",
      "100 8196k  100 8196k    0     0  1860k      0  0:00:04  0:00:04 --:--:-- 5403k\n"
     ]
    }
   ],
   "source": [
    "!curl -L -o articles.zip 'https://www.dropbox.com/s/z8syrl5trawxs0n/articles.zip?dl=0'\n",
    "# !wget -q -N https://www.dropbox.com/s/z8syrl5trawxs0n/articles.zip?dl=0 -O articles.zip\n",
    "!unzip -o -q articles.zip"
   ]
  },
  {
   "cell_type": "code",
   "execution_count": 3,
   "metadata": {
    "colab": {
     "base_uri": "https://localhost:8080/",
     "height": 386
    },
    "id": "hdM1xSchR9jt",
    "outputId": "fc1c8a2a-6f29-44da-c4b8-50f8606c68ea"
   },
   "outputs": [
    {
     "data": {
      "text/html": [
       "<div>\n",
       "<style scoped>\n",
       "    .dataframe tbody tr th:only-of-type {\n",
       "        vertical-align: middle;\n",
       "    }\n",
       "\n",
       "    .dataframe tbody tr th {\n",
       "        vertical-align: top;\n",
       "    }\n",
       "\n",
       "    .dataframe thead th {\n",
       "        text-align: right;\n",
       "    }\n",
       "</style>\n",
       "<table border=\"1\" class=\"dataframe\">\n",
       "  <thead>\n",
       "    <tr style=\"text-align: right;\">\n",
       "      <th></th>\n",
       "      <th>timestamp</th>\n",
       "      <th>eventType</th>\n",
       "      <th>contentId</th>\n",
       "      <th>authorPersonId</th>\n",
       "      <th>authorSessionId</th>\n",
       "      <th>authorUserAgent</th>\n",
       "      <th>authorRegion</th>\n",
       "      <th>authorCountry</th>\n",
       "      <th>contentType</th>\n",
       "      <th>url</th>\n",
       "      <th>title</th>\n",
       "      <th>text</th>\n",
       "      <th>lang</th>\n",
       "    </tr>\n",
       "  </thead>\n",
       "  <tbody>\n",
       "    <tr>\n",
       "      <th>1</th>\n",
       "      <td>1459193988</td>\n",
       "      <td>CONTENT SHARED</td>\n",
       "      <td>-4110354420726924665</td>\n",
       "      <td>4340306774493623681</td>\n",
       "      <td>8940341205206233829</td>\n",
       "      <td>NaN</td>\n",
       "      <td>NaN</td>\n",
       "      <td>NaN</td>\n",
       "      <td>HTML</td>\n",
       "      <td>http://www.nytimes.com/2016/03/28/business/dea...</td>\n",
       "      <td>Ethereum, a Virtual Currency, Enables Transact...</td>\n",
       "      <td>All of this work is still very early. The firs...</td>\n",
       "      <td>en</td>\n",
       "    </tr>\n",
       "    <tr>\n",
       "      <th>2</th>\n",
       "      <td>1459194146</td>\n",
       "      <td>CONTENT SHARED</td>\n",
       "      <td>-7292285110016212249</td>\n",
       "      <td>4340306774493623681</td>\n",
       "      <td>8940341205206233829</td>\n",
       "      <td>NaN</td>\n",
       "      <td>NaN</td>\n",
       "      <td>NaN</td>\n",
       "      <td>HTML</td>\n",
       "      <td>http://cointelegraph.com/news/bitcoin-future-w...</td>\n",
       "      <td>Bitcoin Future: When GBPcoin of Branson Wins O...</td>\n",
       "      <td>The alarm clock wakes me at 8:00 with stream o...</td>\n",
       "      <td>en</td>\n",
       "    </tr>\n",
       "  </tbody>\n",
       "</table>\n",
       "</div>"
      ],
      "text/plain": [
       "    timestamp       eventType            contentId       authorPersonId  \\\n",
       "1  1459193988  CONTENT SHARED -4110354420726924665  4340306774493623681   \n",
       "2  1459194146  CONTENT SHARED -7292285110016212249  4340306774493623681   \n",
       "\n",
       "       authorSessionId authorUserAgent authorRegion authorCountry contentType  \\\n",
       "1  8940341205206233829             NaN          NaN           NaN        HTML   \n",
       "2  8940341205206233829             NaN          NaN           NaN        HTML   \n",
       "\n",
       "                                                 url  \\\n",
       "1  http://www.nytimes.com/2016/03/28/business/dea...   \n",
       "2  http://cointelegraph.com/news/bitcoin-future-w...   \n",
       "\n",
       "                                               title  \\\n",
       "1  Ethereum, a Virtual Currency, Enables Transact...   \n",
       "2  Bitcoin Future: When GBPcoin of Branson Wins O...   \n",
       "\n",
       "                                                text lang  \n",
       "1  All of this work is still very early. The firs...   en  \n",
       "2  The alarm clock wakes me at 8:00 with stream o...   en  "
      ]
     },
     "execution_count": 3,
     "metadata": {},
     "output_type": "execute_result"
    }
   ],
   "source": [
    "articles_df = pd.read_csv('articles/shared_articles.csv')\n",
    "articles_df = articles_df[articles_df['eventType'] == 'CONTENT SHARED']\n",
    "articles_df.head(2)"
   ]
  },
  {
   "cell_type": "code",
   "execution_count": 4,
   "metadata": {
    "colab": {
     "base_uri": "https://localhost:8080/",
     "height": 111
    },
    "id": "KK9wMAkvSjbk",
    "outputId": "4ac95738-b637-407d-fb90-e8e0d29e1d5a"
   },
   "outputs": [
    {
     "data": {
      "text/html": [
       "<div>\n",
       "<style scoped>\n",
       "    .dataframe tbody tr th:only-of-type {\n",
       "        vertical-align: middle;\n",
       "    }\n",
       "\n",
       "    .dataframe tbody tr th {\n",
       "        vertical-align: top;\n",
       "    }\n",
       "\n",
       "    .dataframe thead th {\n",
       "        text-align: right;\n",
       "    }\n",
       "</style>\n",
       "<table border=\"1\" class=\"dataframe\">\n",
       "  <thead>\n",
       "    <tr style=\"text-align: right;\">\n",
       "      <th></th>\n",
       "      <th>timestamp</th>\n",
       "      <th>eventType</th>\n",
       "      <th>contentId</th>\n",
       "      <th>personId</th>\n",
       "      <th>sessionId</th>\n",
       "      <th>userAgent</th>\n",
       "      <th>userRegion</th>\n",
       "      <th>userCountry</th>\n",
       "    </tr>\n",
       "  </thead>\n",
       "  <tbody>\n",
       "    <tr>\n",
       "      <th>0</th>\n",
       "      <td>1465413032</td>\n",
       "      <td>VIEW</td>\n",
       "      <td>-3499919498720038879</td>\n",
       "      <td>-8845298781299428018</td>\n",
       "      <td>1264196770339959068</td>\n",
       "      <td>NaN</td>\n",
       "      <td>NaN</td>\n",
       "      <td>NaN</td>\n",
       "    </tr>\n",
       "    <tr>\n",
       "      <th>1</th>\n",
       "      <td>1465412560</td>\n",
       "      <td>VIEW</td>\n",
       "      <td>8890720798209849691</td>\n",
       "      <td>-1032019229384696495</td>\n",
       "      <td>3621737643587579081</td>\n",
       "      <td>Mozilla/5.0 (Macintosh; Intel Mac OS X 10_11_2...</td>\n",
       "      <td>NY</td>\n",
       "      <td>US</td>\n",
       "    </tr>\n",
       "  </tbody>\n",
       "</table>\n",
       "</div>"
      ],
      "text/plain": [
       "    timestamp eventType            contentId             personId  \\\n",
       "0  1465413032      VIEW -3499919498720038879 -8845298781299428018   \n",
       "1  1465412560      VIEW  8890720798209849691 -1032019229384696495   \n",
       "\n",
       "             sessionId                                          userAgent  \\\n",
       "0  1264196770339959068                                                NaN   \n",
       "1  3621737643587579081  Mozilla/5.0 (Macintosh; Intel Mac OS X 10_11_2...   \n",
       "\n",
       "  userRegion userCountry  \n",
       "0        NaN         NaN  \n",
       "1         NY          US  "
      ]
     },
     "execution_count": 4,
     "metadata": {},
     "output_type": "execute_result"
    }
   ],
   "source": [
    "interactions_df = pd.read_csv('articles/users_interactions.csv')\n",
    "interactions_df.head(2)"
   ]
  },
  {
   "cell_type": "code",
   "execution_count": 5,
   "metadata": {
    "id": "5nQScdSTTzNG"
   },
   "outputs": [],
   "source": [
    "interactions_df.personId = interactions_df.personId.astype(str)\n",
    "interactions_df.contentId = interactions_df.contentId.astype(str)\n",
    "articles_df.contentId = articles_df.contentId.astype(str)"
   ]
  },
  {
   "cell_type": "code",
   "execution_count": 6,
   "metadata": {
    "id": "eu6R9rDQT2P4"
   },
   "outputs": [],
   "source": [
    "# зададим словарь определяющий силу взаимодействия\n",
    "event_type_strength = {\n",
    "   'VIEW': 1.0,\n",
    "   'LIKE': 2.0, \n",
    "   'BOOKMARK': 2.5, \n",
    "   'FOLLOW': 3.0,\n",
    "   'COMMENT CREATED': 4.0,  \n",
    "}\n",
    "\n",
    "interactions_df['eventStrength'] = interactions_df.eventType.apply(lambda x: event_type_strength[x])"
   ]
  },
  {
   "cell_type": "markdown",
   "metadata": {
    "id": "ATO5PRRwUkQ0"
   },
   "source": [
    "Оставляем только тех пользователей, которые произамодействовали более чем с пятью статьями."
   ]
  },
  {
   "cell_type": "code",
   "execution_count": 7,
   "metadata": {
    "colab": {
     "base_uri": "https://localhost:8080/"
    },
    "id": "d-0HoboYUBm5",
    "outputId": "fe35e427-b44e-42f1-8fe5-afc51475955d"
   },
   "outputs": [
    {
     "name": "stdout",
     "output_type": "stream",
     "text": [
      "# users: 1895\n",
      "# users with at least 5 interactions: 1140\n"
     ]
    }
   ],
   "source": [
    "users_interactions_count_df = (\n",
    "    interactions_df\n",
    "    .groupby(['personId', 'contentId'])\n",
    "    .first()\n",
    "    .reset_index()\n",
    "    .groupby('personId').size())\n",
    "print('# users:', len(users_interactions_count_df))\n",
    "\n",
    "users_with_enough_interactions_df = \\\n",
    "    users_interactions_count_df[users_interactions_count_df >= 5].reset_index()[['personId']]\n",
    "print('# users with at least 5 interactions:',len(users_with_enough_interactions_df))"
   ]
  },
  {
   "cell_type": "markdown",
   "metadata": {
    "id": "gQagI3DHUuX5"
   },
   "source": [
    "Оставляем только те взаимодействия, которые относятся к отфильтрованным пользователям."
   ]
  },
  {
   "cell_type": "code",
   "execution_count": 8,
   "metadata": {
    "id": "34rrdGdpUFgk"
   },
   "outputs": [],
   "source": [
    "interactions_from_selected_users_df = interactions_df.loc[np.in1d(interactions_df.personId,\n",
    "            users_with_enough_interactions_df)]"
   ]
  },
  {
   "cell_type": "code",
   "execution_count": 9,
   "metadata": {
    "colab": {
     "base_uri": "https://localhost:8080/"
    },
    "id": "Hd3VS_BgU9HN",
    "outputId": "6e2c36d9-94e0-4896-ac34-a789dca5ee54"
   },
   "outputs": [
    {
     "name": "stdout",
     "output_type": "stream",
     "text": [
      "# interactions before: (72312, 9)\n",
      "# interactions after: (69868, 9)\n"
     ]
    }
   ],
   "source": [
    "print('# interactions before:', interactions_df.shape)\n",
    "print('# interactions after:', interactions_from_selected_users_df.shape)"
   ]
  },
  {
   "cell_type": "markdown",
   "metadata": {
    "id": "FYpRiFkQVR6B"
   },
   "source": [
    "Объединяем все взаимодействия пользователя по каждой статье и сглаживаем полученный результат, взяв от него логарифм."
   ]
  },
  {
   "cell_type": "code",
   "execution_count": 10,
   "metadata": {
    "colab": {
     "base_uri": "https://localhost:8080/",
     "height": 204
    },
    "id": "mtPtAehKVEUu",
    "outputId": "f86bebd7-73f0-44ef-b7e4-be31a300425a"
   },
   "outputs": [
    {
     "data": {
      "text/html": [
       "<div>\n",
       "<style scoped>\n",
       "    .dataframe tbody tr th:only-of-type {\n",
       "        vertical-align: middle;\n",
       "    }\n",
       "\n",
       "    .dataframe tbody tr th {\n",
       "        vertical-align: top;\n",
       "    }\n",
       "\n",
       "    .dataframe thead th {\n",
       "        text-align: right;\n",
       "    }\n",
       "</style>\n",
       "<table border=\"1\" class=\"dataframe\">\n",
       "  <thead>\n",
       "    <tr style=\"text-align: right;\">\n",
       "      <th></th>\n",
       "      <th>personId</th>\n",
       "      <th>contentId</th>\n",
       "      <th>eventStrength</th>\n",
       "      <th>last_timestamp</th>\n",
       "    </tr>\n",
       "  </thead>\n",
       "  <tbody>\n",
       "    <tr>\n",
       "      <th>0</th>\n",
       "      <td>-1007001694607905623</td>\n",
       "      <td>-5065077552540450930</td>\n",
       "      <td>1.000000</td>\n",
       "      <td>1470395911</td>\n",
       "    </tr>\n",
       "    <tr>\n",
       "      <th>1</th>\n",
       "      <td>-1007001694607905623</td>\n",
       "      <td>-6623581327558800021</td>\n",
       "      <td>1.000000</td>\n",
       "      <td>1487240080</td>\n",
       "    </tr>\n",
       "    <tr>\n",
       "      <th>2</th>\n",
       "      <td>-1007001694607905623</td>\n",
       "      <td>-793729620925729327</td>\n",
       "      <td>1.000000</td>\n",
       "      <td>1472834892</td>\n",
       "    </tr>\n",
       "    <tr>\n",
       "      <th>3</th>\n",
       "      <td>-1007001694607905623</td>\n",
       "      <td>1469580151036142903</td>\n",
       "      <td>1.000000</td>\n",
       "      <td>1487240062</td>\n",
       "    </tr>\n",
       "    <tr>\n",
       "      <th>4</th>\n",
       "      <td>-1007001694607905623</td>\n",
       "      <td>7270966256391553686</td>\n",
       "      <td>1.584963</td>\n",
       "      <td>1485994324</td>\n",
       "    </tr>\n",
       "  </tbody>\n",
       "</table>\n",
       "</div>"
      ],
      "text/plain": [
       "               personId             contentId  eventStrength  last_timestamp\n",
       "0  -1007001694607905623  -5065077552540450930       1.000000      1470395911\n",
       "1  -1007001694607905623  -6623581327558800021       1.000000      1487240080\n",
       "2  -1007001694607905623   -793729620925729327       1.000000      1472834892\n",
       "3  -1007001694607905623   1469580151036142903       1.000000      1487240062\n",
       "4  -1007001694607905623   7270966256391553686       1.584963      1485994324"
      ]
     },
     "execution_count": 10,
     "metadata": {},
     "output_type": "execute_result"
    }
   ],
   "source": [
    "def smooth_user_preference(x):\n",
    "    return math.log(1+x, 2)\n",
    "    \n",
    "interactions_full_df = (\n",
    "    interactions_from_selected_users_df\n",
    "    .groupby(['personId', 'contentId']).eventStrength.sum()\n",
    "    .apply(smooth_user_preference)\n",
    "    .reset_index().set_index(['personId', 'contentId'])\n",
    ")\n",
    "interactions_full_df['last_timestamp'] = (\n",
    "    interactions_from_selected_users_df\n",
    "    .groupby(['personId', 'contentId'])['timestamp'].last()\n",
    ")\n",
    "        \n",
    "interactions_full_df = interactions_full_df.reset_index()\n",
    "interactions_full_df.head(5)"
   ]
  },
  {
   "cell_type": "markdown",
   "metadata": {
    "id": "ODJYMtnNWM5w"
   },
   "source": [
    "Разобьём выборку на обучение и контроль по времени."
   ]
  },
  {
   "cell_type": "code",
   "execution_count": 11,
   "metadata": {
    "colab": {
     "base_uri": "https://localhost:8080/",
     "height": 453
    },
    "id": "3F2CfAwoVrfo",
    "outputId": "44101cdb-bdf4-4d04-878a-6d1d3a475a5a"
   },
   "outputs": [
    {
     "name": "stdout",
     "output_type": "stream",
     "text": [
      "# interactions on Train set: 29329\n",
      "# interactions on Test set: 9777\n"
     ]
    },
    {
     "data": {
      "text/html": [
       "<div>\n",
       "<style scoped>\n",
       "    .dataframe tbody tr th:only-of-type {\n",
       "        vertical-align: middle;\n",
       "    }\n",
       "\n",
       "    .dataframe tbody tr th {\n",
       "        vertical-align: top;\n",
       "    }\n",
       "\n",
       "    .dataframe thead th {\n",
       "        text-align: right;\n",
       "    }\n",
       "</style>\n",
       "<table border=\"1\" class=\"dataframe\">\n",
       "  <thead>\n",
       "    <tr style=\"text-align: right;\">\n",
       "      <th></th>\n",
       "      <th>personId</th>\n",
       "      <th>contentId</th>\n",
       "      <th>eventStrength</th>\n",
       "      <th>last_timestamp</th>\n",
       "    </tr>\n",
       "  </thead>\n",
       "  <tbody>\n",
       "    <tr>\n",
       "      <th>0</th>\n",
       "      <td>-1007001694607905623</td>\n",
       "      <td>-5065077552540450930</td>\n",
       "      <td>1.0</td>\n",
       "      <td>1470395911</td>\n",
       "    </tr>\n",
       "    <tr>\n",
       "      <th>2</th>\n",
       "      <td>-1007001694607905623</td>\n",
       "      <td>-793729620925729327</td>\n",
       "      <td>1.0</td>\n",
       "      <td>1472834892</td>\n",
       "    </tr>\n",
       "    <tr>\n",
       "      <th>6</th>\n",
       "      <td>-1032019229384696495</td>\n",
       "      <td>-1006791494035379303</td>\n",
       "      <td>1.0</td>\n",
       "      <td>1469129122</td>\n",
       "    </tr>\n",
       "    <tr>\n",
       "      <th>7</th>\n",
       "      <td>-1032019229384696495</td>\n",
       "      <td>-1039912738963181810</td>\n",
       "      <td>1.0</td>\n",
       "      <td>1459376415</td>\n",
       "    </tr>\n",
       "    <tr>\n",
       "      <th>8</th>\n",
       "      <td>-1032019229384696495</td>\n",
       "      <td>-1081723567492738167</td>\n",
       "      <td>2.0</td>\n",
       "      <td>1464054093</td>\n",
       "    </tr>\n",
       "    <tr>\n",
       "      <th>...</th>\n",
       "      <td>...</td>\n",
       "      <td>...</td>\n",
       "      <td>...</td>\n",
       "      <td>...</td>\n",
       "    </tr>\n",
       "    <tr>\n",
       "      <th>39099</th>\n",
       "      <td>997469202936578234</td>\n",
       "      <td>9112765177685685246</td>\n",
       "      <td>2.0</td>\n",
       "      <td>1472479493</td>\n",
       "    </tr>\n",
       "    <tr>\n",
       "      <th>39100</th>\n",
       "      <td>998688566268269815</td>\n",
       "      <td>-1255189867397298842</td>\n",
       "      <td>1.0</td>\n",
       "      <td>1474567164</td>\n",
       "    </tr>\n",
       "    <tr>\n",
       "      <th>39101</th>\n",
       "      <td>998688566268269815</td>\n",
       "      <td>-401664538366009049</td>\n",
       "      <td>1.0</td>\n",
       "      <td>1474567449</td>\n",
       "    </tr>\n",
       "    <tr>\n",
       "      <th>39103</th>\n",
       "      <td>998688566268269815</td>\n",
       "      <td>6881796783400625893</td>\n",
       "      <td>1.0</td>\n",
       "      <td>1474567675</td>\n",
       "    </tr>\n",
       "    <tr>\n",
       "      <th>39105</th>\n",
       "      <td>998688566268269815</td>\n",
       "      <td>739747367187387064</td>\n",
       "      <td>1.0</td>\n",
       "      <td>1474567514</td>\n",
       "    </tr>\n",
       "  </tbody>\n",
       "</table>\n",
       "<p>29329 rows × 4 columns</p>\n",
       "</div>"
      ],
      "text/plain": [
       "                   personId             contentId  eventStrength  \\\n",
       "0      -1007001694607905623  -5065077552540450930            1.0   \n",
       "2      -1007001694607905623   -793729620925729327            1.0   \n",
       "6      -1032019229384696495  -1006791494035379303            1.0   \n",
       "7      -1032019229384696495  -1039912738963181810            1.0   \n",
       "8      -1032019229384696495  -1081723567492738167            2.0   \n",
       "...                     ...                   ...            ...   \n",
       "39099    997469202936578234   9112765177685685246            2.0   \n",
       "39100    998688566268269815  -1255189867397298842            1.0   \n",
       "39101    998688566268269815   -401664538366009049            1.0   \n",
       "39103    998688566268269815   6881796783400625893            1.0   \n",
       "39105    998688566268269815    739747367187387064            1.0   \n",
       "\n",
       "       last_timestamp  \n",
       "0          1470395911  \n",
       "2          1472834892  \n",
       "6          1469129122  \n",
       "7          1459376415  \n",
       "8          1464054093  \n",
       "...               ...  \n",
       "39099      1472479493  \n",
       "39100      1474567164  \n",
       "39101      1474567449  \n",
       "39103      1474567675  \n",
       "39105      1474567514  \n",
       "\n",
       "[29329 rows x 4 columns]"
      ]
     },
     "execution_count": 11,
     "metadata": {},
     "output_type": "execute_result"
    }
   ],
   "source": [
    "from sklearn.model_selection import train_test_split\n",
    "\n",
    "split_ts = 1475519530\n",
    "interactions_train_df = interactions_full_df.loc[interactions_full_df.last_timestamp < split_ts].copy()\n",
    "interactions_test_df = interactions_full_df.loc[interactions_full_df.last_timestamp >= split_ts].copy()\n",
    "\n",
    "print('# interactions on Train set: %d' % len(interactions_train_df))\n",
    "print('# interactions on Test set: %d' % len(interactions_test_df))\n",
    "\n",
    "interactions_train_df"
   ]
  },
  {
   "cell_type": "markdown",
   "metadata": {
    "id": "h5G3FTYOXLVg"
   },
   "source": [
    "Для удобства подсчёта качества запишем данные в формате, где строка соответствует пользователю, а столбцы будут истинными метками и предсказаниями в виде списков."
   ]
  },
  {
   "cell_type": "code",
   "execution_count": 12,
   "metadata": {
    "colab": {
     "base_uri": "https://localhost:8080/",
     "height": 111
    },
    "id": "RT-_toqfXOa2",
    "outputId": "81e93f78-7120-4423-bfe4-4030cd8507b1"
   },
   "outputs": [
    {
     "data": {
      "text/html": [
       "<div>\n",
       "<style scoped>\n",
       "    .dataframe tbody tr th:only-of-type {\n",
       "        vertical-align: middle;\n",
       "    }\n",
       "\n",
       "    .dataframe tbody tr th {\n",
       "        vertical-align: top;\n",
       "    }\n",
       "\n",
       "    .dataframe thead th {\n",
       "        text-align: right;\n",
       "    }\n",
       "</style>\n",
       "<table border=\"1\" class=\"dataframe\">\n",
       "  <thead>\n",
       "    <tr style=\"text-align: right;\">\n",
       "      <th></th>\n",
       "      <th>true_train</th>\n",
       "      <th>true_test</th>\n",
       "    </tr>\n",
       "    <tr>\n",
       "      <th>personId</th>\n",
       "      <th></th>\n",
       "      <th></th>\n",
       "    </tr>\n",
       "  </thead>\n",
       "  <tbody>\n",
       "    <tr>\n",
       "      <th>-1007001694607905623</th>\n",
       "      <td>[-5065077552540450930, -793729620925729327]</td>\n",
       "      <td>[-6623581327558800021, 1469580151036142903, 72...</td>\n",
       "    </tr>\n",
       "  </tbody>\n",
       "</table>\n",
       "</div>"
      ],
      "text/plain": [
       "                                                       true_train  \\\n",
       "personId                                                            \n",
       "-1007001694607905623  [-5065077552540450930, -793729620925729327]   \n",
       "\n",
       "                                                              true_test  \n",
       "personId                                                                 \n",
       "-1007001694607905623  [-6623581327558800021, 1469580151036142903, 72...  "
      ]
     },
     "execution_count": 12,
     "metadata": {},
     "output_type": "execute_result"
    }
   ],
   "source": [
    "interactions = (\n",
    "    interactions_train_df\n",
    "    .groupby('personId')['contentId'].agg(lambda x: list(x))\n",
    "    .reset_index()\n",
    "    .rename(columns={'contentId': 'true_train'})\n",
    "    .set_index('personId')\n",
    ")\n",
    "\n",
    "interactions['true_test'] = (\n",
    "    interactions_test_df\n",
    "    .groupby('personId')['contentId'].agg(lambda x: list(x))\n",
    ")\n",
    "\n",
    "# заполнение пропусков пустыми списками\n",
    "interactions.loc[pd.isnull(interactions.true_test), 'true_test'] = [\n",
    "    list() for x in range(len(interactions.loc[pd.isnull(interactions.true_test), 'true_test']))]\n",
    "\n",
    "interactions.head(1)"
   ]
  },
  {
   "cell_type": "markdown",
   "metadata": {
    "id": "-UWDyWKsamSa"
   },
   "source": [
    "## Библиотека LightFM"
   ]
  },
  {
   "cell_type": "markdown",
   "metadata": {
    "id": "L-iXjvdZa25Z"
   },
   "source": [
    "Для рекомендации Вы будете пользоваться библиотекой [LightFM](https://making.lyst.com/lightfm/docs/home.html), в которой реализованы популярные алгоритмы. Для оценивания качества рекомендации, как и на семинаре, будем пользоваться метрикой *precision@10*."
   ]
  },
  {
   "cell_type": "markdown",
   "metadata": {
    "id": "0CjyGqulcZTf"
   },
   "source": [
    "## Задание 1. (2 балла)"
   ]
  },
  {
   "cell_type": "markdown",
   "metadata": {
    "id": "4Sof6V5Dd4h9"
   },
   "source": [
    "Модели в LightFM работают с разреженными матрицами. Создайте разреженные матрицы `data_train` и `data_test` (размером количество пользователей на количество статей), такие что на пересечении строки пользователя и столбца статьи стоит сила их взаимодействия, если взаимодействие было, и стоит ноль, если взаимодействия не было."
   ]
  },
  {
   "cell_type": "code",
   "execution_count": 13,
   "metadata": {
    "id": "J8Pf8jEeF4BE"
   },
   "outputs": [],
   "source": [
    "def to_sparse_matrix(df, full_df):\n",
    "    dataset = Dataset()\n",
    "    dataset.fit(full_df.personId.unique(), full_df.contentId.unique())\n",
    "    interactions_matrix, weights_matrix = dataset.build_interactions([tuple(i) for i in df.drop(['last_timestamp'], axis = 1).values])\n",
    "    return weights_matrix"
   ]
  },
  {
   "cell_type": "code",
   "execution_count": 14,
   "metadata": {
    "id": "1cLZ5ga4eIdg"
   },
   "outputs": [],
   "source": [
    "# Ваш код здесь\n",
    "data_train = to_sparse_matrix(interactions_train_df, interactions_full_df)\n",
    "data_test = to_sparse_matrix(interactions_test_df, interactions_full_df)"
   ]
  },
  {
   "cell_type": "markdown",
   "metadata": {
    "id": "e8YWAIlqTamF"
   },
   "source": [
    "some checks"
   ]
  },
  {
   "cell_type": "code",
   "execution_count": 15,
   "metadata": {
    "id": "mhiXSwwrTamF"
   },
   "outputs": [],
   "source": [
    "dataset = Dataset()\n",
    "dataset.fit(interactions_full_df.personId.unique(), interactions_full_df.contentId.unique())\n",
    "interactions_matrix, weights_matrix = dataset.build_interactions([tuple(i) for i in interactions_train_df.drop(['last_timestamp'], axis = 1).values])\n",
    "mapping = dataset.mapping()"
   ]
  },
  {
   "cell_type": "code",
   "execution_count": 16,
   "metadata": {
    "id": "9wvAQKD3TamF"
   },
   "outputs": [],
   "source": [
    "assert(interactions_train_df.loc[(interactions_train_df['personId'] == '-1007001694607905623') & (interactions_train_df['contentId'] == '6881796783400625893')].empty)\n",
    "assert(weights_matrix.toarray()[mapping[0]['-1007001694607905623'], mapping[2]['6881796783400625893']] == .0)"
   ]
  },
  {
   "cell_type": "code",
   "execution_count": 17,
   "metadata": {
    "id": "56vsavI3TamG"
   },
   "outputs": [],
   "source": [
    "assert(not interactions_train_df.loc[(interactions_train_df['personId'] == '-1032019229384696495') & (interactions_train_df['contentId'] == '-1081723567492738167')].empty)\n",
    "assert(weights_matrix.toarray()[mapping[0]['-1032019229384696495'], mapping[2]['-1081723567492738167']] == 2.0)"
   ]
  },
  {
   "cell_type": "markdown",
   "metadata": {
    "id": "AiNGVzTveRXE"
   },
   "source": [
    "## Задание 2. (1 балл)"
   ]
  },
  {
   "cell_type": "markdown",
   "metadata": {
    "id": "ZPfVK3STeryM"
   },
   "source": [
    "Обучите модель LightFM с `loss='warp'` и посчитайте *precision@10* на тесте."
   ]
  },
  {
   "cell_type": "code",
   "execution_count": 106,
   "metadata": {
    "colab": {
     "base_uri": "https://localhost:8080/"
    },
    "id": "YFQxeHw8eVLz",
    "outputId": "cc24adf8-985d-4167-db13-2355b85859da"
   },
   "outputs": [
    {
     "name": "stdout",
     "output_type": "stream",
     "text": [
      "precision@10 = 0.003564154729247093\n"
     ]
    }
   ],
   "source": [
    "# Ваш код здесь\n",
    "model = LightFM(loss='warp', random_state=42)\n",
    "model.fit(data_train)\n",
    "print(f'precision@10 = {precision_at_k(model, data_test).mean()}')"
   ]
  },
  {
   "cell_type": "markdown",
   "metadata": {
    "id": "qZDsG1iAfdrl"
   },
   "source": [
    "## Задание 3. (3 балла)"
   ]
  },
  {
   "cell_type": "markdown",
   "metadata": {
    "id": "F93chvtbgA9N"
   },
   "source": [
    "При вызове метода `fit` LightFM позволяет передавать в `item_features` признаковое описание объектов. Воспользуемся этим. Будем получать признаковое описание из текста статьи в виде [TF-IDF](https://ru.wikipedia.org/wiki/TF-IDF) (можно воспользоваться `TfidfVectorizer` из scikit-learn). Создайте матрицу `feat` размером количесвто статей на размер признакового описание и обучите LightFM с `loss='warp'` и посчитайте precision@10 на тесте."
   ]
  },
  {
   "cell_type": "code",
   "execution_count": 45,
   "metadata": {
    "id": "-04inFKYVvMK"
   },
   "outputs": [],
   "source": [
    "def build_item_features(full_df, articles_df):\n",
    "    dataset = Dataset()\n",
    "\n",
    "    vectorizer = TfidfVectorizer()\n",
    "    tf_idfs = vectorizer.fit_transform(articles_df.text) \n",
    "    contentIds = articles_df.contentId.to_numpy()\n",
    "    \n",
    "    dataset.fit_partial(items=articles_df.contentId)\n",
    "    dataset.fit_partial(item_features=tf_idfs.toarray().flatten())\n",
    "\n",
    "    return dataset.build_item_features(list(zip(contentIds, tf_idfs.toarray())))"
   ]
  },
  {
   "cell_type": "code",
   "execution_count": 107,
   "metadata": {
    "id": "5SvUi_Fofgf5"
   },
   "outputs": [
    {
     "name": "stdout",
     "output_type": "stream",
     "text": [
      "precision@10 = 0.0016293278895318508\n"
     ]
    }
   ],
   "source": [
    "# Ваш код здесь\n",
    "feat = build_item_features(interactions_full_df, articles_df)\n",
    "model = LightFM(loss='warp', random_state=42)\n",
    "model.fit(data_train, item_features=feat)\n",
    "print(f'precision@10 = {precision_at_k(model, data_test, item_features=feat).mean()}')"
   ]
  },
  {
   "cell_type": "markdown",
   "metadata": {
    "id": "8Lwuex6PpsFw"
   },
   "source": [
    "## Задание 4. (2 балла)"
   ]
  },
  {
   "cell_type": "markdown",
   "metadata": {
    "id": "5aZcHjSzp2cZ"
   },
   "source": [
    "В задании 3 мы использовали сырой текст статей. В этом задании необходимо сначала сделать предобработку текста (привести к нижнему регистру, убрать стоп слова, привести слова к нормальной форме и т.д.), после чего обучите модель и оценить качество на тестовых данных."
   ]
  },
  {
   "cell_type": "code",
   "execution_count": 47,
   "metadata": {
    "colab": {
     "base_uri": "https://localhost:8080/"
    },
    "id": "vI1qxF7NEDj8",
    "outputId": "07ef22d3-2769-4197-9d16-af5b681058ac"
   },
   "outputs": [
    {
     "data": {
      "text/plain": [
       "array(['en', 'pt', 'es', 'la', 'ja'], dtype=object)"
      ]
     },
     "execution_count": 47,
     "metadata": {},
     "output_type": "execute_result"
    }
   ],
   "source": [
    "articles_df.lang.unique()"
   ]
  },
  {
   "cell_type": "code",
   "execution_count": 48,
   "metadata": {
    "colab": {
     "base_uri": "https://localhost:8080/"
    },
    "id": "zltTSBY4AYSl",
    "outputId": "afe5438f-011a-4af5-96bb-0e5f1da57979"
   },
   "outputs": [
    {
     "name": "stderr",
     "output_type": "stream",
     "text": [
      "[nltk_data] Downloading package stopwords to\n",
      "[nltk_data]     /Users/mmanakhova/nltk_data...\n",
      "[nltk_data]   Package stopwords is already up-to-date!\n"
     ]
    }
   ],
   "source": [
    "tokenizer = WordPunctTokenizer()\n",
    "nltk.download('stopwords')\n",
    "stop_words = set(stopwords.words('portuguese'))\n",
    "stop_words.update(set(stopwords.words('english')))\n",
    "stop_words.update(set(stopwords.words('spanish')))\n",
    "# extra punctuation and symbols which are not deleted by string.punctuation\n",
    "stop_words.update(set([',\"', '—', '\\n', '.\"', '...', ',\\'', '°', '!)', ')\"','//', '),', '->', '✔', '\")', ').']))"
   ]
  },
  {
   "cell_type": "code",
   "execution_count": 49,
   "metadata": {
    "id": "MLradgVlCxGI"
   },
   "outputs": [],
   "source": [
    "def build_item_features_with_preprocessing(full_df, articles_df):\n",
    "    dataset = Dataset()\n",
    "\n",
    "    vectorizer = TfidfVectorizer()\n",
    "    tf_idfs = vectorizer.fit_transform(pd.Series([lemmatize(remove_extra_parts(preprocess(text))) for text in articles_df.text])) \n",
    "    contentIds = articles_df.contentId.to_numpy()\n",
    "    \n",
    "    dataset.fit_partial(items=articles_df.contentId)\n",
    "    dataset.fit_partial(item_features=tf_idfs.toarray().flatten())\n",
    "\n",
    "    return dataset.build_item_features(list(zip(contentIds, tf_idfs.toarray())))\n",
    "\n",
    "def preprocess(text):\n",
    "    return ' '.join(tokenizer.tokenize(text.lower()))\n",
    "\n",
    "def remove_extra_parts(sentence):\n",
    "    words = sentence.split(' ')\n",
    "    new_sentence = []\n",
    "    for word in words:\n",
    "        if word in stop_words or word.isdigit() or word in string.punctuation:\n",
    "            continue\n",
    "        new_sentence.append(word)\n",
    "        \n",
    "    return ' '.join(new_sentence) \n",
    "\n",
    "def lemmatize(text, lang='en'):\n",
    "    stemmer = SnowballStemmer('portuguese') if lang == 'pt' else SnowballStemmer('english')\n",
    "    return ' '.join(stemmer.stem(token) for token in text.split())"
   ]
  },
  {
   "cell_type": "code",
   "execution_count": 108,
   "metadata": {
    "colab": {
     "base_uri": "https://localhost:8080/"
    },
    "id": "cMs_L-NzFQkW",
    "outputId": "66f55d27-bf33-4888-a1f7-abbd5e3b39e0"
   },
   "outputs": [
    {
     "name": "stdout",
     "output_type": "stream",
     "text": [
      "precision@10 = 0.0018329938175156713\n"
     ]
    }
   ],
   "source": [
    "feat = build_item_features_with_preprocessing(interactions_full_df, articles_df)\n",
    "model = LightFM(loss='warp', random_state=42)\n",
    "model.fit(data_train, item_features=feat)\n",
    "print(f'precision@10 = {precision_at_k(model, data_test, item_features=feat).mean()}')"
   ]
  },
  {
   "cell_type": "markdown",
   "metadata": {
    "id": "VgayAPRpqn7L"
   },
   "source": [
    "Улучшилось ли качество предсказания?"
   ]
  },
  {
   "cell_type": "markdown",
   "metadata": {
    "id": "9Tvf1U_WTamI"
   },
   "source": [
    "Качество предсказания незначительно улучшилось ¯\\\\\\_(ツ)\\_/¯."
   ]
  },
  {
   "cell_type": "markdown",
   "metadata": {
    "id": "XKRzLLodq3gq"
   },
   "source": [
    "## Задание 5. (2 балла)"
   ]
  },
  {
   "cell_type": "markdown",
   "metadata": {
    "id": "brjHl49Aq8su"
   },
   "source": [
    "Подберите гиперпараметры модели LightFM (`n_components` и др.) для улучшения качества модели."
   ]
  },
  {
   "cell_type": "code",
   "execution_count": 110,
   "metadata": {
    "id": "PlwaeCiZqncD",
    "outputId": "61501af6-8660-4516-a1ba-677cd2dd4d96"
   },
   "outputs": [
    {
     "name": "stdout",
     "output_type": "stream",
     "text": [
      "no_components = 1 \t| precision = 0.0019348268397152424\n",
      "no_components = 10 \t| precision = 0.0018329938175156713\n",
      "no_components = 19 \t| precision = 0.001731160911731422\n",
      "no_components = 28 \t| precision = 0.001731160911731422\n",
      "no_components = 37 \t| precision = 0.001731160911731422\n",
      "no_components = 46 \t| precision = 0.0018329938175156713\n",
      "no_components = 55 \t| precision = 0.001731160911731422\n",
      "no_components = 64 \t| precision = 0.0016293278895318508\n",
      "no_components = 73 \t| precision = 0.0016293278895318508\n",
      "no_components = 82 \t| precision = 0.0016293278895318508\n",
      "no_components = 91 \t| precision = 0.0016293278895318508\n"
     ]
    }
   ],
   "source": [
    "# Ваш код здесь    \n",
    "best_nc = 0\n",
    "best_precision = 0\n",
    "nc_range = np.arange(1, 100, 9)\n",
    "for parameter_value in nc_range:\n",
    "    model = LightFM(loss='warp', no_components=parameter_value, random_state=42)\n",
    "    model.fit(data_train, item_features=feat)\n",
    "    precision = precision_at_k(model, data_test, item_features=feat).mean()\n",
    "    print(f'no_components = {parameter_value} \\t| precision = {precision}')\n",
    "    if precision > best_precision:\n",
    "        best_nc = parameter_value\n",
    "        best_precision = precision        "
   ]
  },
  {
   "cell_type": "code",
   "execution_count": 111,
   "metadata": {
    "id": "-QItVC6aTamJ",
    "outputId": "0ddd2d74-dfb0-423e-b0ef-f956c492b7e6"
   },
   "outputs": [
    {
     "name": "stdout",
     "output_type": "stream",
     "text": [
      "learning rate = 0.001 \t| precision = 0.00295315682888031\n",
      "learning rate = 0.005 \t| precision = 0.0024439918342977762\n",
      "learning rate = 0.0001 \t| precision = 0.0031568228732794523\n",
      "learning rate = 5e-05 \t| precision = 0.0031568228732794523\n",
      "learning rate = 1e-05 \t| precision = 0.0031568228732794523\n",
      "learning rate = 5e-06 \t| precision = 0.0031568228732794523\n",
      "learning rate = 1e-06 \t| precision = 0.0031568228732794523\n"
     ]
    }
   ],
   "source": [
    "best_lr = None\n",
    "lr_range = [.001, .005, .0001, .00005, .00001, .000005, .000001]\n",
    "for parameter_value in lr_range:\n",
    "    model = LightFM(loss='warp', learning_rate=parameter_value, no_components=best_nc, random_state=42)\n",
    "    model.fit(data_train, item_features=feat)\n",
    "    precision = precision_at_k(model, data_test, item_features=feat).mean()\n",
    "    print(f'learning rate = {parameter_value} \\t| precision = {precision}')\n",
    "    if precision > best_precision:\n",
    "        best_lr = parameter_value\n",
    "        best_precision = precision"
   ]
  },
  {
   "cell_type": "code",
   "execution_count": 112,
   "metadata": {
    "id": "472gw8CtTamJ",
    "outputId": "950a00b3-9a63-4222-a937-2e345ed66bf2"
   },
   "outputs": [
    {
     "name": "stdout",
     "output_type": "stream",
     "text": [
      "max_sampled = 1 \t| precision = 0.0031568228732794523\n",
      "max_sampled = 10 \t| precision = 0.0031568228732794523\n",
      "max_sampled = 19 \t| precision = 0.0031568228732794523\n",
      "max_sampled = 28 \t| precision = 0.0031568228732794523\n",
      "max_sampled = 37 \t| precision = 0.0031568228732794523\n",
      "max_sampled = 46 \t| precision = 0.0031568228732794523\n",
      "max_sampled = 55 \t| precision = 0.0031568228732794523\n",
      "max_sampled = 64 \t| precision = 0.0031568228732794523\n",
      "max_sampled = 73 \t| precision = 0.0031568228732794523\n",
      "max_sampled = 82 \t| precision = 0.0031568228732794523\n",
      "max_sampled = 91 \t| precision = 0.0031568228732794523\n"
     ]
    }
   ],
   "source": [
    "best_lr = 0.05 if best_lr == None else best_lr\n",
    "best_ms = None\n",
    "ms_range = np.arange(1, 100, 9)\n",
    "for parameter_value in ms_range:\n",
    "    model = LightFM(loss='warp', learning_rate=best_lr, no_components=best_nc, max_sampled=parameter_value, random_state=42)\n",
    "    model.fit(data_train, item_features=feat)\n",
    "    precision = precision_at_k(model, data_test, item_features=feat).mean()\n",
    "    print(f'max_sampled = {parameter_value} \\t| precision = {precision}')\n",
    "    if precision > best_precision:\n",
    "        best_ms = parameter_value\n",
    "        best_precision = precision"
   ]
  },
  {
   "cell_type": "code",
   "execution_count": 113,
   "metadata": {
    "id": "QRdH2y1FTamK",
    "outputId": "b624b440-c68d-49be-e3fb-e96741c27727"
   },
   "outputs": [
    {
     "name": "stdout",
     "output_type": "stream",
     "text": [
      "item_alpha = 0.1 \t| precision = 0.0031568228732794523\n",
      "item_alpha = 0.2 \t| precision = 0.0031568228732794523\n",
      "item_alpha = 0.3 \t| precision = 0.0031568228732794523\n",
      "item_alpha = 0.4 \t| precision = 0.0031568228732794523\n",
      "item_alpha = 0.5 \t| precision = 0.0031568228732794523\n",
      "item_alpha = 0.6 \t| precision = 0.0031568228732794523\n",
      "item_alpha = 0.7 \t| precision = 0.0031568228732794523\n",
      "item_alpha = 0.8 \t| precision = 0.0031568228732794523\n",
      "item_alpha = 0.9 \t| precision = 0.0031568228732794523\n"
     ]
    }
   ],
   "source": [
    "best_ms = 10 if best_ms == None else best_ms\n",
    "best_ia = 0\n",
    "ia_range = [.1, .2, .3, .4, .5, .6, .7, .8, .9]\n",
    "for parameter_value in ia_range:\n",
    "    model = LightFM(loss='warp', learning_rate=best_lr, no_components=best_nc, max_sampled=best_ms, item_alpha=parameter_value, random_state=42)\n",
    "    model.fit(data_train, item_features=feat)\n",
    "    precision = precision_at_k(model, data_test, item_features=feat).mean()\n",
    "    print(f'item_alpha = {parameter_value} \\t| precision = {precision}')\n",
    "    if precision > best_precision:\n",
    "        best_ia = parameter_value\n",
    "        best_precision = precision"
   ]
  },
  {
   "cell_type": "code",
   "execution_count": 114,
   "metadata": {
    "id": "NNpE9W1pTamK",
    "outputId": "7889a2f6-ee5e-4038-9d1b-68551676f447"
   },
   "outputs": [
    {
     "name": "stdout",
     "output_type": "stream",
     "text": [
      "user_alpha = 0.1 \t| precision = 0.0031568228732794523\n",
      "user_alpha = 0.2 \t| precision = 0.0031568228732794523\n",
      "user_alpha = 0.3 \t| precision = 0.0031568228732794523\n",
      "user_alpha = 0.4 \t| precision = 0.0031568228732794523\n",
      "user_alpha = 0.5 \t| precision = 0.0031568228732794523\n",
      "user_alpha = 0.6 \t| precision = 0.0032586557790637016\n",
      "user_alpha = 0.7 \t| precision = 0.0032586557790637016\n",
      "user_alpha = 0.8 \t| precision = 0.002851323690265417\n",
      "user_alpha = 0.9 \t| precision = 0.002749490784481168\n"
     ]
    }
   ],
   "source": [
    "best_ia = .0 if best_ia == None else best_ia\n",
    "best_ua = 0\n",
    "ua_range = [.1, .2, .3, .4, .5, .6, .7, .8, .9]\n",
    "for parameter_value in ua_range:\n",
    "    model = LightFM(loss='warp', learning_rate=best_lr, no_components=best_nc, max_sampled=best_ms, item_alpha=best_ia, user_alpha=parameter_value, random_state=42)\n",
    "    model.fit(data_train, item_features=feat)\n",
    "    precision = precision_at_k(model, data_test, item_features=feat).mean()\n",
    "    print(f'user_alpha = {parameter_value} \\t| precision = {precision}')\n",
    "    if precision > best_precision:\n",
    "        best_ua = parameter_value\n",
    "        best_precision = precision"
   ]
  },
  {
   "cell_type": "code",
   "execution_count": 115,
   "metadata": {
    "id": "d4APOr6MTamK",
    "outputId": "16071607-881f-4b4b-ba2b-d2e2442ded7e"
   },
   "outputs": [
    {
     "name": "stdout",
     "output_type": "stream",
     "text": [
      "learning_schedule='adagrad'\n",
      "best no components = 1\n",
      "best learning rate = 0.0001\n",
      "best max sampled = 10\n",
      "best item alpha = 0\n",
      "best user alpha = 0.6\n",
      "\n",
      "best precision = 0.003259\n"
     ]
    }
   ],
   "source": [
    "print('learning_schedule=\\'adagrad\\'')\n",
    "print(f'best no components = {best_nc}')\n",
    "print(f'best learning rate = {best_lr}')\n",
    "print(f'best max sampled = {best_ms}')\n",
    "print(f'best item alpha = {best_ia}')\n",
    "print(f'best user alpha = {best_ua}\\n')\n",
    "print(f'best precision = {best_precision:3f}')"
   ]
  },
  {
   "cell_type": "markdown",
   "metadata": {},
   "source": [
    "Results are pretty sad, let's try with original model without item_features."
   ]
  },
  {
   "cell_type": "code",
   "execution_count": 117,
   "metadata": {},
   "outputs": [
    {
     "name": "stdout",
     "output_type": "stream",
     "text": [
      "no_components = 1 \t| precision = 0.0022403260227292776\n",
      "no_components = 10 \t| precision = 0.003564154729247093\n",
      "no_components = 19 \t| precision = 0.002749490784481168\n",
      "no_components = 28 \t| precision = 0.003564154729247093\n",
      "no_components = 37 \t| precision = 0.002749490784481168\n",
      "no_components = 46 \t| precision = 0.004582484718412161\n",
      "no_components = 55 \t| precision = 0.003665987867861986\n",
      "no_components = 64 \t| precision = 0.0032586557790637016\n",
      "no_components = 73 \t| precision = 0.004073319956660271\n",
      "no_components = 82 \t| precision = 0.0031568228732794523\n",
      "no_components = 91 \t| precision = 0.003971486818045378\n"
     ]
    }
   ],
   "source": [
    "best_nc = 0\n",
    "best_precision = 0\n",
    "nc_range = np.arange(1, 100, 9)\n",
    "for parameter_value in nc_range:\n",
    "    model = LightFM(loss='warp', no_components=parameter_value, random_state=42)\n",
    "    model.fit(data_train)\n",
    "    precision = precision_at_k(model, data_test).mean()\n",
    "    print(f'no_components = {parameter_value} \\t| precision = {precision}')\n",
    "    if precision > best_precision:\n",
    "        best_nc = parameter_value\n",
    "        best_precision = precision  "
   ]
  },
  {
   "cell_type": "code",
   "execution_count": 119,
   "metadata": {},
   "outputs": [
    {
     "name": "stdout",
     "output_type": "stream",
     "text": [
      "learning rate = 0.05 \t| precision = 0.004582484718412161\n",
      "learning rate = 0.001 \t| precision = 0.0037678207736462355\n",
      "learning rate = 0.005 \t| precision = 0.0038696539122611284\n",
      "learning rate = 0.0001 \t| precision = 0.00295315682888031\n",
      "learning rate = 5e-05 \t| precision = 0.0024439918342977762\n",
      "learning rate = 1e-05 \t| precision = 0.0012219959171488881\n",
      "learning rate = 5e-06 \t| precision = 0.0016293278895318508\n",
      "learning rate = 1e-06 \t| precision = 0.002851323690265417\n"
     ]
    }
   ],
   "source": [
    "best_lr = None\n",
    "lr_range = [.05, .001, .005, .0001, .00005, .00001, .000005, .000001]\n",
    "for parameter_value in lr_range:\n",
    "    model = LightFM(loss='warp', learning_rate=parameter_value, no_components=best_nc, random_state=42)\n",
    "    model.fit(data_train)\n",
    "    precision = precision_at_k(model, data_test).mean()\n",
    "    print(f'learning rate = {parameter_value} \\t| precision = {precision}')\n",
    "    if precision > best_precision:\n",
    "        best_lr = parameter_value\n",
    "        best_precision = precision"
   ]
  },
  {
   "cell_type": "code",
   "execution_count": 120,
   "metadata": {},
   "outputs": [
    {
     "name": "stdout",
     "output_type": "stream",
     "text": [
      "max_sampled = 1 \t| precision = 0.0030549897346645594\n",
      "max_sampled = 10 \t| precision = 0.004582484718412161\n",
      "max_sampled = 19 \t| precision = 0.004276985768228769\n",
      "max_sampled = 28 \t| precision = 0.0036659876350313425\n",
      "max_sampled = 37 \t| precision = 0.004276985768228769\n",
      "max_sampled = 46 \t| precision = 0.0038696536794304848\n",
      "max_sampled = 55 \t| precision = 0.00295315682888031\n",
      "max_sampled = 64 \t| precision = 0.003462321823462844\n",
      "max_sampled = 73 \t| precision = 0.002749490784481168\n",
      "max_sampled = 82 \t| precision = 0.002749490784481168\n",
      "max_sampled = 91 \t| precision = 0.0031568226404488087\n"
     ]
    }
   ],
   "source": [
    "best_lr = 0.05 if best_lr == None else best_lr\n",
    "best_ms = None\n",
    "ms_range = np.arange(1, 100, 9)\n",
    "for parameter_value in ms_range:\n",
    "    model = LightFM(loss='warp', learning_rate=best_lr, no_components=best_nc, max_sampled=parameter_value, random_state=42)\n",
    "    model.fit(data_train)\n",
    "    precision = precision_at_k(model, data_test).mean()\n",
    "    print(f'max_sampled = {parameter_value} \\t| precision = {precision}')\n",
    "    if precision > best_precision:\n",
    "        best_ms = parameter_value\n",
    "        best_precision = precision"
   ]
  },
  {
   "cell_type": "code",
   "execution_count": 121,
   "metadata": {},
   "outputs": [
    {
     "name": "stdout",
     "output_type": "stream",
     "text": [
      "item_alpha = 0.1 \t| precision = 0.018024440854787827\n",
      "item_alpha = 0.2 \t| precision = 0.004480652045458555\n",
      "item_alpha = 0.3 \t| precision = 0.007433808874338865\n",
      "item_alpha = 0.4 \t| precision = 0.007535641547292471\n",
      "item_alpha = 0.5 \t| precision = 0.0023421586956828833\n",
      "item_alpha = 0.6 \t| precision = 0.0030549897346645594\n",
      "item_alpha = 0.7 \t| precision = 0.008452138863503933\n",
      "item_alpha = 0.8 \t| precision = 0.0022403260227292776\n",
      "item_alpha = 0.9 \t| precision = 0.00539714889600873\n"
     ]
    }
   ],
   "source": [
    "best_ms = 10 if best_ms == None else best_ms\n",
    "best_ia = 0\n",
    "ia_range = [.1, .2, .3, .4, .5, .6, .7, .8, .9]\n",
    "for parameter_value in ia_range:\n",
    "    model = LightFM(loss='warp', learning_rate=best_lr, no_components=best_nc, max_sampled=best_ms, item_alpha=parameter_value, random_state=42)\n",
    "    model.fit(data_train)\n",
    "    precision = precision_at_k(model, data_test).mean()\n",
    "    print(f'item_alpha = {parameter_value} \\t| precision = {precision}')\n",
    "    if precision > best_precision:\n",
    "        best_ia = parameter_value\n",
    "        best_precision = precision"
   ]
  },
  {
   "cell_type": "code",
   "execution_count": 122,
   "metadata": {},
   "outputs": [
    {
     "name": "stdout",
     "output_type": "stream",
     "text": [
      "user_alpha = 0.1 \t| precision = 0.007128309458494186\n",
      "user_alpha = 0.2 \t| precision = 0.004480652045458555\n",
      "user_alpha = 0.3 \t| precision = 0.013849287293851376\n",
      "user_alpha = 0.4 \t| precision = 0.01771894283592701\n",
      "user_alpha = 0.5 \t| precision = 0.0023421591613441706\n",
      "user_alpha = 0.6 \t| precision = 0.002647657645866275\n",
      "user_alpha = 0.7 \t| precision = 0.00590631365776062\n",
      "user_alpha = 0.8 \t| precision = 0.0030549897346645594\n",
      "user_alpha = 0.9 \t| precision = 0.00590631365776062\n"
     ]
    }
   ],
   "source": [
    "best_ia = .0 if best_ia == None else best_ia\n",
    "best_ua = 0\n",
    "ua_range = [.1, .2, .3, .4, .5, .6, .7, .8, .9]\n",
    "for parameter_value in ua_range:\n",
    "    model = LightFM(loss='warp', learning_rate=best_lr, no_components=best_nc, max_sampled=best_ms, item_alpha=best_ia, user_alpha=parameter_value, random_state=42)\n",
    "    model.fit(data_train)\n",
    "    precision = precision_at_k(model, data_test).mean()\n",
    "    print(f'user_alpha = {parameter_value} \\t| precision = {precision}')\n",
    "    if precision > best_precision:\n",
    "        best_ua = parameter_value\n",
    "        best_precision = precision"
   ]
  },
  {
   "cell_type": "code",
   "execution_count": 123,
   "metadata": {},
   "outputs": [
    {
     "name": "stdout",
     "output_type": "stream",
     "text": [
      "learning_schedule='adagrad'\n",
      "best no components = 46\n",
      "best learning rate = 0.05\n",
      "best max sampled = 10\n",
      "best item alpha = 0.1\n",
      "best user alpha = 0\n",
      "\n",
      "best precision = 0.018024\n"
     ]
    }
   ],
   "source": [
    "print('learning_schedule=\\'adagrad\\'')\n",
    "print(f'best no components = {best_nc}')\n",
    "print(f'best learning rate = {best_lr}')\n",
    "print(f'best max sampled = {best_ms}')\n",
    "print(f'best item alpha = {best_ia}')\n",
    "print(f'best user alpha = {best_ua}\\n')\n",
    "print(f'best precision = {best_precision:3f}')"
   ]
  },
  {
   "cell_type": "markdown",
   "metadata": {},
   "source": [
    "Results are much better than with preprocessed tf-idf. At last, let's try tf-idf without processing."
   ]
  },
  {
   "cell_type": "code",
   "execution_count": 124,
   "metadata": {},
   "outputs": [],
   "source": [
    "feat = build_item_features(interactions_full_df, articles_df)"
   ]
  },
  {
   "cell_type": "code",
   "execution_count": 125,
   "metadata": {},
   "outputs": [
    {
     "name": "stdout",
     "output_type": "stream",
     "text": [
      "no_components = 1 \t| precision = 0.0016293278895318508\n",
      "no_components = 10 \t| precision = 0.0016293278895318508\n",
      "no_components = 19 \t| precision = 0.001731160911731422\n",
      "no_components = 28 \t| precision = 0.0016293278895318508\n",
      "no_components = 37 \t| precision = 0.0014256618451327085\n",
      "no_components = 46 \t| precision = 0.0016293278895318508\n",
      "no_components = 55 \t| precision = 0.001731160911731422\n",
      "no_components = 64 \t| precision = 0.0013238289393484592\n",
      "no_components = 73 \t| precision = 0.0015274948673322797\n",
      "no_components = 82 \t| precision = 0.0015274948673322797\n",
      "no_components = 91 \t| precision = 0.001731160911731422\n"
     ]
    }
   ],
   "source": [
    "best_nc = 0\n",
    "best_precision = 0\n",
    "nc_range = np.arange(1, 100, 9)\n",
    "for parameter_value in nc_range:\n",
    "    model = LightFM(loss='warp', no_components=parameter_value, random_state=42)\n",
    "    model.fit(data_train, item_features=feat)\n",
    "    precision = precision_at_k(model, data_test, item_features=feat).mean()\n",
    "    print(f'no_components = {parameter_value} \\t| precision = {precision}')\n",
    "    if precision > best_precision:\n",
    "        best_nc = parameter_value\n",
    "        best_precision = precision   "
   ]
  },
  {
   "cell_type": "code",
   "execution_count": 126,
   "metadata": {},
   "outputs": [
    {
     "name": "stdout",
     "output_type": "stream",
     "text": [
      "learning rate = 0.001 \t| precision = 0.003360488684847951\n",
      "learning rate = 0.005 \t| precision = 0.001832993933930993\n",
      "learning rate = 0.0001 \t| precision = 0.0036659876350313425\n",
      "learning rate = 5e-05 \t| precision = 0.0036659876350313425\n",
      "learning rate = 1e-05 \t| precision = 0.003665987867861986\n",
      "learning rate = 5e-06 \t| precision = 0.003462321823462844\n",
      "learning rate = 1e-06 \t| precision = 0.00295315682888031\n"
     ]
    }
   ],
   "source": [
    "best_lr = None\n",
    "lr_range = [.001, .005, .0001, .00005, .00001, .000005, .000001]\n",
    "for parameter_value in lr_range:\n",
    "    model = LightFM(loss='warp', learning_rate=parameter_value, no_components=best_nc, random_state=42)\n",
    "    model.fit(data_train, item_features=feat)\n",
    "    precision = precision_at_k(model, data_test, item_features=feat).mean()\n",
    "    print(f'learning rate = {parameter_value} \\t| precision = {precision}')\n",
    "    if precision > best_precision:\n",
    "        best_lr = parameter_value\n",
    "        best_precision = precision"
   ]
  },
  {
   "cell_type": "code",
   "execution_count": 127,
   "metadata": {},
   "outputs": [
    {
     "name": "stdout",
     "output_type": "stream",
     "text": [
      "max_sampled = 1 \t| precision = 0.003665987867861986\n",
      "max_sampled = 10 \t| precision = 0.003665987867861986\n",
      "max_sampled = 19 \t| precision = 0.003665987867861986\n",
      "max_sampled = 28 \t| precision = 0.003665987867861986\n",
      "max_sampled = 37 \t| precision = 0.003665987867861986\n",
      "max_sampled = 46 \t| precision = 0.003665987867861986\n",
      "max_sampled = 55 \t| precision = 0.003665987867861986\n",
      "max_sampled = 64 \t| precision = 0.003665987867861986\n",
      "max_sampled = 73 \t| precision = 0.003665987867861986\n",
      "max_sampled = 82 \t| precision = 0.003665987867861986\n",
      "max_sampled = 91 \t| precision = 0.003665987867861986\n"
     ]
    }
   ],
   "source": [
    "best_lr = 0.05 if best_lr == None else best_lr\n",
    "best_ms = None\n",
    "ms_range = np.arange(1, 100, 9)\n",
    "for parameter_value in ms_range:\n",
    "    model = LightFM(loss='warp', learning_rate=best_lr, no_components=best_nc, max_sampled=parameter_value, random_state=42)\n",
    "    model.fit(data_train, item_features=feat)\n",
    "    precision = precision_at_k(model, data_test, item_features=feat).mean()\n",
    "    print(f'max_sampled = {parameter_value} \\t| precision = {precision}')\n",
    "    if precision > best_precision:\n",
    "        best_ms = parameter_value\n",
    "        best_precision = precision"
   ]
  },
  {
   "cell_type": "code",
   "execution_count": 128,
   "metadata": {},
   "outputs": [
    {
     "name": "stdout",
     "output_type": "stream",
     "text": [
      "item_alpha = 0.1 \t| precision = 0.0037678207736462355\n",
      "item_alpha = 0.2 \t| precision = 0.0037678207736462355\n",
      "item_alpha = 0.3 \t| precision = 0.0037678207736462355\n",
      "item_alpha = 0.4 \t| precision = 0.0037678207736462355\n",
      "item_alpha = 0.5 \t| precision = 0.003665987867861986\n",
      "item_alpha = 0.6 \t| precision = 0.003665987867861986\n",
      "item_alpha = 0.7 \t| precision = 0.003665987867861986\n",
      "item_alpha = 0.8 \t| precision = 0.003665987867861986\n",
      "item_alpha = 0.9 \t| precision = 0.003665987867861986\n"
     ]
    }
   ],
   "source": [
    "best_ms = 10 if best_ms == None else best_ms\n",
    "best_ia = 0\n",
    "ia_range = [.1, .2, .3, .4, .5, .6, .7, .8, .9]\n",
    "for parameter_value in ia_range:\n",
    "    model = LightFM(loss='warp', learning_rate=best_lr, no_components=best_nc, max_sampled=best_ms, item_alpha=parameter_value, random_state=42)\n",
    "    model.fit(data_train, item_features=feat)\n",
    "    precision = precision_at_k(model, data_test, item_features=feat).mean()\n",
    "    print(f'item_alpha = {parameter_value} \\t| precision = {precision}')\n",
    "    if precision > best_precision:\n",
    "        best_ia = parameter_value\n",
    "        best_precision = precision"
   ]
  },
  {
   "cell_type": "code",
   "execution_count": 129,
   "metadata": {},
   "outputs": [
    {
     "name": "stdout",
     "output_type": "stream",
     "text": [
      "user_alpha = 0.1 \t| precision = 0.003665987867861986\n",
      "user_alpha = 0.2 \t| precision = 0.003665987867861986\n",
      "user_alpha = 0.3 \t| precision = 0.003665987867861986\n",
      "user_alpha = 0.4 \t| precision = 0.003665987867861986\n",
      "user_alpha = 0.5 \t| precision = 0.003665987867861986\n",
      "user_alpha = 0.6 \t| precision = 0.003665987867861986\n",
      "user_alpha = 0.7 \t| precision = 0.003665987867861986\n",
      "user_alpha = 0.8 \t| precision = 0.003665987867861986\n",
      "user_alpha = 0.9 \t| precision = 0.003665987867861986\n"
     ]
    }
   ],
   "source": [
    "best_ia = .0 if best_ia == None else best_ia\n",
    "best_ua = 0\n",
    "ua_range = [.1, .2, .3, .4, .5, .6, .7, .8, .9]\n",
    "for parameter_value in ua_range:\n",
    "    model = LightFM(loss='warp', learning_rate=best_lr, no_components=best_nc, max_sampled=best_ms, item_alpha=best_ia, user_alpha=parameter_value, random_state=42)\n",
    "    model.fit(data_train, item_features=feat)\n",
    "    precision = precision_at_k(model, data_test, item_features=feat).mean()\n",
    "    print(f'user_alpha = {parameter_value} \\t| precision = {precision}')\n",
    "    if precision > best_precision:\n",
    "        best_ua = parameter_value\n",
    "        best_precision = precision"
   ]
  },
  {
   "cell_type": "code",
   "execution_count": 130,
   "metadata": {},
   "outputs": [
    {
     "name": "stdout",
     "output_type": "stream",
     "text": [
      "learning_schedule='adagrad'\n",
      "best no components = 19\n",
      "best learning rate = 1e-05\n",
      "best max sampled = 10\n",
      "best item alpha = 0.1\n",
      "best user alpha = 0\n",
      "\n",
      "best precision = 0.003768\n"
     ]
    }
   ],
   "source": [
    "print('learning_schedule=\\'adagrad\\'')\n",
    "print(f'best no components = {best_nc}')\n",
    "print(f'best learning rate = {best_lr}')\n",
    "print(f'best max sampled = {best_ms}')\n",
    "print(f'best item alpha = {best_ia}')\n",
    "print(f'best user alpha = {best_ua}\\n')\n",
    "print(f'best precision = {best_precision:3f}')"
   ]
  },
  {
   "cell_type": "markdown",
   "metadata": {},
   "source": [
    "Slightly better than with processed tf-idf, but much worse than model without item_features."
   ]
  },
  {
   "cell_type": "markdown",
   "metadata": {
    "id": "xJA7v07NrYSF"
   },
   "source": [
    "## Бонусное задание. (3 балла)"
   ]
  },
  {
   "cell_type": "markdown",
   "metadata": {
    "id": "veLFUoVRrisk"
   },
   "source": [
    "Выше мы использовали достаточно простое представление текста статьи в виде TF-IDF. В этом задании Вам нужно представить текст статьи (можно вместе с заголовком) в виде эмбеддинга полученного с помощью рекуррентной сети или трансформера (можно использовать любую предобученную модель, которая Вам нравится). Обучите модель с ипользованием этих эмеддингов и сравните результаты с предыдущими."
   ]
  },
  {
   "cell_type": "code",
   "execution_count": null,
   "metadata": {
    "id": "CQmn1cb-rXU3"
   },
   "outputs": [],
   "source": [
    "# Ваш код здесь"
   ]
  }
 ],
 "metadata": {
  "colab": {
   "collapsed_sections": [],
   "name": "hw3 (2).ipynb",
   "provenance": []
  },
  "kernelspec": {
   "display_name": "Python 3",
   "language": "python",
   "name": "python3"
  }
 },
 "nbformat": 4,
 "nbformat_minor": 1
}
