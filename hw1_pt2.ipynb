{
 "cells": [
  {
   "cell_type": "markdown",
   "metadata": {
    "id": "BetgwGgZkNZv"
   },
   "source": [
    "## Домашнее задание №1\n",
    "\n",
    "В этом домашнем задании вы познакомитесь с pytorch сами и сможете попрактиковаться в его применении. \n",
    "\n",
    "#### План:\n",
    "\n",
    "1. Простейшие операции в pytorch\n",
    "2. Пишем Adam и применяем его к ручной модели\n",
    "3. Обучаем свою первую нейросеть"
   ]
  },
  {
   "cell_type": "code",
   "execution_count": 6,
   "metadata": {
    "id": "kxUglo7FkNZw"
   },
   "outputs": [],
   "source": [
    "import os\n",
    "import sys\n",
    "import math\n",
    "import torch\n",
    "import random\n",
    "from torch.utils.data import DataLoader\n",
    "import torchvision\n",
    "import torchvision.transforms as transforms\n",
    "import numpy as np\n",
    "from tqdm import tqdm\n",
    "import torch.nn.functional as F\n",
    "import torch.nn as nn\n",
    "import matplotlib.pyplot as plt\n",
    "from IPython.display import clear_output"
   ]
  },
  {
   "cell_type": "markdown",
   "metadata": {
    "id": "1Q6q0a8FkNZ0"
   },
   "source": [
    "### Простейшие операции на pytorch (2 балла)"
   ]
  },
  {
   "cell_type": "markdown",
   "metadata": {
    "id": "mSecuuFUkNZ1"
   },
   "source": [
    "**Task**: Cоздайте два случайных тензора (двумерных, не квадратных):"
   ]
  },
  {
   "cell_type": "code",
   "execution_count": 2,
   "metadata": {
    "id": "S_ojeaHVkNZ1"
   },
   "outputs": [],
   "source": [
    "x = -1.0 * torch.rand(2, 8) \n",
    "y = torch.rand(8, 6)"
   ]
  },
  {
   "cell_type": "markdown",
   "metadata": {
    "id": "pMHfZVhxkNZ4"
   },
   "source": [
    "**Task**: Умножьте их друг на друга, результат запишите в третий тензор без использования оператора `=`, для создания третьего тензора предлагается использовать `torch.empty`:"
   ]
  },
  {
   "cell_type": "code",
   "execution_count": 3,
   "metadata": {
    "id": "ZslrmBBVkNZ5"
   },
   "outputs": [],
   "source": [
    "z = torch.empty(2, 6)\n",
    "z.set_(torch.matmul(x, y))\n",
    "\n",
    "assert torch.equal(torch.matmul(x, y), z)"
   ]
  },
  {
   "cell_type": "markdown",
   "metadata": {
    "id": "5_KxhqOJkNZ7"
   },
   "source": [
    "**Task**: Реализуйте ReLU использую только pytorch, примените его к тензору `x` (запрещено использование модулей torch.nn и его подмодулей, а также функции torch.relu)"
   ]
  },
  {
   "cell_type": "code",
   "execution_count": 4,
   "metadata": {
    "id": "j6TgmaiWkNZ8"
   },
   "outputs": [],
   "source": [
    "def relu_forward(x):\n",
    "    x[x < 0] = 0\n",
    "    return x\n",
    "\n",
    "assert torch.all(F.relu(x) == relu_forward(x))"
   ]
  },
  {
   "cell_type": "code",
   "execution_count": 5,
   "metadata": {
    "id": "8NOYjddWkNZ_"
   },
   "outputs": [],
   "source": [
    "x = relu_forward(x)"
   ]
  },
  {
   "cell_type": "markdown",
   "metadata": {
    "id": "f7ml7vIVkNaB"
   },
   "source": [
    "**Task**: Сделайте тоже самое c ELU (запрещено использование модулей torch.nn и его подмодулей):"
   ]
  },
  {
   "cell_type": "code",
   "execution_count": 6,
   "metadata": {
    "id": "zzQzshhokNaC"
   },
   "outputs": [],
   "source": [
    "def elu_forward(x):\n",
    "    x[x < 0] = torch.exp(x[x < 0]) - 1\n",
    "    return x\n",
    "\n",
    "assert torch.allclose(\n",
    "    F.elu(x),\n",
    "    elu_forward(x), \n",
    "    1e-4\n",
    ")"
   ]
  },
  {
   "cell_type": "markdown",
   "metadata": {
    "id": "7czJ2Q1_kNaE"
   },
   "source": [
    "**Task**: LeakyReLU (запрещено использование модулей torch.nn и его подмодулей):"
   ]
  },
  {
   "cell_type": "code",
   "execution_count": 7,
   "metadata": {
    "id": "PKJrM6NDkNaF"
   },
   "outputs": [],
   "source": [
    "def lrelu_forward(x, alpha):\n",
    "    x[x < 0] = alpha * x[x < 0]\n",
    "    return x\n",
    "\n",
    "assert torch.all(F.leaky_relu(x, 0.01) == lrelu_forward(x, 0.01))"
   ]
  },
  {
   "cell_type": "markdown",
   "metadata": {
    "id": "rCv-y6QqkNaH"
   },
   "source": [
    "**Task**: Теперь перейдем к немного более современным функциям активаций, например Mish, напомним как она выглядит:\n",
    "\n",
    "$$x * tanh(ln(1+e^x))$$\n",
    "\n",
    "(запрещено использование модулей torch.nn и его подмодулей)"
   ]
  },
  {
   "cell_type": "code",
   "execution_count": 8,
   "metadata": {
    "id": "hFOVcQdFkNaH"
   },
   "outputs": [],
   "source": [
    "def mish(x):\n",
    "    return x * np.tanh(np.log(1 + np.exp(x)))"
   ]
  },
  {
   "cell_type": "code",
   "execution_count": 9,
   "metadata": {
    "id": "VptNbZXckNaK"
   },
   "outputs": [],
   "source": [
    "assert torch.allclose(\n",
    "    mish(torch.tensor([1, 1, 1], dtype=torch.float32)), \n",
    "    torch.tensor([0.8651, 0.8651, 0.8651]), \n",
    "    atol=1e-4\n",
    ")\n",
    "\n",
    "assert torch.allclose(\n",
    "    mish(torch.tensor([0.6376, 0.4021, 0.6656, 0.3726], dtype=torch.float64)), \n",
    "    torch.tensor([0.5014, 0.2908, 0.5280, 0.2663], dtype=torch.float64), \n",
    "    atol=1e-4\n",
    ")"
   ]
  },
  {
   "cell_type": "markdown",
   "metadata": {
    "id": "snRZ-K6KkNaM"
   },
   "source": [
    "**Task**: Теперь реализуем swish, напомним как она выглядит:\n",
    "\n",
    "$$x * \\sigma(x)$$\n",
    "\n",
    "(запрещено использование модулей torch.nn и его подмодулей)"
   ]
  },
  {
   "cell_type": "code",
   "execution_count": 10,
   "metadata": {
    "id": "u_kgDKDrkNaN"
   },
   "outputs": [],
   "source": [
    "def swish(x):\n",
    "    return x * 1 / (1 + np.exp(-x))"
   ]
  },
  {
   "cell_type": "code",
   "execution_count": 11,
   "metadata": {
    "id": "69GXkwoTkNaP"
   },
   "outputs": [],
   "source": [
    "assert torch.allclose(\n",
    "    swish(torch.tensor([1, 1, 1], dtype=torch.float32)), \n",
    "    torch.tensor([0.7311, 0.7311, 0.7311]), \n",
    "    atol=1e-4\n",
    ")\n",
    "\n",
    "assert torch.allclose(\n",
    "    swish(torch.tensor([0.6376, 0.4021, 0.6656, 0.3726], dtype=torch.float64)), \n",
    "    torch.tensor([0.4171, 0.2409, 0.4396, 0.2206], dtype=torch.float64), \n",
    "    atol=1e-4\n",
    ")"
   ]
  },
  {
   "cell_type": "markdown",
   "metadata": {
    "id": "P1h81s_LkNaR"
   },
   "source": [
    "### Пишем Adam и применяем его к логистической регрессии (4 балла)\n",
    "\n",
    "\n",
    "В данной секции вам нужно сделать две вещи: \n",
    "\n",
    "1. Написать свой собственный оптимизатор подобно тому, который мы писали на семинаре\n",
    "2. Обучить логистическую регрессию побатчево на картинках из датасета \n",
    "\n",
    "\n",
    "#### Adam\n",
    "\n",
    "\n",
    "$$\n",
    "\\begin{eqnarray}\n",
    "g &=& \\frac{1}{m}\\nabla_w \\sum_i L(f(x_{i};w), y_{i}) \\\\\n",
    "m &=& \\beta_1 m + (1 - \\beta_1) g \\\\\n",
    "v &=& \\beta_2 v + (1 - \\beta_2) diag(gg^{T}) \\\\\n",
    "\\hat{m} &=& \\frac{m}{1 - \\beta_1^{t}} \\\\\n",
    "\\hat{v} &=& \\frac{v}{1 - \\beta_2^{t}} \\\\\n",
    "w &=& w - \\frac{\\eta}{\\sqrt{\\hat{v} + \\epsilon}} \\odot \\hat{m}\n",
    "\\end{eqnarray}\n",
    "$$"
   ]
  },
  {
   "cell_type": "code",
   "execution_count": 12,
   "metadata": {
    "id": "KPh31S95kNaS"
   },
   "outputs": [],
   "source": [
    "# абстрактный класс, не обращайте внимания\n",
    "from torch.optim import Optimizer\n",
    "\n",
    "class InClassOptimizer(Optimizer):\n",
    "    def step(self):\n",
    "        \"\"\"Perform single optimization step.\"\"\"\n",
    "        with torch.no_grad(): # выключим градиенты\n",
    "            for group in self.param_groups:\n",
    "                self._group_step(group)\n",
    "\n",
    "    def _group_step(self, group):\n",
    "        # group ~ dict[str, ...]\n",
    "        \"\"\"\n",
    "        Private helper function to perform\n",
    "        single optimization step on model parameters.\n",
    "        \"\"\"\n",
    "        raise NotImplementedError()"
   ]
  },
  {
   "cell_type": "markdown",
   "metadata": {
    "id": "_1aruxCxkNaU"
   },
   "source": [
    "**Task**: Напишите свою реализацию Adam:"
   ]
  },
  {
   "cell_type": "code",
   "execution_count": 13,
   "metadata": {
    "id": "Q3CHPa36kNaU"
   },
   "outputs": [],
   "source": [
    "class Adam(InClassOptimizer):\n",
    "    def __init__(self, params, lr=0.001, eps=1e-13, beta_1=0.9, beta_2=0.999):\n",
    "        defaults = dict(lr=lr, eps=eps, beta_1=beta_1, beta_2=beta_2, t=1)\n",
    "        super().__init__(params, defaults)\n",
    "\n",
    "    def _group_step(self, group):\n",
    "        # One group contains information about values passed in init\n",
    "        # and model parameters to update\n",
    "        lr = group['lr']\n",
    "        eps = group['eps']\n",
    "        beta_1 = group['beta_1']\n",
    "        beta_2 = group['beta_2']\n",
    "        t = group['t']\n",
    "        for param in filter(lambda x: x.grad is not None, group['params']):\n",
    "            self._init_adam_buffer(param)\n",
    "            m, v = self._get_adam_buffer(param)\n",
    "            m.set_(m * beta_1 + (1 - beta_1) * param.grad)\n",
    "            v.set_(v * beta_2 + (1 - beta_2) * param.grad**2)\n",
    "            m_cap = m / (1 - beta_1**t)\n",
    "            v_cap = v / (1 - beta_2**t)\n",
    "            param.add_(m_cap / torch.sqrt(v_cap + eps), alpha=-lr)\n",
    "        group['t'] += 1\n",
    "        \n",
    "    def _get_adam_buffer(self, param):\n",
    "        \"\"\"\n",
    "        Get accumulated gradients for Adam.\n",
    "\n",
    "        Parameters\n",
    "        ----------\n",
    "        param : `torch.Tensor`, required\n",
    "            Model parameter to get accumulated gradeints for Adagrad.\n",
    "\n",
    "        Returns\n",
    "        -------\n",
    "        Accumulated Adam gradients for parameter.\n",
    "        \"\"\"\n",
    "        param_state = self.state[param]\n",
    "\n",
    "        return param_state['m'], param_state['v']\n",
    "\n",
    "    def _init_adam_buffer(self, param):\n",
    "        \"\"\"\n",
    "        Initialize accumulated gradeints for adam.\n",
    "\n",
    "        Parameters\n",
    "        ----------\n",
    "        param : `torch.Tensor`, required\n",
    "            Model parameter to get accumulated gradeints for adam.\n",
    "        \"\"\"\n",
    "        param_state = self.state[param]\n",
    "        if 'm' not in param_state:\n",
    "            param_state['m'] = torch.zeros_like(param)\n",
    "        if 'v' not in param_state:\n",
    "            param_state['v'] = torch.zeros_like(param)    "
   ]
  },
  {
   "cell_type": "markdown",
   "metadata": {
    "id": "QMZ0fKy8M2c4"
   },
   "source": [
    "Проверим наш Optimizer на корректность, используя в качестве данных для модели воспользуемся make_regression из sklearn."
   ]
  },
  {
   "cell_type": "code",
   "execution_count": 14,
   "metadata": {
    "id": "rGPDEZQIM0rk"
   },
   "outputs": [],
   "source": [
    "from sklearn.datasets import make_regression\n",
    "\n",
    "def seed_everything(seed):\n",
    "    random.seed(seed)\n",
    "    os.environ[\"PYTHONHASHSEED\"] = str(seed)\n",
    "    np.random.seed(seed)\n",
    "    torch.manual_seed(seed)\n",
    "    torch.cuda.manual_seed(seed)\n",
    "    torch.backends.cudnn.deterministic = True\n",
    "\n",
    "X, y = map(\n",
    "    lambda x: torch.from_numpy(x).float(),\n",
    "    make_regression(n_samples=200, n_features=2)\n",
    ")\n",
    "\n",
    "def get_model():\n",
    "    seed_everything(42)\n",
    "\n",
    "    return torch.nn.Sequential(\n",
    "        torch.nn.Linear(2, 8),\n",
    "        torch.nn.Linear(8, 6)\n",
    "    )\n",
    "\n",
    "def check_optimizer(model, optim, num_iter):\n",
    "    loss = torch.nn.MSELoss()\n",
    "    for i in range(num_iter):\n",
    "        output = loss(model(X), y.unsqueeze(-1))\n",
    "        output.backward()\n",
    "        optim.step()\n",
    "        optim.zero_grad()\n",
    "        if i % 100 == 0:\n",
    "            print(f'Iteration {i} loss:', output.item())    "
   ]
  },
  {
   "cell_type": "code",
   "execution_count": 15,
   "metadata": {
    "colab": {
     "base_uri": "https://localhost:8080/"
    },
    "id": "tphyKSwqNXSh",
    "outputId": "b87e993c-eddd-45d9-a46a-fbd3bccd8b2c"
   },
   "outputs": [
    {
     "name": "stderr",
     "output_type": "stream",
     "text": [
      "/usr/local/lib/python3.6/dist-packages/torch/nn/modules/loss.py:445: UserWarning: Using a target size (torch.Size([200, 1])) that is different to the input size (torch.Size([200, 6])). This will likely lead to incorrect results due to broadcasting. Please ensure they have the same size.\n",
      "  return F.mse_loss(input, target, reduction=self.reduction)\n"
     ]
    },
    {
     "name": "stdout",
     "output_type": "stream",
     "text": [
      "Iteration 0 loss: 3263.963134765625\n",
      "Iteration 100 loss: 1290.9501953125\n",
      "Iteration 200 loss: 3.912621259689331\n",
      "Iteration 300 loss: 0.025443019345402718\n",
      "Iteration 400 loss: 0.011614788323640823\n",
      "Iteration 500 loss: 0.009028637781739235\n",
      "Iteration 600 loss: 0.00753412488847971\n",
      "Iteration 700 loss: 0.00634402921423316\n",
      "Iteration 800 loss: 0.005283510312438011\n",
      "Iteration 900 loss: 0.00433191517367959\n",
      "Iteration 1000 loss: 0.003492513904348016\n"
     ]
    }
   ],
   "source": [
    "model = get_model()\n",
    "optimizer = Adam(model.parameters(), lr=0.01)\n",
    "check_optimizer(model, optimizer, num_iter=1100)"
   ]
  },
  {
   "cell_type": "code",
   "execution_count": 16,
   "metadata": {
    "colab": {
     "base_uri": "https://localhost:8080/"
    },
    "id": "1gKT6TGANcMT",
    "outputId": "59bfc48d-97f5-4303-e365-1afe81d0bbaa"
   },
   "outputs": [
    {
     "name": "stdout",
     "output_type": "stream",
     "text": [
      "Iteration 0 loss: 3263.963134765625\n"
     ]
    },
    {
     "name": "stderr",
     "output_type": "stream",
     "text": [
      "/usr/local/lib/python3.6/dist-packages/torch/nn/modules/loss.py:445: UserWarning: Using a target size (torch.Size([200, 1])) that is different to the input size (torch.Size([200, 6])). This will likely lead to incorrect results due to broadcasting. Please ensure they have the same size.\n",
      "  return F.mse_loss(input, target, reduction=self.reduction)\n"
     ]
    },
    {
     "name": "stdout",
     "output_type": "stream",
     "text": [
      "Iteration 100 loss: 1290.9500732421875\n",
      "Iteration 200 loss: 3.9126172065734863\n",
      "Iteration 300 loss: 0.025442952290177345\n",
      "Iteration 400 loss: 0.011614780873060226\n",
      "Iteration 500 loss: 0.009028682485222816\n",
      "Iteration 600 loss: 0.007534132804721594\n",
      "Iteration 700 loss: 0.006344052031636238\n",
      "Iteration 800 loss: 0.005283525679260492\n",
      "Iteration 900 loss: 0.004331957548856735\n",
      "Iteration 1000 loss: 0.0034925115760415792\n"
     ]
    }
   ],
   "source": [
    "model = get_model()\n",
    "optimizer = torch.optim.Adam(model.parameters(), lr=0.01)\n",
    "check_optimizer(model, optimizer, num_iter=1100)"
   ]
  },
  {
   "cell_type": "markdown",
   "metadata": {
    "id": "Zgqfy8I0kNaW"
   },
   "source": [
    "**Task**: Создайте параметры для обучения логистической регрессии, сделаем Xavier ициализацию, которая выглядит следующим образом: \n",
    "\n",
    "$$w \\sim U[-\\frac{\\sqrt{6}}{\\sqrt{n_{in} + n_{out}}}, \\frac{\\sqrt{6}}{\\sqrt{n_{in} + n_{out}}}]$$\n",
    "\n",
    "где: \n",
    "\n",
    "* $n_{in}$ -- размер входа (в нейронах) \n",
    "* $n_{out}$ -- размер выхода (в нейронах)\n",
    "\n",
    "Подумайте над выбором $n_{in}$ и $n_{out}$ самостоятельно. "
   ]
  },
  {
   "cell_type": "code",
   "execution_count": 17,
   "metadata": {
    "id": "gbMrBZkgOPtk"
   },
   "outputs": [],
   "source": [
    "def xavier(n_in, n_out):\n",
    "    return torch.Tensor(n_in, n_out).uniform_(-1, 1) * math.sqrt(6./(n_in + n_out))"
   ]
  },
  {
   "cell_type": "code",
   "execution_count": 18,
   "metadata": {
    "id": "xdRcbscDkNaX"
   },
   "outputs": [],
   "source": [
    "weights = xavier(784, 10)\n",
    "weights.requires_grad = True\n",
    "intercept = torch.ones(10, requires_grad=True)"
   ]
  },
  {
   "cell_type": "code",
   "execution_count": 19,
   "metadata": {
    "id": "WWV2VjEokNaZ"
   },
   "outputs": [],
   "source": [
    "optimizer = Adam([weights, intercept])\n",
    "criterion = nn.CrossEntropyLoss()"
   ]
  },
  {
   "cell_type": "markdown",
   "metadata": {
    "id": "ACGOsTu9kNac"
   },
   "source": [
    "Загрузим данные и создадим даталоадеры:"
   ]
  },
  {
   "cell_type": "code",
   "execution_count": 13,
   "metadata": {
    "colab": {
     "base_uri": "https://localhost:8080/",
     "height": 403,
     "referenced_widgets": [
      "a5646db76e4a4ca99dc4b8bef5e828fc",
      "a08de4cb17264e0bbd09545a9e2a99a9",
      "e6e42d9b44124870a26a4cc1a1fe0183",
      "4d2760e0863c4b2689021f9237a86907",
      "e2de52beeb9a4f8bac47a64c372fcaa2",
      "3a6157941da54755bafe19feac48990a",
      "8febdff061c141bcb55e4e55c2399a05",
      "b2663528573c47e1b3004766f23998f7",
      "95715ea399d64997a861931e6ce8e949",
      "d7d4cd0ccee1461194d72421a9730c67",
      "ae40df30249d477d9add8e3973be08bb",
      "e8145dfcac6e45cf8a72176efd004a88",
      "a552a660ef664ca2b5c49766ab39eabe",
      "9931f7f481a54e2dbb8ee20a35eb7006",
      "8bcde357d4ce45a2b6173b76f06aec94",
      "353f3553676341ef8c2ba2a2049147e9",
      "1c410f97df3e4852aa0872b3c06d085f",
      "48a6e202c9c941d2b8e44e42a8a801e5",
      "4ff56b51bda3421b9bf6b0054326ea97",
      "e6e6741f9ab24da5afdcda625fa700c0",
      "5c379f0c82b1499599b0a657e874a348",
      "8275cf3262dd4d18b962d170e581f16f",
      "4a50551d379941469c8d5577435789ed",
      "d7bb26473f79446da15e4867cce3b25e",
      "a03c1351cf1d425bb98acdcb805fd4db",
      "afa32c6ca2724d989101699619cd0e61",
      "b5319cbf98ee4c93aafb1b5d625b8fdc",
      "a28afc99ecaf478a99460552879b8424",
      "09d12b9e69804cfd8692c91045eacd1b",
      "d74ca8d4368848cf849290830cfbe000",
      "8b4645618a164a00862b1593d8510b8e",
      "aaf7558b175f4be0b5b781700f8a558b"
     ]
    },
    "id": "kszddKuskNac",
    "outputId": "95b67b14-ea04-42e1-850b-0db02b595fe6"
   },
   "outputs": [
    {
     "name": "stdout",
     "output_type": "stream",
     "text": [
      "Downloading http://fashion-mnist.s3-website.eu-central-1.amazonaws.com/train-images-idx3-ubyte.gz to ./data/FashionMNIST/raw/train-images-idx3-ubyte.gz\n"
     ]
    },
    {
     "data": {
      "application/vnd.jupyter.widget-view+json": {
       "model_id": "a5646db76e4a4ca99dc4b8bef5e828fc",
       "version_major": 2,
       "version_minor": 0
      },
      "text/plain": [
       "HBox(children=(FloatProgress(value=1.0, bar_style='info', max=1.0), HTML(value='')))"
      ]
     },
     "metadata": {
      "tags": []
     },
     "output_type": "display_data"
    },
    {
     "name": "stdout",
     "output_type": "stream",
     "text": [
      "Extracting ./data/FashionMNIST/raw/train-images-idx3-ubyte.gz to ./data/FashionMNIST/raw\n",
      "Downloading http://fashion-mnist.s3-website.eu-central-1.amazonaws.com/train-labels-idx1-ubyte.gz to ./data/FashionMNIST/raw/train-labels-idx1-ubyte.gz\n"
     ]
    },
    {
     "data": {
      "application/vnd.jupyter.widget-view+json": {
       "model_id": "95715ea399d64997a861931e6ce8e949",
       "version_major": 2,
       "version_minor": 0
      },
      "text/plain": [
       "HBox(children=(FloatProgress(value=1.0, bar_style='info', max=1.0), HTML(value='')))"
      ]
     },
     "metadata": {
      "tags": []
     },
     "output_type": "display_data"
    },
    {
     "name": "stdout",
     "output_type": "stream",
     "text": [
      "Extracting ./data/FashionMNIST/raw/train-labels-idx1-ubyte.gz to ./data/FashionMNIST/raw\n",
      "Downloading http://fashion-mnist.s3-website.eu-central-1.amazonaws.com/t10k-images-idx3-ubyte.gz to ./data/FashionMNIST/raw/t10k-images-idx3-ubyte.gz\n"
     ]
    },
    {
     "data": {
      "application/vnd.jupyter.widget-view+json": {
       "model_id": "1c410f97df3e4852aa0872b3c06d085f",
       "version_major": 2,
       "version_minor": 0
      },
      "text/plain": [
       "HBox(children=(FloatProgress(value=1.0, bar_style='info', max=1.0), HTML(value='')))"
      ]
     },
     "metadata": {
      "tags": []
     },
     "output_type": "display_data"
    },
    {
     "name": "stdout",
     "output_type": "stream",
     "text": [
      "Extracting ./data/FashionMNIST/raw/t10k-images-idx3-ubyte.gz to ./data/FashionMNIST/raw\n",
      "Downloading http://fashion-mnist.s3-website.eu-central-1.amazonaws.com/t10k-labels-idx1-ubyte.gz to ./data/FashionMNIST/raw/t10k-labels-idx1-ubyte.gz\n",
      "\n",
      "\n"
     ]
    },
    {
     "data": {
      "application/vnd.jupyter.widget-view+json": {
       "model_id": "a03c1351cf1d425bb98acdcb805fd4db",
       "version_major": 2,
       "version_minor": 0
      },
      "text/plain": [
       "HBox(children=(FloatProgress(value=1.0, bar_style='info', max=1.0), HTML(value='')))"
      ]
     },
     "metadata": {
      "tags": []
     },
     "output_type": "display_data"
    },
    {
     "name": "stdout",
     "output_type": "stream",
     "text": [
      "Extracting ./data/FashionMNIST/raw/t10k-labels-idx1-ubyte.gz to ./data/FashionMNIST/raw\n",
      "Processing...\n",
      "Done!\n"
     ]
    },
    {
     "name": "stderr",
     "output_type": "stream",
     "text": [
      "/usr/local/lib/python3.6/dist-packages/torchvision/datasets/mnist.py:469: UserWarning: The given NumPy array is not writeable, and PyTorch does not support non-writeable tensors. This means you can write to the underlying (supposedly non-writeable) NumPy array using the tensor. You may want to copy the array to protect its data or make it writeable before converting it to a tensor. This type of warning will be suppressed for the rest of this program. (Triggered internally at  /pytorch/torch/csrc/utils/tensor_numpy.cpp:141.)\n",
      "  return torch.from_numpy(parsed.astype(m[2], copy=False)).view(*s)\n"
     ]
    }
   ],
   "source": [
    "fashion_mnist_train = torchvision.datasets.FashionMNIST(\n",
    "    './data',\n",
    "    download=True,\n",
    "    transform=transforms.Compose([transforms.ToTensor()])\n",
    ")\n",
    "\n",
    "train_dataloader = DataLoader(\n",
    "    fashion_mnist_train, batch_size=128, shuffle=True, num_workers=4\n",
    ")\n",
    "\n",
    "fashion_mnist_eval = torchvision.datasets.FashionMNIST(\n",
    "    './data',\n",
    "    train=False,\n",
    "    download=True,\n",
    "    transform=transforms.Compose([transforms.ToTensor()])\n",
    ")\n",
    "\n",
    "eval_dataloader = DataLoader(\n",
    "    fashion_mnist_eval, batch_size=10000, num_workers=4\n",
    ")\n",
    "\n",
    "classes = ('T-shirt/top', 'Trouser', 'Pullover', 'Dress', 'Coat', 'Sandal', 'Shirt', 'Sneaker', 'Bag', 'Ankle boot')"
   ]
  },
  {
   "cell_type": "markdown",
   "metadata": {
    "id": "lenL7Mxd72jR"
   },
   "source": [
    "Посмотрим на несколько тестовых изображений:"
   ]
  },
  {
   "cell_type": "code",
   "execution_count": 21,
   "metadata": {
    "colab": {
     "base_uri": "https://localhost:8080/",
     "height": 155
    },
    "id": "bgn-GFjf8Hn4",
    "outputId": "8b91efe7-3624-4117-f1fe-a053279d6722"
   },
   "outputs": [
    {
     "data": {
      "image/png": "[encoded data removed]",
      "text/plain": [
       "<Figure size 432x288 with 1 Axes>"
      ]
     },
     "metadata": {
      "needs_background": "light",
      "tags": []
     },
     "output_type": "display_data"
    },
    {
     "name": "stdout",
     "output_type": "stream",
     "text": [
      "Sneaker T-shirt/top Sandal Dress\n"
     ]
    }
   ],
   "source": [
    "def imshow(img):\n",
    "    img = img / 2 + 0.5  \n",
    "    npimg = img.numpy()\n",
    "    plt.imshow(np.transpose(npimg, (1, 2, 0)))\n",
    "    plt.show()\n",
    "\n",
    "dataiter = iter(DataLoader(\n",
    "    fashion_mnist_train, batch_size=4, shuffle=True, num_workers=4\n",
    "))\n",
    "\n",
    "images, labels = dataiter.next()\n",
    "\n",
    "imshow(torchvision.utils.make_grid(images))\n",
    "print(' '.join('%5s' % classes[labels[j]] for j in range(4)))"
   ]
  },
  {
   "cell_type": "markdown",
   "metadata": {
    "id": "7U1Be_SUkNae"
   },
   "source": [
    "Напишите функцию для тренировки логистической регрессии, она должна: \n",
    "\n",
    "    * Делать предсказания \n",
    "    * Считать лосс \n",
    "    * Подсчитывать градиенты\n",
    "    * Делать шаг оптимизации\n",
    "    * Обнулять посчитанные градиенты\n",
    "    * Считать метрики \n",
    "    * Возвращать полученные метрики\n",
    "    \n",
    "После этого предусмотрите возможность визуализировать метрики, чтобы нарисовать картинки, а именно от вас требуется визуализировать: \n",
    "\n",
    "    * Зависимость лосса от количества итераций\n",
    "    * Зависимость доли правильных ответов от количества итераций"
   ]
  },
  {
   "cell_type": "code",
   "execution_count": 22,
   "metadata": {
    "id": "Y-9b_sI-kNaf"
   },
   "outputs": [],
   "source": [
    "def train_logistic_regression(weights, bias, batch, loss, optimizer):\n",
    "    inputs, labels = batch\n",
    "    inputs = inputs.view(inputs.shape[0], -1)\n",
    "\n",
    "    # Обнуление посчитанных градиентов\n",
    "    optimizer.zero_grad()\n",
    "    # Предсказание модели\n",
    "    outputs = inputs @ weights + bias\n",
    "    # Подсчет loss\n",
    "    loss = loss(outputs, labels)\n",
    "    # Подсчет градиентов\n",
    "    loss.backward()\n",
    "    # Шаг оптимизации\n",
    "    optimizer.step()\n",
    "    # Подсчет accuracy\n",
    "    _, predicted_classes = torch.max(outputs, 1)\n",
    "    accuracy = (predicted_classes == labels).sum().item() / outputs.shape[0]\n",
    "\n",
    "    return loss.item(), accuracy"
   ]
  },
  {
   "cell_type": "code",
   "execution_count": 23,
   "metadata": {
    "id": "hUmlygSxQ-4y"
   },
   "outputs": [],
   "source": [
    "def test_logistic_regression(weights, bias, batch, loss):\n",
    "    inputs = batch[0].view(batch[0].shape[0], -1)\n",
    "    labels = batch[1]\n",
    "\n",
    "    # Предсказание модели\n",
    "    outputs = inputs @ weights + bias\n",
    "    # Подсчет loss\n",
    "    loss = loss( outputs, labels)\n",
    "    # Подсчет accuracy\n",
    "    _, predicted_classes = torch.max(outputs, 1)\n",
    "    accuracy = (predicted_classes == labels).sum().item() / outputs.shape[0]\n",
    "    \n",
    "    return loss.item(), accuracy"
   ]
  },
  {
   "cell_type": "code",
   "execution_count": 24,
   "metadata": {
    "colab": {
     "base_uri": "https://localhost:8080/"
    },
    "id": "cU0Ms9NIkNah",
    "outputId": "ca440bca-7d3b-4ef2-8423-2a35e87a590e"
   },
   "outputs": [
    {
     "name": "stdout",
     "output_type": "stream",
     "text": [
      "[1 epoch]\n",
      "train loss: 0.73381 | train accuracy: 0.75975\n",
      "test loss: 0.57527  | test accuracy: 0.80450\n",
      "[2 epoch]\n",
      "train loss: 0.51352 | train accuracy: 0.82763\n",
      "test loss: 0.51451  | test accuracy: 0.82510\n",
      "[3 epoch]\n",
      "train loss: 0.47358 | train accuracy: 0.84089\n",
      "test loss: 0.49003  | test accuracy: 0.82900\n",
      "[4 epoch]\n",
      "train loss: 0.45135 | train accuracy: 0.84805\n",
      "test loss: 0.47663  | test accuracy: 0.83350\n",
      "[5 epoch]\n",
      "train loss: 0.43860 | train accuracy: 0.85080\n",
      "test loss: 0.47155  | test accuracy: 0.83360\n",
      "[6 epoch]\n",
      "train loss: 0.42682 | train accuracy: 0.85401\n",
      "test loss: 0.46194  | test accuracy: 0.83780\n",
      "[7 epoch]\n",
      "train loss: 0.42052 | train accuracy: 0.85680\n",
      "test loss: 0.46000  | test accuracy: 0.84060\n",
      "[8 epoch]\n",
      "train loss: 0.41535 | train accuracy: 0.85707\n",
      "test loss: 0.45494  | test accuracy: 0.83990\n",
      "[9 epoch]\n",
      "train loss: 0.40994 | train accuracy: 0.85950\n",
      "test loss: 0.44917  | test accuracy: 0.84350\n",
      "[10 epoch]\n",
      "train loss: 0.40545 | train accuracy: 0.86082\n",
      "test loss: 0.45526  | test accuracy: 0.84050\n",
      "[11 epoch]\n",
      "train loss: 0.40162 | train accuracy: 0.86220\n",
      "test loss: 0.44771  | test accuracy: 0.84300\n",
      "[12 epoch]\n",
      "train loss: 0.39886 | train accuracy: 0.86271\n",
      "test loss: 0.44293  | test accuracy: 0.84550\n",
      "[13 epoch]\n",
      "train loss: 0.39662 | train accuracy: 0.86195\n",
      "test loss: 0.44195  | test accuracy: 0.84450\n",
      "[14 epoch]\n",
      "train loss: 0.39303 | train accuracy: 0.86427\n",
      "test loss: 0.44990  | test accuracy: 0.84140\n",
      "[15 epoch]\n",
      "train loss: 0.39309 | train accuracy: 0.86426\n",
      "test loss: 0.44299  | test accuracy: 0.84530\n",
      "[16 epoch]\n",
      "train loss: 0.38945 | train accuracy: 0.86482\n",
      "test loss: 0.44345  | test accuracy: 0.84370\n",
      "[17 epoch]\n",
      "train loss: 0.38823 | train accuracy: 0.86495\n",
      "test loss: 0.43930  | test accuracy: 0.84640\n",
      "[18 epoch]\n",
      "train loss: 0.38595 | train accuracy: 0.86649\n",
      "test loss: 0.44068  | test accuracy: 0.84550\n",
      "[19 epoch]\n",
      "train loss: 0.38478 | train accuracy: 0.86725\n",
      "test loss: 0.43986  | test accuracy: 0.84510\n",
      "[20 epoch]\n",
      "train loss: 0.38297 | train accuracy: 0.86669\n",
      "test loss: 0.43957  | test accuracy: 0.84650\n",
      "[21 epoch]\n",
      "train loss: 0.38242 | train accuracy: 0.86675\n",
      "test loss: 0.44202  | test accuracy: 0.84650\n",
      "[22 epoch]\n",
      "train loss: 0.38167 | train accuracy: 0.86811\n",
      "test loss: 0.43673  | test accuracy: 0.84610\n",
      "[23 epoch]\n",
      "train loss: 0.38038 | train accuracy: 0.86703\n",
      "test loss: 0.43687  | test accuracy: 0.84700\n",
      "[24 epoch]\n",
      "train loss: 0.37814 | train accuracy: 0.86836\n",
      "test loss: 0.43780  | test accuracy: 0.84500\n",
      "[25 epoch]\n",
      "train loss: 0.37834 | train accuracy: 0.86803\n",
      "test loss: 0.44072  | test accuracy: 0.84520\n",
      "[26 epoch]\n",
      "train loss: 0.37626 | train accuracy: 0.86978\n",
      "test loss: 0.43815  | test accuracy: 0.84570\n",
      "[27 epoch]\n",
      "train loss: 0.37565 | train accuracy: 0.86890\n",
      "test loss: 0.43636  | test accuracy: 0.84820\n",
      "[28 epoch]\n",
      "train loss: 0.37564 | train accuracy: 0.86878\n",
      "test loss: 0.43871  | test accuracy: 0.84680\n",
      "[29 epoch]\n",
      "train loss: 0.37414 | train accuracy: 0.86971\n",
      "test loss: 0.44483  | test accuracy: 0.84560\n",
      "[30 epoch]\n",
      "train loss: 0.37333 | train accuracy: 0.86963\n",
      "test loss: 0.43959  | test accuracy: 0.84690\n",
      "[31 epoch]\n",
      "train loss: 0.37241 | train accuracy: 0.86997\n",
      "test loss: 0.43681  | test accuracy: 0.84710\n",
      "[32 epoch]\n",
      "train loss: 0.37206 | train accuracy: 0.87038\n",
      "test loss: 0.44927  | test accuracy: 0.84280\n",
      "[33 epoch]\n",
      "train loss: 0.37160 | train accuracy: 0.86987\n",
      "test loss: 0.44774  | test accuracy: 0.84290\n",
      "[34 epoch]\n",
      "train loss: 0.37090 | train accuracy: 0.87077\n",
      "test loss: 0.44063  | test accuracy: 0.84490\n",
      "[35 epoch]\n",
      "train loss: 0.37050 | train accuracy: 0.87044\n",
      "test loss: 0.44264  | test accuracy: 0.84480\n",
      "[36 epoch]\n",
      "train loss: 0.36862 | train accuracy: 0.87042\n",
      "test loss: 0.43672  | test accuracy: 0.84610\n",
      "[37 epoch]\n",
      "train loss: 0.36894 | train accuracy: 0.87046\n",
      "test loss: 0.44490  | test accuracy: 0.84410\n",
      "[38 epoch]\n",
      "train loss: 0.36933 | train accuracy: 0.87048\n",
      "test loss: 0.44551  | test accuracy: 0.84770\n",
      "[39 epoch]\n",
      "train loss: 0.36741 | train accuracy: 0.87132\n",
      "test loss: 0.43792  | test accuracy: 0.84630\n",
      "[40 epoch]\n",
      "train loss: 0.36677 | train accuracy: 0.87152\n",
      "test loss: 0.44216  | test accuracy: 0.84350\n",
      "[41 epoch]\n",
      "train loss: 0.36617 | train accuracy: 0.87130\n",
      "test loss: 0.43763  | test accuracy: 0.84730\n",
      "[42 epoch]\n",
      "train loss: 0.36603 | train accuracy: 0.87173\n",
      "test loss: 0.44152  | test accuracy: 0.84670\n",
      "[43 epoch]\n",
      "train loss: 0.36540 | train accuracy: 0.87286\n",
      "test loss: 0.43908  | test accuracy: 0.84710\n",
      "[44 epoch]\n",
      "train loss: 0.36494 | train accuracy: 0.87153\n",
      "test loss: 0.44179  | test accuracy: 0.84570\n",
      "[45 epoch]\n",
      "train loss: 0.36437 | train accuracy: 0.87252\n",
      "test loss: 0.43805  | test accuracy: 0.84720\n",
      "[46 epoch]\n",
      "train loss: 0.36477 | train accuracy: 0.87192\n",
      "test loss: 0.44121  | test accuracy: 0.84720\n",
      "[47 epoch]\n",
      "train loss: 0.36442 | train accuracy: 0.87117\n",
      "test loss: 0.45242  | test accuracy: 0.84240\n",
      "[48 epoch]\n",
      "train loss: 0.36368 | train accuracy: 0.87272\n",
      "test loss: 0.44696  | test accuracy: 0.84180\n",
      "[49 epoch]\n",
      "train loss: 0.36360 | train accuracy: 0.87251\n",
      "test loss: 0.44612  | test accuracy: 0.84470\n",
      "[50 epoch]\n",
      "train loss: 0.36328 | train accuracy: 0.87246\n",
      "test loss: 0.44708  | test accuracy: 0.84320\n",
      "[51 epoch]\n",
      "train loss: 0.36331 | train accuracy: 0.87246\n",
      "test loss: 0.43846  | test accuracy: 0.84640\n",
      "[52 epoch]\n",
      "train loss: 0.36233 | train accuracy: 0.87337\n",
      "test loss: 0.44082  | test accuracy: 0.84540\n",
      "[53 epoch]\n",
      "train loss: 0.36111 | train accuracy: 0.87283\n",
      "test loss: 0.44426  | test accuracy: 0.84420\n",
      "[54 epoch]\n",
      "train loss: 0.36067 | train accuracy: 0.87325\n",
      "test loss: 0.43952  | test accuracy: 0.84730\n",
      "[55 epoch]\n",
      "train loss: 0.36147 | train accuracy: 0.87291\n",
      "test loss: 0.44319  | test accuracy: 0.84570\n",
      "[56 epoch]\n",
      "train loss: 0.36069 | train accuracy: 0.87283\n",
      "test loss: 0.44015  | test accuracy: 0.84600\n",
      "[57 epoch]\n",
      "train loss: 0.36048 | train accuracy: 0.87277\n",
      "test loss: 0.44041  | test accuracy: 0.84690\n",
      "[58 epoch]\n",
      "train loss: 0.36046 | train accuracy: 0.87230\n",
      "test loss: 0.44070  | test accuracy: 0.84680\n",
      "[59 epoch]\n",
      "train loss: 0.35899 | train accuracy: 0.87415\n",
      "test loss: 0.44290  | test accuracy: 0.84430\n",
      "[60 epoch]\n",
      "train loss: 0.36025 | train accuracy: 0.87381\n",
      "test loss: 0.43948  | test accuracy: 0.84630\n",
      "[61 epoch]\n",
      "train loss: 0.35956 | train accuracy: 0.87301\n",
      "test loss: 0.44170  | test accuracy: 0.84620\n",
      "[62 epoch]\n",
      "train loss: 0.35863 | train accuracy: 0.87308\n",
      "test loss: 0.44263  | test accuracy: 0.84390\n",
      "[63 epoch]\n",
      "train loss: 0.35827 | train accuracy: 0.87348\n",
      "test loss: 0.44330  | test accuracy: 0.84430\n",
      "[64 epoch]\n",
      "train loss: 0.35848 | train accuracy: 0.87370\n",
      "test loss: 0.44510  | test accuracy: 0.84400\n",
      "[65 epoch]\n",
      "train loss: 0.35677 | train accuracy: 0.87457\n",
      "test loss: 0.44508  | test accuracy: 0.84310\n",
      "[66 epoch]\n",
      "train loss: 0.35763 | train accuracy: 0.87520\n",
      "test loss: 0.44521  | test accuracy: 0.84740\n",
      "[67 epoch]\n",
      "train loss: 0.35747 | train accuracy: 0.87434\n",
      "test loss: 0.44041  | test accuracy: 0.84670\n",
      "[68 epoch]\n",
      "train loss: 0.35713 | train accuracy: 0.87398\n",
      "test loss: 0.44435  | test accuracy: 0.84550\n",
      "[69 epoch]\n",
      "train loss: 0.35640 | train accuracy: 0.87511\n",
      "test loss: 0.44328  | test accuracy: 0.84420\n",
      "[70 epoch]\n",
      "train loss: 0.35614 | train accuracy: 0.87511\n",
      "test loss: 0.44418  | test accuracy: 0.84500\n",
      "[71 epoch]\n",
      "train loss: 0.35681 | train accuracy: 0.87459\n",
      "test loss: 0.45573  | test accuracy: 0.84000\n",
      "[72 epoch]\n",
      "train loss: 0.35597 | train accuracy: 0.87512\n",
      "test loss: 0.44474  | test accuracy: 0.84620\n",
      "[73 epoch]\n",
      "train loss: 0.35597 | train accuracy: 0.87484\n",
      "test loss: 0.45223  | test accuracy: 0.84280\n",
      "[74 epoch]\n",
      "train loss: 0.35524 | train accuracy: 0.87427\n",
      "test loss: 0.44520  | test accuracy: 0.84390\n",
      "[75 epoch]\n",
      "train loss: 0.35662 | train accuracy: 0.87465\n",
      "test loss: 0.44379  | test accuracy: 0.84510\n",
      "[76 epoch]\n",
      "train loss: 0.35489 | train accuracy: 0.87567\n",
      "test loss: 0.44765  | test accuracy: 0.84380\n",
      "[77 epoch]\n",
      "train loss: 0.35559 | train accuracy: 0.87516\n",
      "test loss: 0.44775  | test accuracy: 0.84350\n",
      "[78 epoch]\n",
      "train loss: 0.35457 | train accuracy: 0.87479\n",
      "test loss: 0.44472  | test accuracy: 0.84540\n",
      "[79 epoch]\n",
      "train loss: 0.35486 | train accuracy: 0.87527\n",
      "test loss: 0.44449  | test accuracy: 0.84660\n",
      "[80 epoch]\n",
      "train loss: 0.35469 | train accuracy: 0.87484\n",
      "test loss: 0.44344  | test accuracy: 0.84550\n",
      "[81 epoch]\n",
      "train loss: 0.35367 | train accuracy: 0.87487\n",
      "test loss: 0.45673  | test accuracy: 0.83870\n",
      "[82 epoch]\n",
      "train loss: 0.35304 | train accuracy: 0.87487\n",
      "test loss: 0.45336  | test accuracy: 0.84250\n",
      "[83 epoch]\n",
      "train loss: 0.35418 | train accuracy: 0.87382\n",
      "test loss: 0.44722  | test accuracy: 0.84570\n",
      "[84 epoch]\n",
      "train loss: 0.35448 | train accuracy: 0.87483\n",
      "test loss: 0.44449  | test accuracy: 0.84470\n",
      "[85 epoch]\n",
      "train loss: 0.35319 | train accuracy: 0.87538\n",
      "test loss: 0.45870  | test accuracy: 0.84150\n",
      "[86 epoch]\n",
      "train loss: 0.35403 | train accuracy: 0.87540\n",
      "test loss: 0.44881  | test accuracy: 0.84530\n",
      "[87 epoch]\n",
      "train loss: 0.35350 | train accuracy: 0.87557\n",
      "test loss: 0.44563  | test accuracy: 0.84500\n",
      "[88 epoch]\n",
      "train loss: 0.35293 | train accuracy: 0.87512\n",
      "test loss: 0.44493  | test accuracy: 0.84400\n",
      "[89 epoch]\n",
      "train loss: 0.35215 | train accuracy: 0.87564\n",
      "test loss: 0.44967  | test accuracy: 0.84320\n",
      "[90 epoch]\n",
      "train loss: 0.35179 | train accuracy: 0.87601\n",
      "test loss: 0.44896  | test accuracy: 0.84350\n",
      "[91 epoch]\n",
      "train loss: 0.35192 | train accuracy: 0.87570\n",
      "test loss: 0.44800  | test accuracy: 0.84380\n",
      "[92 epoch]\n",
      "train loss: 0.35221 | train accuracy: 0.87599\n",
      "test loss: 0.45262  | test accuracy: 0.84250\n",
      "[93 epoch]\n",
      "train loss: 0.35179 | train accuracy: 0.87663\n",
      "test loss: 0.45289  | test accuracy: 0.84250\n",
      "[94 epoch]\n",
      "train loss: 0.35115 | train accuracy: 0.87666\n",
      "test loss: 0.44926  | test accuracy: 0.84410\n",
      "[95 epoch]\n",
      "train loss: 0.35140 | train accuracy: 0.87489\n",
      "test loss: 0.46119  | test accuracy: 0.84000\n",
      "[96 epoch]\n",
      "train loss: 0.35175 | train accuracy: 0.87634\n",
      "test loss: 0.45227  | test accuracy: 0.84130\n",
      "[97 epoch]\n",
      "train loss: 0.35103 | train accuracy: 0.87623\n",
      "test loss: 0.44621  | test accuracy: 0.84520\n",
      "[98 epoch]\n",
      "train loss: 0.35122 | train accuracy: 0.87612\n",
      "test loss: 0.44998  | test accuracy: 0.84540\n",
      "[99 epoch]\n",
      "train loss: 0.35039 | train accuracy: 0.87653\n",
      "test loss: 0.45228  | test accuracy: 0.84310\n",
      "[100 epoch]\n",
      "train loss: 0.35151 | train accuracy: 0.87543\n",
      "test loss: 0.45438  | test accuracy: 0.84230\n"
     ]
    }
   ],
   "source": [
    "train_loss = []\n",
    "train_accuracy = []\n",
    "test_loss = []\n",
    "test_accuracy = []\n",
    "\n",
    "for epoch in range(0, 100): \n",
    "    running_accuracy = .0\n",
    "    running_loss = .0\n",
    "    # train\n",
    "    for iteration, batch in enumerate(train_dataloader, 0):\n",
    "        metrics = train_logistic_regression(weights, intercept, batch, criterion, optimizer)\n",
    "        loss, accuracy = metrics\n",
    "        running_accuracy += accuracy\n",
    "        running_loss += loss\n",
    "        if (iteration + 1) % 469 == 0:\n",
    "            train_loss.append(running_loss / 469)\n",
    "            train_accuracy.append(running_accuracy / 469)\n",
    "            print('[%d epoch]\\ntrain loss: %.5f | train accuracy: %.5f' % (epoch + 1, running_loss / 469, running_accuracy / 469))\n",
    "            running_loss = .0\n",
    "            running_accuracy = .0\n",
    "\n",
    "    # test\n",
    "    for test_batch in eval_dataloader:\n",
    "        metrics = test_logistic_regression(weights, intercept, test_batch, criterion)\n",
    "        loss, accuracy = metrics\n",
    "        test_loss.append(loss)\n",
    "        test_accuracy.append(accuracy)\n",
    "        print('test loss: %.5f  | test accuracy: %.5f' % (loss, accuracy))"
   ]
  },
  {
   "cell_type": "markdown",
   "metadata": {
    "id": "N2EYvHrykNaj"
   },
   "source": [
    "#### Вопросы к секции: \n",
    "\n",
    "* Своими словами и без математики объясните благодаря чему Adam дает несмещенную оценку на квадрат градиента\n",
    "* Когда модель начала переобучаться? Как вы это поняли? Сделайте визуализацию и докажите свою точку зрения."
   ]
  },
  {
   "cell_type": "markdown",
   "metadata": {
    "id": "FCog2UHBnZsz"
   },
   "source": [
    "Модель начала переобучаться около 15 эпохи, когда начались сильные колебания на трейне в loss и accuracy."
   ]
  },
  {
   "cell_type": "code",
   "execution_count": 25,
   "metadata": {
    "id": "cCDvfX-IZqnk"
   },
   "outputs": [],
   "source": [
    "def show_plot(data, label):\n",
    "    plt.rcParams[\"figure.figsize\"] = (10, 5)\n",
    "    plt.plot(data, color='purple')\n",
    "    plt.ylabel(label)\n",
    "    plt.xlabel('epoch')\n",
    "    plt.show()"
   ]
  },
  {
   "cell_type": "code",
   "execution_count": 26,
   "metadata": {
    "colab": {
     "base_uri": "https://localhost:8080/",
     "height": 336
    },
    "id": "f_Tgy7EWY2p4",
    "outputId": "6c1abcdd-f052-4a0d-d6e1-435d49a7386f"
   },
   "outputs": [
    {
     "data": {
      "image/png": "[encoded data removed]",
      "text/plain": [
       "<Figure size 720x360 with 1 Axes>"
      ]
     },
     "metadata": {
      "needs_background": "light",
      "tags": []
     },
     "output_type": "display_data"
    }
   ],
   "source": [
    "show_plot(train_loss, 'loss on train')"
   ]
  },
  {
   "cell_type": "code",
   "execution_count": 27,
   "metadata": {
    "colab": {
     "base_uri": "https://localhost:8080/",
     "height": 334
    },
    "id": "bsSjM77dZhQL",
    "outputId": "b2b4649e-8373-4a88-efc7-10d04bd2b122"
   },
   "outputs": [
    {
     "data": {
      "image/png": "[encoded data removed]",
      "text/plain": [
       "<Figure size 720x360 with 1 Axes>"
      ]
     },
     "metadata": {
      "needs_background": "light",
      "tags": []
     },
     "output_type": "display_data"
    }
   ],
   "source": [
    "show_plot(train_accuracy, 'accuracy on train')"
   ]
  },
  {
   "cell_type": "code",
   "execution_count": 28,
   "metadata": {
    "colab": {
     "base_uri": "https://localhost:8080/",
     "height": 334
    },
    "id": "7VfPOMUWegWY",
    "outputId": "9f492c1d-9702-4429-b4c9-7439e8df8c0a"
   },
   "outputs": [
    {
     "data": {
      "image/png": "[encoded data removed]",
      "text/plain": [
       "<Figure size 720x360 with 1 Axes>"
      ]
     },
     "metadata": {
      "needs_background": "light",
      "tags": []
     },
     "output_type": "display_data"
    }
   ],
   "source": [
    "show_plot(test_loss, 'loss on test')"
   ]
  },
  {
   "cell_type": "code",
   "execution_count": 29,
   "metadata": {
    "colab": {
     "base_uri": "https://localhost:8080/",
     "height": 336
    },
    "id": "qVHdtQ6NdtU6",
    "outputId": "6d104f78-2272-46a5-81f5-764dd3855a97"
   },
   "outputs": [
    {
     "data": {
      "image/png": "[encoded data removed]",
      "text/plain": [
       "<Figure size 720x360 with 1 Axes>"
      ]
     },
     "metadata": {
      "needs_background": "light",
      "tags": []
     },
     "output_type": "display_data"
    }
   ],
   "source": [
    "show_plot(test_accuracy, 'accuracy on test')"
   ]
  },
  {
   "cell_type": "markdown",
   "metadata": {
    "id": "uxtl40_FkNaj"
   },
   "source": [
    "### Моя первая нейросеть (4 балла)"
   ]
  },
  {
   "cell_type": "markdown",
   "metadata": {
    "id": "vFhGta5GkNak"
   },
   "source": [
    "В данной секции вам нужно сделать следующие вещи: \n",
    "\n",
    "* Реализовать три разных архитектуры нейросетей. Эти архитектуры должны принципиально отличаться друг от друга. Разрешается одной из архитекур брать полностью полносвязную модель. Остальные две должны быть сверточными и сильно отличаться друг от друга. К примеру, одна из таких архитектур может быть VGG подобная сеть, а другая ResNet подобная архитектура. \n",
    "\n",
    "* Написать цикл для обучения которым можно обучать все три модели без изменений кода\n",
    "\n",
    "* Попробовать каждую модель с двумя оптимизаторами: RMSprop и SGD with momentum\n",
    "\n",
    "* Визуализировать результаты перфоманса каждой модели (две метрики минимум для каждого сетапа, например, лосс и долю правильных ответов). В данном пункте мы ждем от вас визуализацию зависимости метрики от номера итерации обучения.\n",
    "\n",
    "* Сделать выводы какие были модели были лучше и как вы думаете почему?"
   ]
  },
  {
   "cell_type": "code",
   "execution_count": 14,
   "metadata": {
    "id": "xeWCR7MA7hKM"
   },
   "outputs": [],
   "source": [
    "eval_dataloader = DataLoader(\n",
    "    fashion_mnist_eval, batch_size=128, num_workers=4\n",
    ")"
   ]
  },
  {
   "cell_type": "code",
   "execution_count": 15,
   "metadata": {
    "id": "0x6cLWd_A3kT"
   },
   "outputs": [],
   "source": [
    "def plot_history(train_history, eval_history, title='loss'):\n",
    "    plt.figure()\n",
    "    plt.title('{}'.format(title))\n",
    "    plt.plot(train_history, label='train', zorder=1, color='purple')\n",
    "    \n",
    "    points = np.array(eval_history)\n",
    "    steps = list(range(0, len(train_history) + 1, int(len(train_history) / len(eval_history))))[1:]\n",
    "    \n",
    "    plt.scatter(steps, eval_history, marker='+', s=180, c='orange', label='eval', zorder=2)\n",
    "    plt.xlabel('train steps')\n",
    "    \n",
    "    plt.legend(loc='best')\n",
    "    plt.grid()\n",
    "\n",
    "    plt.show()"
   ]
  },
  {
   "cell_type": "code",
   "execution_count": 20,
   "metadata": {
    "id": "F4opwWz_kNak"
   },
   "outputs": [],
   "source": [
    "def train_model(model, dataloader, optimizer):\n",
    "    train_loss_log = []\n",
    "    train_accuracy_log = []\n",
    "    eval_loss_log = []\n",
    "    eval_accuracy_log = []\n",
    "    criterion = nn.CrossEntropyLoss()\n",
    "\n",
    "    for epoch in range(0, 5):\n",
    "        train_loss = .0\n",
    "        train_accuracy = .0   \n",
    "        train_size = 0 \n",
    "\n",
    "        for inputs, labels in dataloader[0]:\n",
    "            # Обнуление посчитанных градиентов\n",
    "            optimizer.zero_grad()           \n",
    "            # Предсказание модели\n",
    "            outputs = model(inputs)\n",
    "            train_size += outputs.size(0)  \n",
    "            # Подсчет loss\n",
    "            loss = criterion(outputs, labels)\n",
    "            train_loss += loss.item()    \n",
    "            # Подсчет градиентов\n",
    "            loss.backward()\n",
    "            # Шаг оптимизации\n",
    "            optimizer.step()\n",
    "            # Подсчет accuracy\n",
    "            _, predicted_classes = torch.max(outputs, 1)\n",
    "            train_accuracy += (predicted_classes == labels).sum().item()\n",
    "\n",
    "            train_loss_log.append(loss.data / outputs.size(0))           \n",
    "            train_accuracy_log.append(np.mean((predicted_classes == labels).cpu().numpy()))\n",
    "\n",
    "\n",
    "        eval_loss = .0\n",
    "        eval_accuracy = .0\n",
    "        eval_size = 0\n",
    "\n",
    "        with torch.no_grad():\n",
    "            for inputs, labels in dataloader[1]:              \n",
    "                # Предсказание модели\n",
    "                outputs = model(inputs)\n",
    "                eval_size += outputs.size(0)\n",
    "                # Подсчет loss\n",
    "                loss = criterion(outputs, labels)        \n",
    "                eval_loss += loss.item()    \n",
    "                # Подсчет accuracy               \n",
    "                _, predicted_classes = torch.max(outputs, 1)\n",
    "                eval_accuracy += (predicted_classes == labels).sum().item()\n",
    "\n",
    "        eval_loss_log.append(eval_loss / eval_size)\n",
    "        eval_accuracy_log.append(eval_accuracy / eval_size)\n",
    "\n",
    "        clear_output()\n",
    "        plot_history(train_loss_log, eval_loss_log, 'loss')\n",
    "        plot_history(train_accuracy_log, eval_accuracy_log, 'accuracy')\n",
    "\n",
    "        print('Train loss:', train_loss / train_size)\n",
    "        print('Train acc:', train_accuracy / train_size)\n",
    "        print('Val loss:', eval_loss / eval_size)\n",
    "        print('Val acc:', eval_accuracy / eval_size)  "
   ]
  },
  {
   "cell_type": "code",
   "execution_count": 8,
   "metadata": {
    "id": "kAihegcjkNam"
   },
   "outputs": [],
   "source": [
    "class FirstModel(nn.Module):\n",
    "    def __init__(self):\n",
    "        super(FirstModel, self).__init__()\n",
    "        self.fc1 = nn.Linear(28 * 28, 128)\n",
    "        self.fc2 = nn.Linear(128, 128)\n",
    "        self.fc3 = nn.Linear(128, 10)\n",
    "        self.relu = nn.ReLU()\n",
    "        self.softmax = nn.Softmax()\n",
    "\n",
    "    def forward(self, x):\n",
    "        x = nn.Flatten()(x)\n",
    "        x = self.relu(self.fc1(x))\n",
    "        x = self.relu(self.fc2(x))\n",
    "        x = self.softmax(self.fc3(x))\n",
    "\n",
    "        return x"
   ]
  },
  {
   "cell_type": "code",
   "execution_count": 26,
   "metadata": {
    "id": "04Fwp4wckNao"
   },
   "outputs": [],
   "source": [
    "second_model = nn.Sequential(\n",
    "    nn.Conv2d(in_channels=1, out_channels=16, kernel_size=3),\n",
    "    nn.BatchNorm2d(16),\n",
    "    nn.ReLU(),\n",
    "    nn.MaxPool2d(2, 2),\n",
    "    nn.Conv2d(16, 32, 3, padding=1),\n",
    "    nn.BatchNorm2d(32),\n",
    "    nn.ReLU(),\n",
    "    nn.Conv2d(32, 128, 3, padding=1),\n",
    "    nn.BatchNorm2d(128),\n",
    "    nn.ReLU(),\n",
    "    nn.MaxPool2d(2, 2),\n",
    "    nn.Conv2d(128, 128, 3, padding=1),\n",
    "    nn.BatchNorm2d(128),\n",
    "    nn.ReLU(),\n",
    "    nn.Flatten(),\n",
    "    nn.Linear(4608, 64),\n",
    "    nn.BatchNorm1d(64),\n",
    "    nn.ReLU(),\n",
    "    nn.Dropout(0.5),\n",
    "    nn.Linear(64, 10),\n",
    "    nn.Softmax(dim=-1)\n",
    ")"
   ]
  },
  {
   "cell_type": "code",
   "execution_count": 51,
   "metadata": {
    "id": "yvFkTI7jIAP_"
   },
   "outputs": [],
   "source": [
    "class ResNetBlock(nn.Module):\n",
    "    def __init__(self, in_size, out_size, kernel_size=3, padding=1):\n",
    "        super().__init__()\n",
    "        self.conv1 = nn.Conv2d(in_size, out_size, kernel_size=kernel_size, padding=padding)\n",
    "        self.relu = nn.ReLU()\n",
    "        self.bn1 = nn.BatchNorm2d(out_size)\n",
    "        self.conv2 = nn.Conv2d(out_size, out_size, kernel_size=kernel_size, padding=padding)\n",
    "        self.bn2 = nn.BatchNorm2d(out_size)\n",
    "\n",
    "    def forward(self, x):\n",
    "        conv_block = x\n",
    "        conv_block = self.relu(self.bn1(self.conv1(conv_block))) \n",
    "        conv_block = self.relu(self.bn2(self.conv2(conv_block)))\n",
    "        return x + conv_block\n",
    "\n",
    "class ResNet(nn.Module):\n",
    "    def __init__(self):\n",
    "        super(ResNet, self).__init__()\n",
    "        self.resblock1 = ResNetBlock(1, 32)\n",
    "        self.resblock2 = ResNetBlock(32, 32)\n",
    "        self.conv = nn.Conv2d(32, 10, kernel_size=3, padding=1)\n",
    "        self.bn = nn.BatchNorm2d(10)\n",
    "        self.maxpool = nn.AdaptiveMaxPool2d(1)\n",
    "        self.softmax = nn.Softmax()\n",
    "\n",
    "    def forward(self, x):\n",
    "        x = x.view(-1, 1, 28, 28)\n",
    "        x = self.resblock1(x)\n",
    "        x = self.resblock2(x) \n",
    "        x = self.conv(x)\n",
    "        x = self.bn(x)\n",
    "        x = self.maxpool(x)\n",
    "\n",
    "        return x.view(x.size(0), -1)"
   ]
  },
  {
   "cell_type": "code",
   "execution_count": 18,
   "metadata": {
    "id": "_Au3Iaf2u144"
   },
   "outputs": [],
   "source": [
    "def get_optimizer(model, optimizer_name='Adam', lr = 0.01, momentum=0.9):\n",
    "    if optimizer_name == 'RMSprop':\n",
    "        return torch.optim.RMSprop(model.parameters(), lr)\n",
    "    elif optimizer_name == 'SGD':\n",
    "        return torch.optim.SGD(model.parameters(), lr, momentum)\n",
    "    return torch.optim.Adam(model.parameters(), lr)"
   ]
  },
  {
   "cell_type": "markdown",
   "metadata": {
    "id": "nFoxanW-5Ar_"
   },
   "source": [
    "## Первая модель (полносвязная)"
   ]
  },
  {
   "cell_type": "code",
   "execution_count": 57,
   "metadata": {
    "id": "Fr77kTEa5DzS"
   },
   "outputs": [],
   "source": [
    "def train_first_model(optimizer_name='Adam'):\n",
    "    model = FirstModel()\n",
    "    train_model(model, (train_dataloader, eval_dataloader), get_optimizer(model, optimizer_name))"
   ]
  },
  {
   "cell_type": "code",
   "execution_count": 58,
   "metadata": {
    "colab": {
     "base_uri": "https://localhost:8080/",
     "height": 751
    },
    "id": "jWNdNRLdxo9R",
    "outputId": "d63851de-8e95-4619-cce5-bbd418adb16c"
   },
   "outputs": [
    {
     "data": {
      "image/png": "[encoded data removed]",
      "text/plain": [
       "<Figure size 720x360 with 1 Axes>"
      ]
     },
     "metadata": {
      "needs_background": "light",
      "tags": []
     },
     "output_type": "display_data"
    },
    {
     "data": {
      "image/png": "[encoded data removed]",
      "text/plain": [
       "<Figure size 720x360 with 1 Axes>"
      ]
     },
     "metadata": {
      "needs_background": "light",
      "tags": []
     },
     "output_type": "display_data"
    },
    {
     "name": "stdout",
     "output_type": "stream",
     "text": [
      "Train loss: 0.01845644226471583\n",
      "Train acc: 0.1\n",
      "Val loss: 0.01865637321472168\n",
      "Val acc: 0.1\n"
     ]
    }
   ],
   "source": [
    "train_first_model('RMSprop')"
   ]
  },
  {
   "cell_type": "code",
   "execution_count": 59,
   "metadata": {
    "colab": {
     "base_uri": "https://localhost:8080/",
     "height": 751
    },
    "id": "rIuD5A_b9Olg",
    "outputId": "47a6b2e3-e545-41a7-a5d5-af756b11954e"
   },
   "outputs": [
    {
     "data": {
      "image/png": "[encoded data removed]",
      "text/plain": [
       "<Figure size 720x360 with 1 Axes>"
      ]
     },
     "metadata": {
      "needs_background": "light",
      "tags": []
     },
     "output_type": "display_data"
    },
    {
     "data": {
      "image/png": "[encoded data removed]",
      "text/plain": [
       "<Figure size 720x360 with 1 Axes>"
      ]
     },
     "metadata": {
      "needs_background": "light",
      "tags": []
     },
     "output_type": "display_data"
    },
    {
     "name": "stdout",
     "output_type": "stream",
     "text": [
      "Train loss: 0.013070418026049932\n",
      "Train acc: 0.7966333333333333\n",
      "Val loss: 0.013212462258338928\n",
      "Val acc: 0.7964\n"
     ]
    }
   ],
   "source": [
    "train_first_model('SGD')"
   ]
  },
  {
   "cell_type": "markdown",
   "metadata": {
    "id": "F8egHyXFiSGP"
   },
   "source": [
    "На полносвязной модели SGD optimizer with momentum дает сильно лучшее качество по сравнению с RMSprop optimizer. Модели с RMSprop как-то прямо плоховатенько."
   ]
  },
  {
   "cell_type": "markdown",
   "metadata": {
    "id": "TZlzyR1EY480"
   },
   "source": [
    "## Вторая модель (VGG)"
   ]
  },
  {
   "cell_type": "code",
   "execution_count": 22,
   "metadata": {
    "id": "qZLM09Q_vMbP"
   },
   "outputs": [],
   "source": [
    "def train_second_model(optimizer_name='Adam'):\n",
    "    train_model(second_model, (train_dataloader, eval_dataloader), get_optimizer(second_model, optimizer_name))"
   ]
  },
  {
   "cell_type": "code",
   "execution_count": 27,
   "metadata": {
    "colab": {
     "base_uri": "https://localhost:8080/",
     "height": 641
    },
    "id": "6K1s2mMGZCKV",
    "outputId": "0bc5a261-e41a-4dbd-ee25-5b991691cdf7"
   },
   "outputs": [
    {
     "data": {
      "image/png": "[encoded data removed]",
      "text/plain": [
       "<Figure size 432x288 with 1 Axes>"
      ]
     },
     "metadata": {
      "needs_background": "light",
      "tags": []
     },
     "output_type": "display_data"
    },
    {
     "data": {
      "image/png": "[encoded data removed]",
      "text/plain": [
       "<Figure size 432x288 with 1 Axes>"
      ]
     },
     "metadata": {
      "needs_background": "light",
      "tags": []
     },
     "output_type": "display_data"
    },
    {
     "name": "stdout",
     "output_type": "stream",
     "text": [
      "Train loss: 0.012314361002047856\n",
      "Train acc: 0.8855833333333333\n",
      "Val loss: 0.012456885242462159\n",
      "Val acc: 0.8843\n"
     ]
    }
   ],
   "source": [
    "train_second_model('RMSprop')"
   ]
  },
  {
   "cell_type": "code",
   "execution_count": 30,
   "metadata": {
    "colab": {
     "base_uri": "https://localhost:8080/",
     "height": 641
    },
    "id": "95y_E6dGZFjs",
    "outputId": "601b9cee-6e67-4b0e-f546-e60add46c099"
   },
   "outputs": [
    {
     "data": {
      "image/png": "[encoded data removed]",
      "text/plain": [
       "<Figure size 432x288 with 1 Axes>"
      ]
     },
     "metadata": {
      "needs_background": "light",
      "tags": []
     },
     "output_type": "display_data"
    },
    {
     "data": {
      "image/png": "[encoded data removed]",
      "text/plain": [
       "<Figure size 432x288 with 1 Axes>"
      ]
     },
     "metadata": {
      "needs_background": "light",
      "tags": []
     },
     "output_type": "display_data"
    },
    {
     "name": "stdout",
     "output_type": "stream",
     "text": [
      "Train loss: 0.012166920757293701\n",
      "Train acc: 0.9050166666666667\n",
      "Val loss: 0.012374501526355743\n",
      "Val acc: 0.8967\n"
     ]
    }
   ],
   "source": [
    "train_second_model('SGD')"
   ]
  },
  {
   "cell_type": "markdown",
   "metadata": {
    "id": "XqDURpX_PK1A"
   },
   "source": [
    "Модель с SGD optimizer with momentum выдает чуть лучший результат, чем с RMSprop."
   ]
  },
  {
   "cell_type": "markdown",
   "metadata": {
    "id": "6RhnrraO8rMw"
   },
   "source": [
    "## Третья модель (ResNet)"
   ]
  },
  {
   "cell_type": "code",
   "execution_count": 47,
   "metadata": {
    "id": "BPIL9JqQ8tmK"
   },
   "outputs": [],
   "source": [
    "def train_third_model(optimizer_name='Adam'):\n",
    "    model = ResNet()\n",
    "    train_model(model, (train_dataloader, eval_dataloader), get_optimizer(model, optimizer_name))"
   ]
  },
  {
   "cell_type": "code",
   "execution_count": 52,
   "metadata": {
    "colab": {
     "base_uri": "https://localhost:8080/",
     "height": 641
    },
    "id": "EW9CfWlvKhAE",
    "outputId": "b381fe05-9428-4b95-cda9-f0ad0728e84b"
   },
   "outputs": [
    {
     "data": {
      "image/png": "[encoded data removed]",
      "text/plain": [
       "<Figure size 432x288 with 1 Axes>"
      ]
     },
     "metadata": {
      "needs_background": "light",
      "tags": []
     },
     "output_type": "display_data"
    },
    {
     "data": {
      "image/png": "[encoded data removed]",
      "text/plain": [
       "<Figure size 432x288 with 1 Axes>"
      ]
     },
     "metadata": {
      "needs_background": "light",
      "tags": []
     },
     "output_type": "display_data"
    },
    {
     "name": "stdout",
     "output_type": "stream",
     "text": [
      "Train loss: 0.004178240069746971\n",
      "Train acc: 0.7969166666666667\n",
      "Val loss: 0.004477960604429245\n",
      "Val acc: 0.7888\n"
     ]
    }
   ],
   "source": [
    "train_third_model('RMSprop')"
   ]
  },
  {
   "cell_type": "code",
   "execution_count": 53,
   "metadata": {
    "colab": {
     "base_uri": "https://localhost:8080/",
     "height": 641
    },
    "id": "Pk8IRt08KmqG",
    "outputId": "c45516f6-60a9-4bb5-c461-731b9b9629d9"
   },
   "outputs": [
    {
     "data": {
      "image/png": "[encoded data removed]",
      "text/plain": [
       "<Figure size 432x288 with 1 Axes>"
      ]
     },
     "metadata": {
      "needs_background": "light",
      "tags": []
     },
     "output_type": "display_data"
    },
    {
     "data": {
      "image/png": "[encoded data removed]",
      "text/plain": [
       "<Figure size 432x288 with 1 Axes>"
      ]
     },
     "metadata": {
      "needs_background": "light",
      "tags": []
     },
     "output_type": "display_data"
    },
    {
     "name": "stdout",
     "output_type": "stream",
     "text": [
      "Train loss: 0.004249839826424916\n",
      "Train acc: 0.8048166666666666\n",
      "Val loss: 0.004488521614670753\n",
      "Val acc: 0.7994\n"
     ]
    }
   ],
   "source": [
    "train_third_model('SGD')"
   ]
  },
  {
   "cell_type": "markdown",
   "metadata": {
    "id": "iO9U37NZqJl0"
   },
   "source": [
    "Самой лучшей из моделей с оптимайзером SGD with momentum оказалась модель, похожая по архитектуре на VGG (accuracy = 0.8967, loss = 0.0123), далее модель ResNet (accuracy = 0.7994, loss = 0.0045), а затем полносвязная модель (accuracy = 0.7964, loss = 0.0132). "
   ]
  },
  {
   "cell_type": "markdown",
   "metadata": {
    "id": "fiJQFu0Prs4u"
   },
   "source": [
    "С оптимайзером RMSprop хуже всего себя показала полносвязная модель (accuracy = 0.1, что-то пошло не так), лучше всего – VGG (accuracy = 0.8843, loss = 0.125), и чуть хуже ResNet (accuracy = 0.7888, loss = 0.0045)"
   ]
  },
  {
   "cell_type": "code",
   "execution_count": null,
   "metadata": {
    "id": "Ub9ComAprq5l"
   },
   "outputs": [],
   "source": []
  }
 ],
 "metadata": {
  "colab": {
   "name": "hw1.ipynb",
   "provenance": []
  },
  "kernelspec": {
   "display_name": "Python 2",
   "language": "python",
   "name": "python2"
  },
  "language_info": {
   "codemirror_mode": {
    "name": "ipython",
    "version": 2
   },
   "file_extension": ".py",
   "mimetype": "text/x-python",
   "name": "python",
   "nbconvert_exporter": "python",
   "pygments_lexer": "ipython2",
   "version": "2.7.6"
  },
  "widgets": {
   "application/vnd.jupyter.widget-state+json": {
    "09d12b9e69804cfd8692c91045eacd1b": {
     "model_module": "@jupyter-widgets/controls",
     "model_name": "ProgressStyleModel",
     "state": {
      "_model_module": "@jupyter-widgets/controls",
      "_model_module_version": "1.5.0",
      "_model_name": "ProgressStyleModel",
      "_view_count": null,
      "_view_module": "@jupyter-widgets/base",
      "_view_module_version": "1.2.0",
      "_view_name": "StyleView",
      "bar_color": null,
      "description_width": "initial"
     }
    },
    "1c410f97df3e4852aa0872b3c06d085f": {
     "model_module": "@jupyter-widgets/controls",
     "model_name": "HBoxModel",
     "state": {
      "_dom_classes": [],
      "_model_module": "@jupyter-widgets/controls",
      "_model_module_version": "1.5.0",
      "_model_name": "HBoxModel",
      "_view_count": null,
      "_view_module": "@jupyter-widgets/controls",
      "_view_module_version": "1.5.0",
      "_view_name": "HBoxView",
      "box_style": "",
      "children": [
       "IPY_MODEL_4ff56b51bda3421b9bf6b0054326ea97",
       "IPY_MODEL_e6e6741f9ab24da5afdcda625fa700c0"
      ],
      "layout": "IPY_MODEL_48a6e202c9c941d2b8e44e42a8a801e5"
     }
    },
    "353f3553676341ef8c2ba2a2049147e9": {
     "model_module": "@jupyter-widgets/base",
     "model_name": "LayoutModel",
     "state": {
      "_model_module": "@jupyter-widgets/base",
      "_model_module_version": "1.2.0",
      "_model_name": "LayoutModel",
      "_view_count": null,
      "_view_module": "@jupyter-widgets/base",
      "_view_module_version": "1.2.0",
      "_view_name": "LayoutView",
      "align_content": null,
      "align_items": null,
      "align_self": null,
      "border": null,
      "bottom": null,
      "display": null,
      "flex": null,
      "flex_flow": null,
      "grid_area": null,
      "grid_auto_columns": null,
      "grid_auto_flow": null,
      "grid_auto_rows": null,
      "grid_column": null,
      "grid_gap": null,
      "grid_row": null,
      "grid_template_areas": null,
      "grid_template_columns": null,
      "grid_template_rows": null,
      "height": null,
      "justify_content": null,
      "justify_items": null,
      "left": null,
      "margin": null,
      "max_height": null,
      "max_width": null,
      "min_height": null,
      "min_width": null,
      "object_fit": null,
      "object_position": null,
      "order": null,
      "overflow": null,
      "overflow_x": null,
      "overflow_y": null,
      "padding": null,
      "right": null,
      "top": null,
      "visibility": null,
      "width": null
     }
    },
    "3a6157941da54755bafe19feac48990a": {
     "model_module": "@jupyter-widgets/base",
     "model_name": "LayoutModel",
     "state": {
      "_model_module": "@jupyter-widgets/base",
      "_model_module_version": "1.2.0",
      "_model_name": "LayoutModel",
      "_view_count": null,
      "_view_module": "@jupyter-widgets/base",
      "_view_module_version": "1.2.0",
      "_view_name": "LayoutView",
      "align_content": null,
      "align_items": null,
      "align_self": null,
      "border": null,
      "bottom": null,
      "display": null,
      "flex": null,
      "flex_flow": null,
      "grid_area": null,
      "grid_auto_columns": null,
      "grid_auto_flow": null,
      "grid_auto_rows": null,
      "grid_column": null,
      "grid_gap": null,
      "grid_row": null,
      "grid_template_areas": null,
      "grid_template_columns": null,
      "grid_template_rows": null,
      "height": null,
      "justify_content": null,
      "justify_items": null,
      "left": null,
      "margin": null,
      "max_height": null,
      "max_width": null,
      "min_height": null,
      "min_width": null,
      "object_fit": null,
      "object_position": null,
      "order": null,
      "overflow": null,
      "overflow_x": null,
      "overflow_y": null,
      "padding": null,
      "right": null,
      "top": null,
      "visibility": null,
      "width": null
     }
    },
    "48a6e202c9c941d2b8e44e42a8a801e5": {
     "model_module": "@jupyter-widgets/base",
     "model_name": "LayoutModel",
     "state": {
      "_model_module": "@jupyter-widgets/base",
      "_model_module_version": "1.2.0",
      "_model_name": "LayoutModel",
      "_view_count": null,
      "_view_module": "@jupyter-widgets/base",
      "_view_module_version": "1.2.0",
      "_view_name": "LayoutView",
      "align_content": null,
      "align_items": null,
      "align_self": null,
      "border": null,
      "bottom": null,
      "display": null,
      "flex": null,
      "flex_flow": null,
      "grid_area": null,
      "grid_auto_columns": null,
      "grid_auto_flow": null,
      "grid_auto_rows": null,
      "grid_column": null,
      "grid_gap": null,
      "grid_row": null,
      "grid_template_areas": null,
      "grid_template_columns": null,
      "grid_template_rows": null,
      "height": null,
      "justify_content": null,
      "justify_items": null,
      "left": null,
      "margin": null,
      "max_height": null,
      "max_width": null,
      "min_height": null,
      "min_width": null,
      "object_fit": null,
      "object_position": null,
      "order": null,
      "overflow": null,
      "overflow_x": null,
      "overflow_y": null,
      "padding": null,
      "right": null,
      "top": null,
      "visibility": null,
      "width": null
     }
    },
    "4a50551d379941469c8d5577435789ed": {
     "model_module": "@jupyter-widgets/controls",
     "model_name": "DescriptionStyleModel",
     "state": {
      "_model_module": "@jupyter-widgets/controls",
      "_model_module_version": "1.5.0",
      "_model_name": "DescriptionStyleModel",
      "_view_count": null,
      "_view_module": "@jupyter-widgets/base",
      "_view_module_version": "1.2.0",
      "_view_name": "StyleView",
      "description_width": ""
     }
    },
    "4d2760e0863c4b2689021f9237a86907": {
     "model_module": "@jupyter-widgets/controls",
     "model_name": "HTMLModel",
     "state": {
      "_dom_classes": [],
      "_model_module": "@jupyter-widgets/controls",
      "_model_module_version": "1.5.0",
      "_model_name": "HTMLModel",
      "_view_count": null,
      "_view_module": "@jupyter-widgets/controls",
      "_view_module_version": "1.5.0",
      "_view_name": "HTMLView",
      "description": "",
      "description_tooltip": null,
      "layout": "IPY_MODEL_b2663528573c47e1b3004766f23998f7",
      "placeholder": "​",
      "style": "IPY_MODEL_8febdff061c141bcb55e4e55c2399a05",
      "value": " 26427392/? [00:20&lt;00:00, 6888250.54it/s]"
     }
    },
    "4ff56b51bda3421b9bf6b0054326ea97": {
     "model_module": "@jupyter-widgets/controls",
     "model_name": "FloatProgressModel",
     "state": {
      "_dom_classes": [],
      "_model_module": "@jupyter-widgets/controls",
      "_model_module_version": "1.5.0",
      "_model_name": "FloatProgressModel",
      "_view_count": null,
      "_view_module": "@jupyter-widgets/controls",
      "_view_module_version": "1.5.0",
      "_view_name": "ProgressView",
      "bar_style": "success",
      "description": "",
      "description_tooltip": null,
      "layout": "IPY_MODEL_8275cf3262dd4d18b962d170e581f16f",
      "max": 1,
      "min": 0,
      "orientation": "horizontal",
      "style": "IPY_MODEL_5c379f0c82b1499599b0a657e874a348",
      "value": 1
     }
    },
    "5c379f0c82b1499599b0a657e874a348": {
     "model_module": "@jupyter-widgets/controls",
     "model_name": "ProgressStyleModel",
     "state": {
      "_model_module": "@jupyter-widgets/controls",
      "_model_module_version": "1.5.0",
      "_model_name": "ProgressStyleModel",
      "_view_count": null,
      "_view_module": "@jupyter-widgets/base",
      "_view_module_version": "1.2.0",
      "_view_name": "StyleView",
      "bar_color": null,
      "description_width": "initial"
     }
    },
    "8275cf3262dd4d18b962d170e581f16f": {
     "model_module": "@jupyter-widgets/base",
     "model_name": "LayoutModel",
     "state": {
      "_model_module": "@jupyter-widgets/base",
      "_model_module_version": "1.2.0",
      "_model_name": "LayoutModel",
      "_view_count": null,
      "_view_module": "@jupyter-widgets/base",
      "_view_module_version": "1.2.0",
      "_view_name": "LayoutView",
      "align_content": null,
      "align_items": null,
      "align_self": null,
      "border": null,
      "bottom": null,
      "display": null,
      "flex": null,
      "flex_flow": null,
      "grid_area": null,
      "grid_auto_columns": null,
      "grid_auto_flow": null,
      "grid_auto_rows": null,
      "grid_column": null,
      "grid_gap": null,
      "grid_row": null,
      "grid_template_areas": null,
      "grid_template_columns": null,
      "grid_template_rows": null,
      "height": null,
      "justify_content": null,
      "justify_items": null,
      "left": null,
      "margin": null,
      "max_height": null,
      "max_width": null,
      "min_height": null,
      "min_width": null,
      "object_fit": null,
      "object_position": null,
      "order": null,
      "overflow": null,
      "overflow_x": null,
      "overflow_y": null,
      "padding": null,
      "right": null,
      "top": null,
      "visibility": null,
      "width": null
     }
    },
    "8b4645618a164a00862b1593d8510b8e": {
     "model_module": "@jupyter-widgets/controls",
     "model_name": "DescriptionStyleModel",
     "state": {
      "_model_module": "@jupyter-widgets/controls",
      "_model_module_version": "1.5.0",
      "_model_name": "DescriptionStyleModel",
      "_view_count": null,
      "_view_module": "@jupyter-widgets/base",
      "_view_module_version": "1.2.0",
      "_view_name": "StyleView",
      "description_width": ""
     }
    },
    "8bcde357d4ce45a2b6173b76f06aec94": {
     "model_module": "@jupyter-widgets/controls",
     "model_name": "DescriptionStyleModel",
     "state": {
      "_model_module": "@jupyter-widgets/controls",
      "_model_module_version": "1.5.0",
      "_model_name": "DescriptionStyleModel",
      "_view_count": null,
      "_view_module": "@jupyter-widgets/base",
      "_view_module_version": "1.2.0",
      "_view_name": "StyleView",
      "description_width": ""
     }
    },
    "8febdff061c141bcb55e4e55c2399a05": {
     "model_module": "@jupyter-widgets/controls",
     "model_name": "DescriptionStyleModel",
     "state": {
      "_model_module": "@jupyter-widgets/controls",
      "_model_module_version": "1.5.0",
      "_model_name": "DescriptionStyleModel",
      "_view_count": null,
      "_view_module": "@jupyter-widgets/base",
      "_view_module_version": "1.2.0",
      "_view_name": "StyleView",
      "description_width": ""
     }
    },
    "95715ea399d64997a861931e6ce8e949": {
     "model_module": "@jupyter-widgets/controls",
     "model_name": "HBoxModel",
     "state": {
      "_dom_classes": [],
      "_model_module": "@jupyter-widgets/controls",
      "_model_module_version": "1.5.0",
      "_model_name": "HBoxModel",
      "_view_count": null,
      "_view_module": "@jupyter-widgets/controls",
      "_view_module_version": "1.5.0",
      "_view_name": "HBoxView",
      "box_style": "",
      "children": [
       "IPY_MODEL_ae40df30249d477d9add8e3973be08bb",
       "IPY_MODEL_e8145dfcac6e45cf8a72176efd004a88"
      ],
      "layout": "IPY_MODEL_d7d4cd0ccee1461194d72421a9730c67"
     }
    },
    "9931f7f481a54e2dbb8ee20a35eb7006": {
     "model_module": "@jupyter-widgets/base",
     "model_name": "LayoutModel",
     "state": {
      "_model_module": "@jupyter-widgets/base",
      "_model_module_version": "1.2.0",
      "_model_name": "LayoutModel",
      "_view_count": null,
      "_view_module": "@jupyter-widgets/base",
      "_view_module_version": "1.2.0",
      "_view_name": "LayoutView",
      "align_content": null,
      "align_items": null,
      "align_self": null,
      "border": null,
      "bottom": null,
      "display": null,
      "flex": null,
      "flex_flow": null,
      "grid_area": null,
      "grid_auto_columns": null,
      "grid_auto_flow": null,
      "grid_auto_rows": null,
      "grid_column": null,
      "grid_gap": null,
      "grid_row": null,
      "grid_template_areas": null,
      "grid_template_columns": null,
      "grid_template_rows": null,
      "height": null,
      "justify_content": null,
      "justify_items": null,
      "left": null,
      "margin": null,
      "max_height": null,
      "max_width": null,
      "min_height": null,
      "min_width": null,
      "object_fit": null,
      "object_position": null,
      "order": null,
      "overflow": null,
      "overflow_x": null,
      "overflow_y": null,
      "padding": null,
      "right": null,
      "top": null,
      "visibility": null,
      "width": null
     }
    },
    "a03c1351cf1d425bb98acdcb805fd4db": {
     "model_module": "@jupyter-widgets/controls",
     "model_name": "HBoxModel",
     "state": {
      "_dom_classes": [],
      "_model_module": "@jupyter-widgets/controls",
      "_model_module_version": "1.5.0",
      "_model_name": "HBoxModel",
      "_view_count": null,
      "_view_module": "@jupyter-widgets/controls",
      "_view_module_version": "1.5.0",
      "_view_name": "HBoxView",
      "box_style": "",
      "children": [
       "IPY_MODEL_b5319cbf98ee4c93aafb1b5d625b8fdc",
       "IPY_MODEL_a28afc99ecaf478a99460552879b8424"
      ],
      "layout": "IPY_MODEL_afa32c6ca2724d989101699619cd0e61"
     }
    },
    "a08de4cb17264e0bbd09545a9e2a99a9": {
     "model_module": "@jupyter-widgets/base",
     "model_name": "LayoutModel",
     "state": {
      "_model_module": "@jupyter-widgets/base",
      "_model_module_version": "1.2.0",
      "_model_name": "LayoutModel",
      "_view_count": null,
      "_view_module": "@jupyter-widgets/base",
      "_view_module_version": "1.2.0",
      "_view_name": "LayoutView",
      "align_content": null,
      "align_items": null,
      "align_self": null,
      "border": null,
      "bottom": null,
      "display": null,
      "flex": null,
      "flex_flow": null,
      "grid_area": null,
      "grid_auto_columns": null,
      "grid_auto_flow": null,
      "grid_auto_rows": null,
      "grid_column": null,
      "grid_gap": null,
      "grid_row": null,
      "grid_template_areas": null,
      "grid_template_columns": null,
      "grid_template_rows": null,
      "height": null,
      "justify_content": null,
      "justify_items": null,
      "left": null,
      "margin": null,
      "max_height": null,
      "max_width": null,
      "min_height": null,
      "min_width": null,
      "object_fit": null,
      "object_position": null,
      "order": null,
      "overflow": null,
      "overflow_x": null,
      "overflow_y": null,
      "padding": null,
      "right": null,
      "top": null,
      "visibility": null,
      "width": null
     }
    },
    "a28afc99ecaf478a99460552879b8424": {
     "model_module": "@jupyter-widgets/controls",
     "model_name": "HTMLModel",
     "state": {
      "_dom_classes": [],
      "_model_module": "@jupyter-widgets/controls",
      "_model_module_version": "1.5.0",
      "_model_name": "HTMLModel",
      "_view_count": null,
      "_view_module": "@jupyter-widgets/controls",
      "_view_module_version": "1.5.0",
      "_view_name": "HTMLView",
      "description": "",
      "description_tooltip": null,
      "layout": "IPY_MODEL_aaf7558b175f4be0b5b781700f8a558b",
      "placeholder": "​",
      "style": "IPY_MODEL_8b4645618a164a00862b1593d8510b8e",
      "value": " 0/5148 [00:00&lt;?, ?it/s]"
     }
    },
    "a552a660ef664ca2b5c49766ab39eabe": {
     "model_module": "@jupyter-widgets/controls",
     "model_name": "ProgressStyleModel",
     "state": {
      "_model_module": "@jupyter-widgets/controls",
      "_model_module_version": "1.5.0",
      "_model_name": "ProgressStyleModel",
      "_view_count": null,
      "_view_module": "@jupyter-widgets/base",
      "_view_module_version": "1.2.0",
      "_view_name": "StyleView",
      "bar_color": null,
      "description_width": "initial"
     }
    },
    "a5646db76e4a4ca99dc4b8bef5e828fc": {
     "model_module": "@jupyter-widgets/controls",
     "model_name": "HBoxModel",
     "state": {
      "_dom_classes": [],
      "_model_module": "@jupyter-widgets/controls",
      "_model_module_version": "1.5.0",
      "_model_name": "HBoxModel",
      "_view_count": null,
      "_view_module": "@jupyter-widgets/controls",
      "_view_module_version": "1.5.0",
      "_view_name": "HBoxView",
      "box_style": "",
      "children": [
       "IPY_MODEL_e6e42d9b44124870a26a4cc1a1fe0183",
       "IPY_MODEL_4d2760e0863c4b2689021f9237a86907"
      ],
      "layout": "IPY_MODEL_a08de4cb17264e0bbd09545a9e2a99a9"
     }
    },
    "aaf7558b175f4be0b5b781700f8a558b": {
     "model_module": "@jupyter-widgets/base",
     "model_name": "LayoutModel",
     "state": {
      "_model_module": "@jupyter-widgets/base",
      "_model_module_version": "1.2.0",
      "_model_name": "LayoutModel",
      "_view_count": null,
      "_view_module": "@jupyter-widgets/base",
      "_view_module_version": "1.2.0",
      "_view_name": "LayoutView",
      "align_content": null,
      "align_items": null,
      "align_self": null,
      "border": null,
      "bottom": null,
      "display": null,
      "flex": null,
      "flex_flow": null,
      "grid_area": null,
      "grid_auto_columns": null,
      "grid_auto_flow": null,
      "grid_auto_rows": null,
      "grid_column": null,
      "grid_gap": null,
      "grid_row": null,
      "grid_template_areas": null,
      "grid_template_columns": null,
      "grid_template_rows": null,
      "height": null,
      "justify_content": null,
      "justify_items": null,
      "left": null,
      "margin": null,
      "max_height": null,
      "max_width": null,
      "min_height": null,
      "min_width": null,
      "object_fit": null,
      "object_position": null,
      "order": null,
      "overflow": null,
      "overflow_x": null,
      "overflow_y": null,
      "padding": null,
      "right": null,
      "top": null,
      "visibility": null,
      "width": null
     }
    },
    "ae40df30249d477d9add8e3973be08bb": {
     "model_module": "@jupyter-widgets/controls",
     "model_name": "FloatProgressModel",
     "state": {
      "_dom_classes": [],
      "_model_module": "@jupyter-widgets/controls",
      "_model_module_version": "1.5.0",
      "_model_name": "FloatProgressModel",
      "_view_count": null,
      "_view_module": "@jupyter-widgets/controls",
      "_view_module_version": "1.5.0",
      "_view_name": "ProgressView",
      "bar_style": "success",
      "description": "",
      "description_tooltip": null,
      "layout": "IPY_MODEL_9931f7f481a54e2dbb8ee20a35eb7006",
      "max": 1,
      "min": 0,
      "orientation": "horizontal",
      "style": "IPY_MODEL_a552a660ef664ca2b5c49766ab39eabe",
      "value": 1
     }
    },
    "afa32c6ca2724d989101699619cd0e61": {
     "model_module": "@jupyter-widgets/base",
     "model_name": "LayoutModel",
     "state": {
      "_model_module": "@jupyter-widgets/base",
      "_model_module_version": "1.2.0",
      "_model_name": "LayoutModel",
      "_view_count": null,
      "_view_module": "@jupyter-widgets/base",
      "_view_module_version": "1.2.0",
      "_view_name": "LayoutView",
      "align_content": null,
      "align_items": null,
      "align_self": null,
      "border": null,
      "bottom": null,
      "display": null,
      "flex": null,
      "flex_flow": null,
      "grid_area": null,
      "grid_auto_columns": null,
      "grid_auto_flow": null,
      "grid_auto_rows": null,
      "grid_column": null,
      "grid_gap": null,
      "grid_row": null,
      "grid_template_areas": null,
      "grid_template_columns": null,
      "grid_template_rows": null,
      "height": null,
      "justify_content": null,
      "justify_items": null,
      "left": null,
      "margin": null,
      "max_height": null,
      "max_width": null,
      "min_height": null,
      "min_width": null,
      "object_fit": null,
      "object_position": null,
      "order": null,
      "overflow": null,
      "overflow_x": null,
      "overflow_y": null,
      "padding": null,
      "right": null,
      "top": null,
      "visibility": null,
      "width": null
     }
    },
    "b2663528573c47e1b3004766f23998f7": {
     "model_module": "@jupyter-widgets/base",
     "model_name": "LayoutModel",
     "state": {
      "_model_module": "@jupyter-widgets/base",
      "_model_module_version": "1.2.0",
      "_model_name": "LayoutModel",
      "_view_count": null,
      "_view_module": "@jupyter-widgets/base",
      "_view_module_version": "1.2.0",
      "_view_name": "LayoutView",
      "align_content": null,
      "align_items": null,
      "align_self": null,
      "border": null,
      "bottom": null,
      "display": null,
      "flex": null,
      "flex_flow": null,
      "grid_area": null,
      "grid_auto_columns": null,
      "grid_auto_flow": null,
      "grid_auto_rows": null,
      "grid_column": null,
      "grid_gap": null,
      "grid_row": null,
      "grid_template_areas": null,
      "grid_template_columns": null,
      "grid_template_rows": null,
      "height": null,
      "justify_content": null,
      "justify_items": null,
      "left": null,
      "margin": null,
      "max_height": null,
      "max_width": null,
      "min_height": null,
      "min_width": null,
      "object_fit": null,
      "object_position": null,
      "order": null,
      "overflow": null,
      "overflow_x": null,
      "overflow_y": null,
      "padding": null,
      "right": null,
      "top": null,
      "visibility": null,
      "width": null
     }
    },
    "b5319cbf98ee4c93aafb1b5d625b8fdc": {
     "model_module": "@jupyter-widgets/controls",
     "model_name": "FloatProgressModel",
     "state": {
      "_dom_classes": [],
      "_model_module": "@jupyter-widgets/controls",
      "_model_module_version": "1.5.0",
      "_model_name": "FloatProgressModel",
      "_view_count": null,
      "_view_module": "@jupyter-widgets/controls",
      "_view_module_version": "1.5.0",
      "_view_name": "ProgressView",
      "bar_style": "info",
      "description": "  0%",
      "description_tooltip": null,
      "layout": "IPY_MODEL_d74ca8d4368848cf849290830cfbe000",
      "max": 1,
      "min": 0,
      "orientation": "horizontal",
      "style": "IPY_MODEL_09d12b9e69804cfd8692c91045eacd1b",
      "value": 0
     }
    },
    "d74ca8d4368848cf849290830cfbe000": {
     "model_module": "@jupyter-widgets/base",
     "model_name": "LayoutModel",
     "state": {
      "_model_module": "@jupyter-widgets/base",
      "_model_module_version": "1.2.0",
      "_model_name": "LayoutModel",
      "_view_count": null,
      "_view_module": "@jupyter-widgets/base",
      "_view_module_version": "1.2.0",
      "_view_name": "LayoutView",
      "align_content": null,
      "align_items": null,
      "align_self": null,
      "border": null,
      "bottom": null,
      "display": null,
      "flex": null,
      "flex_flow": null,
      "grid_area": null,
      "grid_auto_columns": null,
      "grid_auto_flow": null,
      "grid_auto_rows": null,
      "grid_column": null,
      "grid_gap": null,
      "grid_row": null,
      "grid_template_areas": null,
      "grid_template_columns": null,
      "grid_template_rows": null,
      "height": null,
      "justify_content": null,
      "justify_items": null,
      "left": null,
      "margin": null,
      "max_height": null,
      "max_width": null,
      "min_height": null,
      "min_width": null,
      "object_fit": null,
      "object_position": null,
      "order": null,
      "overflow": null,
      "overflow_x": null,
      "overflow_y": null,
      "padding": null,
      "right": null,
      "top": null,
      "visibility": null,
      "width": null
     }
    },
    "d7bb26473f79446da15e4867cce3b25e": {
     "model_module": "@jupyter-widgets/base",
     "model_name": "LayoutModel",
     "state": {
      "_model_module": "@jupyter-widgets/base",
      "_model_module_version": "1.2.0",
      "_model_name": "LayoutModel",
      "_view_count": null,
      "_view_module": "@jupyter-widgets/base",
      "_view_module_version": "1.2.0",
      "_view_name": "LayoutView",
      "align_content": null,
      "align_items": null,
      "align_self": null,
      "border": null,
      "bottom": null,
      "display": null,
      "flex": null,
      "flex_flow": null,
      "grid_area": null,
      "grid_auto_columns": null,
      "grid_auto_flow": null,
      "grid_auto_rows": null,
      "grid_column": null,
      "grid_gap": null,
      "grid_row": null,
      "grid_template_areas": null,
      "grid_template_columns": null,
      "grid_template_rows": null,
      "height": null,
      "justify_content": null,
      "justify_items": null,
      "left": null,
      "margin": null,
      "max_height": null,
      "max_width": null,
      "min_height": null,
      "min_width": null,
      "object_fit": null,
      "object_position": null,
      "order": null,
      "overflow": null,
      "overflow_x": null,
      "overflow_y": null,
      "padding": null,
      "right": null,
      "top": null,
      "visibility": null,
      "width": null
     }
    },
    "d7d4cd0ccee1461194d72421a9730c67": {
     "model_module": "@jupyter-widgets/base",
     "model_name": "LayoutModel",
     "state": {
      "_model_module": "@jupyter-widgets/base",
      "_model_module_version": "1.2.0",
      "_model_name": "LayoutModel",
      "_view_count": null,
      "_view_module": "@jupyter-widgets/base",
      "_view_module_version": "1.2.0",
      "_view_name": "LayoutView",
      "align_content": null,
      "align_items": null,
      "align_self": null,
      "border": null,
      "bottom": null,
      "display": null,
      "flex": null,
      "flex_flow": null,
      "grid_area": null,
      "grid_auto_columns": null,
      "grid_auto_flow": null,
      "grid_auto_rows": null,
      "grid_column": null,
      "grid_gap": null,
      "grid_row": null,
      "grid_template_areas": null,
      "grid_template_columns": null,
      "grid_template_rows": null,
      "height": null,
      "justify_content": null,
      "justify_items": null,
      "left": null,
      "margin": null,
      "max_height": null,
      "max_width": null,
      "min_height": null,
      "min_width": null,
      "object_fit": null,
      "object_position": null,
      "order": null,
      "overflow": null,
      "overflow_x": null,
      "overflow_y": null,
      "padding": null,
      "right": null,
      "top": null,
      "visibility": null,
      "width": null
     }
    },
    "e2de52beeb9a4f8bac47a64c372fcaa2": {
     "model_module": "@jupyter-widgets/controls",
     "model_name": "ProgressStyleModel",
     "state": {
      "_model_module": "@jupyter-widgets/controls",
      "_model_module_version": "1.5.0",
      "_model_name": "ProgressStyleModel",
      "_view_count": null,
      "_view_module": "@jupyter-widgets/base",
      "_view_module_version": "1.2.0",
      "_view_name": "StyleView",
      "bar_color": null,
      "description_width": "initial"
     }
    },
    "e6e42d9b44124870a26a4cc1a1fe0183": {
     "model_module": "@jupyter-widgets/controls",
     "model_name": "FloatProgressModel",
     "state": {
      "_dom_classes": [],
      "_model_module": "@jupyter-widgets/controls",
      "_model_module_version": "1.5.0",
      "_model_name": "FloatProgressModel",
      "_view_count": null,
      "_view_module": "@jupyter-widgets/controls",
      "_view_module_version": "1.5.0",
      "_view_name": "ProgressView",
      "bar_style": "info",
      "description": "",
      "description_tooltip": null,
      "layout": "IPY_MODEL_3a6157941da54755bafe19feac48990a",
      "max": 1,
      "min": 0,
      "orientation": "horizontal",
      "style": "IPY_MODEL_e2de52beeb9a4f8bac47a64c372fcaa2",
      "value": 1
     }
    },
    "e6e6741f9ab24da5afdcda625fa700c0": {
     "model_module": "@jupyter-widgets/controls",
     "model_name": "HTMLModel",
     "state": {
      "_dom_classes": [],
      "_model_module": "@jupyter-widgets/controls",
      "_model_module_version": "1.5.0",
      "_model_name": "HTMLModel",
      "_view_count": null,
      "_view_module": "@jupyter-widgets/controls",
      "_view_module_version": "1.5.0",
      "_view_name": "HTMLView",
      "description": "",
      "description_tooltip": null,
      "layout": "IPY_MODEL_d7bb26473f79446da15e4867cce3b25e",
      "placeholder": "​",
      "style": "IPY_MODEL_4a50551d379941469c8d5577435789ed",
      "value": " 4423680/? [00:01&lt;00:00, 2763899.03it/s]"
     }
    },
    "e8145dfcac6e45cf8a72176efd004a88": {
     "model_module": "@jupyter-widgets/controls",
     "model_name": "HTMLModel",
     "state": {
      "_dom_classes": [],
      "_model_module": "@jupyter-widgets/controls",
      "_model_module_version": "1.5.0",
      "_model_name": "HTMLModel",
      "_view_count": null,
      "_view_module": "@jupyter-widgets/controls",
      "_view_module_version": "1.5.0",
      "_view_name": "HTMLView",
      "description": "",
      "description_tooltip": null,
      "layout": "IPY_MODEL_353f3553676341ef8c2ba2a2049147e9",
      "placeholder": "​",
      "style": "IPY_MODEL_8bcde357d4ce45a2b6173b76f06aec94",
      "value": " 32768/? [00:02&lt;00:00, 15764.42it/s]"
     }
    }
   }
  }
 },
 "nbformat": 4,
 "nbformat_minor": 1
}
